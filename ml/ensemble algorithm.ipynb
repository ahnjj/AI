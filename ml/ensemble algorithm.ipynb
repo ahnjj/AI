{
 "cells": [
  {
   "cell_type": "markdown",
   "id": "fd78bc70-e372-4b95-b833-785cd882e977",
   "metadata": {},
   "source": [
    "## 앙상블 알고리즘"
   ]
  },
  {
   "cell_type": "code",
   "execution_count": null,
   "id": "4a82a344-897b-4559-9a6b-772ccaedf0a4",
   "metadata": {},
   "outputs": [],
   "source": []
  }
 ],
 "metadata": {
  "kernelspec": {
   "display_name": "Python 3 (ipykernel)",
   "language": "python",
   "name": "python3"
  },
  "language_info": {
   "codemirror_mode": {
    "name": "ipython",
    "version": 3
   },
   "file_extension": ".py",
   "mimetype": "text/x-python",
   "name": "python",
   "nbconvert_exporter": "python",
   "pygments_lexer": "ipython3",
   "version": "3.11.8"
  }
 },
 "nbformat": 4,
 "nbformat_minor": 5
}

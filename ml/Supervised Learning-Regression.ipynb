{
 "cells": [
  {
   "cell_type": "markdown",
   "id": "868ce8b2-a838-463b-8594-dd8b75a436d1",
   "metadata": {},
   "source": [
    "# **머신러닝- supervised Learning**\n",
    "### process\n",
    "- 1. data 준비 (load - dataset 나누기)\n",
    "  2. model 선정\n",
    "  3. model fit : fit()\n",
    "  4. predict : predict()\n",
    "  5. 성능평가 : +R^2, +Adjusted R^2, RMSE"
   ]
  },
  {
   "cell_type": "markdown",
   "id": "52159680-46bf-413d-bcd1-736d68fd4624",
   "metadata": {},
   "source": [
    "# **supervised learning - Regression**\n",
    "### Linear Regression\n"
   ]
  }
 ],
 "metadata": {
  "kernelspec": {
   "display_name": "Python 3 (ipykernel)",
   "language": "python",
   "name": "python3"
  },
  "language_info": {
   "codemirror_mode": {
    "name": "ipython",
    "version": 3
   },
   "file_extension": ".py",
   "mimetype": "text/x-python",
   "name": "python",
   "nbconvert_exporter": "python",
   "pygments_lexer": "ipython3",
   "version": "3.11.8"
  }
 },
 "nbformat": 4,
 "nbformat_minor": 5
}

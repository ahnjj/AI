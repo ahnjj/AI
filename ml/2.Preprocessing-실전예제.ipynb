{
 "cells": [
  {
   "cell_type": "markdown",
   "id": "e7e2afab-2a54-4447-9ffc-292afb425905",
   "metadata": {},
   "source": [
    "## **Preprocessing - 실전예제**\n",
    "### 공공데이터(건강진단 데이터"
   ]
  },
  {
   "cell_type": "code",
   "execution_count": 1,
   "id": "544e0bcb-cdd7-445e-95ba-2262afea8c73",
   "metadata": {},
   "outputs": [],
   "source": [
    "import pandas as pd\n",
    "import numpy as np\n",
    "import matplotlib.pyplot as plt\n",
    "import seaborn as sns\n",
    "%matplotlib inline\n",
    "\n",
    "from IPython.display import display\n",
    "import warnings\n",
    "warnings.filterwarnings('ignore')"
   ]
  },
  {
   "cell_type": "code",
   "execution_count": 3,
   "id": "1f6f6531-07af-4360-a767-17645bafefcf",
   "metadata": {},
   "outputs": [],
   "source": [
    "# 한글 폰트\n",
    "from matplotlib import font_manager, rc\n",
    "import sys"
   ]
  },
  {
   "cell_type": "markdown",
   "id": "6f8f60bd-ee9d-49fe-a3e8-cd025822a772",
   "metadata": {},
   "source": [
    "### 공공 데이터 읽어오기"
   ]
  },
  {
   "cell_type": "code",
   "execution_count": 6,
   "id": "32b67220-ce00-4ae7-ab02-26133c6aa004",
   "metadata": {},
   "outputs": [],
   "source": [
    "df = pd.read_csv(r'./data/건강검진정보(2017).csv', encoding='utf-8')"
   ]
  },
  {
   "cell_type": "code",
   "execution_count": 7,
   "id": "9d47986f-4bba-4cf7-9dfd-3978d30a09a7",
   "metadata": {},
   "outputs": [
    {
     "data": {
      "text/plain": [
       "(1000000, 34)"
      ]
     },
     "execution_count": 7,
     "metadata": {},
     "output_type": "execute_result"
    }
   ],
   "source": [
    "df.shape"
   ]
  },
  {
   "cell_type": "code",
   "execution_count": 8,
   "id": "01d2a281-04b8-4321-9ce7-85ae968b9102",
   "metadata": {
    "scrolled": true
   },
   "outputs": [
    {
     "name": "stdout",
     "output_type": "stream",
     "text": [
      "<class 'pandas.core.frame.DataFrame'>\n",
      "RangeIndex: 1000000 entries, 0 to 999999\n",
      "Data columns (total 34 columns):\n",
      " #   Column        Non-Null Count    Dtype  \n",
      "---  ------        --------------    -----  \n",
      " 0   기준년도          1000000 non-null  int64  \n",
      " 1   가입자일련번호       1000000 non-null  int64  \n",
      " 2   성별코드          1000000 non-null  int64  \n",
      " 3   연령대코드(5세단위)   1000000 non-null  int64  \n",
      " 4   시도코드          1000000 non-null  int64  \n",
      " 5   신장(5Cm단위)     1000000 non-null  int64  \n",
      " 6   체중(5Kg단위)     1000000 non-null  int64  \n",
      " 7   허리둘레          999734 non-null   float64\n",
      " 8   시력(좌)         999817 non-null   float64\n",
      " 9   시력(우)         999811 non-null   float64\n",
      " 10  청력(좌)         999842 non-null   float64\n",
      " 11  청력(우)         999844 non-null   float64\n",
      " 12  수축기혈압         999981 non-null   float64\n",
      " 13  이완기혈압         999982 non-null   float64\n",
      " 14  식전혈당(공복혈당)    999958 non-null   float64\n",
      " 15  총콜레스테롤        999957 non-null   float64\n",
      " 16  트리글리세라이드      999955 non-null   float64\n",
      " 17  HDL콜레스테롤      999956 non-null   float64\n",
      " 18  LDL콜레스테롤      997088 non-null   float64\n",
      " 19  혈색소           999948 non-null   float64\n",
      " 20  요단백           995408 non-null   float64\n",
      " 21  혈청크레아티닌       999957 non-null   float64\n",
      " 22  (혈청지오티)AST    999959 non-null   float64\n",
      " 23  (혈청지오티)ALT    999958 non-null   float64\n",
      " 24  감마지티피         999958 non-null   float64\n",
      " 25  흡연상태          999856 non-null   float64\n",
      " 26  음주여부          999464 non-null   float64\n",
      " 27  구강검진수검여부      1000000 non-null  int64  \n",
      " 28  치아우식증유무       0 non-null        float64\n",
      " 29  결손치유무         0 non-null        float64\n",
      " 30  치아마모증유무       0 non-null        float64\n",
      " 31  제3대구치(사랑니)이상  0 non-null        float64\n",
      " 32  치석            400523 non-null   float64\n",
      " 33  데이터공개일자       1000000 non-null  int64  \n",
      "dtypes: float64(25), int64(9)\n",
      "memory usage: 259.4 MB\n"
     ]
    }
   ],
   "source": [
    "df.info()\n",
    "# dtypes: float64(25), int64(9)\n",
    "# memory usage: 259.4 MB"
   ]
  },
  {
   "cell_type": "markdown",
   "id": "2c093722-2fb5-4f07-a854-1a00f1a065ba",
   "metadata": {},
   "source": [
    "### **숫자 타입 바이트 수 조정하기**"
   ]
  },
  {
   "cell_type": "code",
   "execution_count": 9,
   "id": "2b5a37c3-bc08-429e-97ce-3fb66b13ed5c",
   "metadata": {},
   "outputs": [],
   "source": [
    "# 자료형을 변환해서 메모리 사용량을 줄인다.\n",
    "for i in df.columns:\n",
    "    if df[i].dtype == np.int64:\n",
    "        df[i] = df[i].astype(np.int16)\n",
    "    if df[i].dtype == np.float64:\n",
    "        df[i] = df[i].astype(np.float32)"
   ]
  },
  {
   "cell_type": "markdown",
   "id": "51c81246-c027-4f61-95b0-1454a100b2b8",
   "metadata": {},
   "source": [
    "### **데이터 사용 메모리 절감**"
   ]
  },
  {
   "cell_type": "code",
   "execution_count": 10,
   "id": "fde1d3e3-4409-43c9-9fa3-1312110bcd18",
   "metadata": {
    "scrolled": true
   },
   "outputs": [
    {
     "name": "stdout",
     "output_type": "stream",
     "text": [
      "<class 'pandas.core.frame.DataFrame'>\n",
      "RangeIndex: 1000000 entries, 0 to 999999\n",
      "Data columns (total 34 columns):\n",
      " #   Column        Non-Null Count    Dtype  \n",
      "---  ------        --------------    -----  \n",
      " 0   기준년도          1000000 non-null  int16  \n",
      " 1   가입자일련번호       1000000 non-null  int16  \n",
      " 2   성별코드          1000000 non-null  int16  \n",
      " 3   연령대코드(5세단위)   1000000 non-null  int16  \n",
      " 4   시도코드          1000000 non-null  int16  \n",
      " 5   신장(5Cm단위)     1000000 non-null  int16  \n",
      " 6   체중(5Kg단위)     1000000 non-null  int16  \n",
      " 7   허리둘레          999734 non-null   float32\n",
      " 8   시력(좌)         999817 non-null   float32\n",
      " 9   시력(우)         999811 non-null   float32\n",
      " 10  청력(좌)         999842 non-null   float32\n",
      " 11  청력(우)         999844 non-null   float32\n",
      " 12  수축기혈압         999981 non-null   float32\n",
      " 13  이완기혈압         999982 non-null   float32\n",
      " 14  식전혈당(공복혈당)    999958 non-null   float32\n",
      " 15  총콜레스테롤        999957 non-null   float32\n",
      " 16  트리글리세라이드      999955 non-null   float32\n",
      " 17  HDL콜레스테롤      999956 non-null   float32\n",
      " 18  LDL콜레스테롤      997088 non-null   float32\n",
      " 19  혈색소           999948 non-null   float32\n",
      " 20  요단백           995408 non-null   float32\n",
      " 21  혈청크레아티닌       999957 non-null   float32\n",
      " 22  (혈청지오티)AST    999959 non-null   float32\n",
      " 23  (혈청지오티)ALT    999958 non-null   float32\n",
      " 24  감마지티피         999958 non-null   float32\n",
      " 25  흡연상태          999856 non-null   float32\n",
      " 26  음주여부          999464 non-null   float32\n",
      " 27  구강검진수검여부      1000000 non-null  int16  \n",
      " 28  치아우식증유무       0 non-null        float32\n",
      " 29  결손치유무         0 non-null        float32\n",
      " 30  치아마모증유무       0 non-null        float32\n",
      " 31  제3대구치(사랑니)이상  0 non-null        float32\n",
      " 32  치석            400523 non-null   float32\n",
      " 33  데이터공개일자       1000000 non-null  int16  \n",
      "dtypes: float32(25), int16(9)\n",
      "memory usage: 112.5 MB\n"
     ]
    }
   ],
   "source": [
    "df.info()\n",
    "# dtypes: float32(25), int16(9)\n",
    "# memory usage: 112.5 MB"
   ]
  },
  {
   "cell_type": "markdown",
   "id": "44df3e4a-7210-4513-8cf1-6aabbba77081",
   "metadata": {},
   "source": [
    "## **데이터 전처리** \n",
    "### **1. null 제거**"
   ]
  },
  {
   "cell_type": "code",
   "execution_count": 11,
   "id": "995ff556-3c1a-434e-a107-d929287aeefc",
   "metadata": {
    "scrolled": true
   },
   "outputs": [
    {
     "data": {
      "text/html": [
       "<div>\n",
       "<style scoped>\n",
       "    .dataframe tbody tr th:only-of-type {\n",
       "        vertical-align: middle;\n",
       "    }\n",
       "\n",
       "    .dataframe tbody tr th {\n",
       "        vertical-align: top;\n",
       "    }\n",
       "\n",
       "    .dataframe thead th {\n",
       "        text-align: right;\n",
       "    }\n",
       "</style>\n",
       "<table border=\"1\" class=\"dataframe\">\n",
       "  <thead>\n",
       "    <tr style=\"text-align: right;\">\n",
       "      <th></th>\n",
       "      <th>기준년도</th>\n",
       "      <th>가입자일련번호</th>\n",
       "      <th>성별코드</th>\n",
       "      <th>연령대코드(5세단위)</th>\n",
       "      <th>시도코드</th>\n",
       "      <th>신장(5Cm단위)</th>\n",
       "      <th>체중(5Kg단위)</th>\n",
       "      <th>허리둘레</th>\n",
       "      <th>시력(좌)</th>\n",
       "      <th>시력(우)</th>\n",
       "      <th>...</th>\n",
       "      <th>감마지티피</th>\n",
       "      <th>흡연상태</th>\n",
       "      <th>음주여부</th>\n",
       "      <th>구강검진수검여부</th>\n",
       "      <th>치아우식증유무</th>\n",
       "      <th>결손치유무</th>\n",
       "      <th>치아마모증유무</th>\n",
       "      <th>제3대구치(사랑니)이상</th>\n",
       "      <th>치석</th>\n",
       "      <th>데이터공개일자</th>\n",
       "    </tr>\n",
       "  </thead>\n",
       "  <tbody>\n",
       "    <tr>\n",
       "      <th>0</th>\n",
       "      <td>False</td>\n",
       "      <td>False</td>\n",
       "      <td>False</td>\n",
       "      <td>False</td>\n",
       "      <td>False</td>\n",
       "      <td>False</td>\n",
       "      <td>False</td>\n",
       "      <td>False</td>\n",
       "      <td>False</td>\n",
       "      <td>False</td>\n",
       "      <td>...</td>\n",
       "      <td>False</td>\n",
       "      <td>False</td>\n",
       "      <td>False</td>\n",
       "      <td>False</td>\n",
       "      <td>True</td>\n",
       "      <td>True</td>\n",
       "      <td>True</td>\n",
       "      <td>True</td>\n",
       "      <td>False</td>\n",
       "      <td>False</td>\n",
       "    </tr>\n",
       "    <tr>\n",
       "      <th>1</th>\n",
       "      <td>False</td>\n",
       "      <td>False</td>\n",
       "      <td>False</td>\n",
       "      <td>False</td>\n",
       "      <td>False</td>\n",
       "      <td>False</td>\n",
       "      <td>False</td>\n",
       "      <td>False</td>\n",
       "      <td>False</td>\n",
       "      <td>False</td>\n",
       "      <td>...</td>\n",
       "      <td>False</td>\n",
       "      <td>False</td>\n",
       "      <td>False</td>\n",
       "      <td>False</td>\n",
       "      <td>True</td>\n",
       "      <td>True</td>\n",
       "      <td>True</td>\n",
       "      <td>True</td>\n",
       "      <td>False</td>\n",
       "      <td>False</td>\n",
       "    </tr>\n",
       "    <tr>\n",
       "      <th>2</th>\n",
       "      <td>False</td>\n",
       "      <td>False</td>\n",
       "      <td>False</td>\n",
       "      <td>False</td>\n",
       "      <td>False</td>\n",
       "      <td>False</td>\n",
       "      <td>False</td>\n",
       "      <td>False</td>\n",
       "      <td>False</td>\n",
       "      <td>False</td>\n",
       "      <td>...</td>\n",
       "      <td>False</td>\n",
       "      <td>False</td>\n",
       "      <td>False</td>\n",
       "      <td>False</td>\n",
       "      <td>True</td>\n",
       "      <td>True</td>\n",
       "      <td>True</td>\n",
       "      <td>True</td>\n",
       "      <td>True</td>\n",
       "      <td>False</td>\n",
       "    </tr>\n",
       "    <tr>\n",
       "      <th>3</th>\n",
       "      <td>False</td>\n",
       "      <td>False</td>\n",
       "      <td>False</td>\n",
       "      <td>False</td>\n",
       "      <td>False</td>\n",
       "      <td>False</td>\n",
       "      <td>False</td>\n",
       "      <td>False</td>\n",
       "      <td>False</td>\n",
       "      <td>False</td>\n",
       "      <td>...</td>\n",
       "      <td>False</td>\n",
       "      <td>False</td>\n",
       "      <td>False</td>\n",
       "      <td>False</td>\n",
       "      <td>True</td>\n",
       "      <td>True</td>\n",
       "      <td>True</td>\n",
       "      <td>True</td>\n",
       "      <td>False</td>\n",
       "      <td>False</td>\n",
       "    </tr>\n",
       "    <tr>\n",
       "      <th>4</th>\n",
       "      <td>False</td>\n",
       "      <td>False</td>\n",
       "      <td>False</td>\n",
       "      <td>False</td>\n",
       "      <td>False</td>\n",
       "      <td>False</td>\n",
       "      <td>False</td>\n",
       "      <td>False</td>\n",
       "      <td>False</td>\n",
       "      <td>False</td>\n",
       "      <td>...</td>\n",
       "      <td>False</td>\n",
       "      <td>False</td>\n",
       "      <td>False</td>\n",
       "      <td>False</td>\n",
       "      <td>True</td>\n",
       "      <td>True</td>\n",
       "      <td>True</td>\n",
       "      <td>True</td>\n",
       "      <td>False</td>\n",
       "      <td>False</td>\n",
       "    </tr>\n",
       "    <tr>\n",
       "      <th>...</th>\n",
       "      <td>...</td>\n",
       "      <td>...</td>\n",
       "      <td>...</td>\n",
       "      <td>...</td>\n",
       "      <td>...</td>\n",
       "      <td>...</td>\n",
       "      <td>...</td>\n",
       "      <td>...</td>\n",
       "      <td>...</td>\n",
       "      <td>...</td>\n",
       "      <td>...</td>\n",
       "      <td>...</td>\n",
       "      <td>...</td>\n",
       "      <td>...</td>\n",
       "      <td>...</td>\n",
       "      <td>...</td>\n",
       "      <td>...</td>\n",
       "      <td>...</td>\n",
       "      <td>...</td>\n",
       "      <td>...</td>\n",
       "      <td>...</td>\n",
       "    </tr>\n",
       "    <tr>\n",
       "      <th>999995</th>\n",
       "      <td>False</td>\n",
       "      <td>False</td>\n",
       "      <td>False</td>\n",
       "      <td>False</td>\n",
       "      <td>False</td>\n",
       "      <td>False</td>\n",
       "      <td>False</td>\n",
       "      <td>False</td>\n",
       "      <td>False</td>\n",
       "      <td>False</td>\n",
       "      <td>...</td>\n",
       "      <td>False</td>\n",
       "      <td>False</td>\n",
       "      <td>False</td>\n",
       "      <td>False</td>\n",
       "      <td>True</td>\n",
       "      <td>True</td>\n",
       "      <td>True</td>\n",
       "      <td>True</td>\n",
       "      <td>True</td>\n",
       "      <td>False</td>\n",
       "    </tr>\n",
       "    <tr>\n",
       "      <th>999996</th>\n",
       "      <td>False</td>\n",
       "      <td>False</td>\n",
       "      <td>False</td>\n",
       "      <td>False</td>\n",
       "      <td>False</td>\n",
       "      <td>False</td>\n",
       "      <td>False</td>\n",
       "      <td>False</td>\n",
       "      <td>False</td>\n",
       "      <td>False</td>\n",
       "      <td>...</td>\n",
       "      <td>False</td>\n",
       "      <td>False</td>\n",
       "      <td>False</td>\n",
       "      <td>False</td>\n",
       "      <td>True</td>\n",
       "      <td>True</td>\n",
       "      <td>True</td>\n",
       "      <td>True</td>\n",
       "      <td>True</td>\n",
       "      <td>False</td>\n",
       "    </tr>\n",
       "    <tr>\n",
       "      <th>999997</th>\n",
       "      <td>False</td>\n",
       "      <td>False</td>\n",
       "      <td>False</td>\n",
       "      <td>False</td>\n",
       "      <td>False</td>\n",
       "      <td>False</td>\n",
       "      <td>False</td>\n",
       "      <td>False</td>\n",
       "      <td>False</td>\n",
       "      <td>False</td>\n",
       "      <td>...</td>\n",
       "      <td>False</td>\n",
       "      <td>False</td>\n",
       "      <td>False</td>\n",
       "      <td>False</td>\n",
       "      <td>True</td>\n",
       "      <td>True</td>\n",
       "      <td>True</td>\n",
       "      <td>True</td>\n",
       "      <td>True</td>\n",
       "      <td>False</td>\n",
       "    </tr>\n",
       "    <tr>\n",
       "      <th>999998</th>\n",
       "      <td>False</td>\n",
       "      <td>False</td>\n",
       "      <td>False</td>\n",
       "      <td>False</td>\n",
       "      <td>False</td>\n",
       "      <td>False</td>\n",
       "      <td>False</td>\n",
       "      <td>False</td>\n",
       "      <td>False</td>\n",
       "      <td>False</td>\n",
       "      <td>...</td>\n",
       "      <td>False</td>\n",
       "      <td>False</td>\n",
       "      <td>False</td>\n",
       "      <td>False</td>\n",
       "      <td>True</td>\n",
       "      <td>True</td>\n",
       "      <td>True</td>\n",
       "      <td>True</td>\n",
       "      <td>True</td>\n",
       "      <td>False</td>\n",
       "    </tr>\n",
       "    <tr>\n",
       "      <th>999999</th>\n",
       "      <td>False</td>\n",
       "      <td>False</td>\n",
       "      <td>False</td>\n",
       "      <td>False</td>\n",
       "      <td>False</td>\n",
       "      <td>False</td>\n",
       "      <td>False</td>\n",
       "      <td>False</td>\n",
       "      <td>False</td>\n",
       "      <td>False</td>\n",
       "      <td>...</td>\n",
       "      <td>False</td>\n",
       "      <td>False</td>\n",
       "      <td>False</td>\n",
       "      <td>False</td>\n",
       "      <td>True</td>\n",
       "      <td>True</td>\n",
       "      <td>True</td>\n",
       "      <td>True</td>\n",
       "      <td>True</td>\n",
       "      <td>False</td>\n",
       "    </tr>\n",
       "  </tbody>\n",
       "</table>\n",
       "<p>1000000 rows × 34 columns</p>\n",
       "</div>"
      ],
      "text/plain": [
       "         기준년도  가입자일련번호   성별코드  연령대코드(5세단위)   시도코드  신장(5Cm단위)  체중(5Kg단위)  \\\n",
       "0       False    False  False        False  False      False      False   \n",
       "1       False    False  False        False  False      False      False   \n",
       "2       False    False  False        False  False      False      False   \n",
       "3       False    False  False        False  False      False      False   \n",
       "4       False    False  False        False  False      False      False   \n",
       "...       ...      ...    ...          ...    ...        ...        ...   \n",
       "999995  False    False  False        False  False      False      False   \n",
       "999996  False    False  False        False  False      False      False   \n",
       "999997  False    False  False        False  False      False      False   \n",
       "999998  False    False  False        False  False      False      False   \n",
       "999999  False    False  False        False  False      False      False   \n",
       "\n",
       "         허리둘레  시력(좌)  시력(우)  ...  감마지티피   흡연상태   음주여부  구강검진수검여부  치아우식증유무  \\\n",
       "0       False  False  False  ...  False  False  False     False     True   \n",
       "1       False  False  False  ...  False  False  False     False     True   \n",
       "2       False  False  False  ...  False  False  False     False     True   \n",
       "3       False  False  False  ...  False  False  False     False     True   \n",
       "4       False  False  False  ...  False  False  False     False     True   \n",
       "...       ...    ...    ...  ...    ...    ...    ...       ...      ...   \n",
       "999995  False  False  False  ...  False  False  False     False     True   \n",
       "999996  False  False  False  ...  False  False  False     False     True   \n",
       "999997  False  False  False  ...  False  False  False     False     True   \n",
       "999998  False  False  False  ...  False  False  False     False     True   \n",
       "999999  False  False  False  ...  False  False  False     False     True   \n",
       "\n",
       "        결손치유무  치아마모증유무  제3대구치(사랑니)이상     치석  데이터공개일자  \n",
       "0        True     True          True  False    False  \n",
       "1        True     True          True  False    False  \n",
       "2        True     True          True   True    False  \n",
       "3        True     True          True  False    False  \n",
       "4        True     True          True  False    False  \n",
       "...       ...      ...           ...    ...      ...  \n",
       "999995   True     True          True   True    False  \n",
       "999996   True     True          True   True    False  \n",
       "999997   True     True          True   True    False  \n",
       "999998   True     True          True   True    False  \n",
       "999999   True     True          True   True    False  \n",
       "\n",
       "[1000000 rows x 34 columns]"
      ]
     },
     "execution_count": 11,
     "metadata": {},
     "output_type": "execute_result"
    }
   ],
   "source": [
    "# 1. null 확인 - isna/ isnull\n",
    "df.isna()"
   ]
  },
  {
   "cell_type": "code",
   "execution_count": 12,
   "id": "906190bd-8747-47f7-80ae-2263cd14d5ac",
   "metadata": {
    "scrolled": true
   },
   "outputs": [
    {
     "data": {
      "text/html": [
       "<div>\n",
       "<style scoped>\n",
       "    .dataframe tbody tr th:only-of-type {\n",
       "        vertical-align: middle;\n",
       "    }\n",
       "\n",
       "    .dataframe tbody tr th {\n",
       "        vertical-align: top;\n",
       "    }\n",
       "\n",
       "    .dataframe thead th {\n",
       "        text-align: right;\n",
       "    }\n",
       "</style>\n",
       "<table border=\"1\" class=\"dataframe\">\n",
       "  <thead>\n",
       "    <tr style=\"text-align: right;\">\n",
       "      <th></th>\n",
       "      <th>기준년도</th>\n",
       "      <th>가입자일련번호</th>\n",
       "      <th>성별코드</th>\n",
       "      <th>연령대코드(5세단위)</th>\n",
       "      <th>시도코드</th>\n",
       "      <th>신장(5Cm단위)</th>\n",
       "      <th>체중(5Kg단위)</th>\n",
       "      <th>허리둘레</th>\n",
       "      <th>시력(좌)</th>\n",
       "      <th>시력(우)</th>\n",
       "      <th>...</th>\n",
       "      <th>감마지티피</th>\n",
       "      <th>흡연상태</th>\n",
       "      <th>음주여부</th>\n",
       "      <th>구강검진수검여부</th>\n",
       "      <th>치아우식증유무</th>\n",
       "      <th>결손치유무</th>\n",
       "      <th>치아마모증유무</th>\n",
       "      <th>제3대구치(사랑니)이상</th>\n",
       "      <th>치석</th>\n",
       "      <th>데이터공개일자</th>\n",
       "    </tr>\n",
       "  </thead>\n",
       "  <tbody>\n",
       "    <tr>\n",
       "      <th>0</th>\n",
       "      <td>False</td>\n",
       "      <td>False</td>\n",
       "      <td>False</td>\n",
       "      <td>False</td>\n",
       "      <td>False</td>\n",
       "      <td>False</td>\n",
       "      <td>False</td>\n",
       "      <td>False</td>\n",
       "      <td>False</td>\n",
       "      <td>False</td>\n",
       "      <td>...</td>\n",
       "      <td>False</td>\n",
       "      <td>False</td>\n",
       "      <td>False</td>\n",
       "      <td>False</td>\n",
       "      <td>True</td>\n",
       "      <td>True</td>\n",
       "      <td>True</td>\n",
       "      <td>True</td>\n",
       "      <td>False</td>\n",
       "      <td>False</td>\n",
       "    </tr>\n",
       "    <tr>\n",
       "      <th>1</th>\n",
       "      <td>False</td>\n",
       "      <td>False</td>\n",
       "      <td>False</td>\n",
       "      <td>False</td>\n",
       "      <td>False</td>\n",
       "      <td>False</td>\n",
       "      <td>False</td>\n",
       "      <td>False</td>\n",
       "      <td>False</td>\n",
       "      <td>False</td>\n",
       "      <td>...</td>\n",
       "      <td>False</td>\n",
       "      <td>False</td>\n",
       "      <td>False</td>\n",
       "      <td>False</td>\n",
       "      <td>True</td>\n",
       "      <td>True</td>\n",
       "      <td>True</td>\n",
       "      <td>True</td>\n",
       "      <td>False</td>\n",
       "      <td>False</td>\n",
       "    </tr>\n",
       "    <tr>\n",
       "      <th>2</th>\n",
       "      <td>False</td>\n",
       "      <td>False</td>\n",
       "      <td>False</td>\n",
       "      <td>False</td>\n",
       "      <td>False</td>\n",
       "      <td>False</td>\n",
       "      <td>False</td>\n",
       "      <td>False</td>\n",
       "      <td>False</td>\n",
       "      <td>False</td>\n",
       "      <td>...</td>\n",
       "      <td>False</td>\n",
       "      <td>False</td>\n",
       "      <td>False</td>\n",
       "      <td>False</td>\n",
       "      <td>True</td>\n",
       "      <td>True</td>\n",
       "      <td>True</td>\n",
       "      <td>True</td>\n",
       "      <td>True</td>\n",
       "      <td>False</td>\n",
       "    </tr>\n",
       "    <tr>\n",
       "      <th>3</th>\n",
       "      <td>False</td>\n",
       "      <td>False</td>\n",
       "      <td>False</td>\n",
       "      <td>False</td>\n",
       "      <td>False</td>\n",
       "      <td>False</td>\n",
       "      <td>False</td>\n",
       "      <td>False</td>\n",
       "      <td>False</td>\n",
       "      <td>False</td>\n",
       "      <td>...</td>\n",
       "      <td>False</td>\n",
       "      <td>False</td>\n",
       "      <td>False</td>\n",
       "      <td>False</td>\n",
       "      <td>True</td>\n",
       "      <td>True</td>\n",
       "      <td>True</td>\n",
       "      <td>True</td>\n",
       "      <td>False</td>\n",
       "      <td>False</td>\n",
       "    </tr>\n",
       "    <tr>\n",
       "      <th>4</th>\n",
       "      <td>False</td>\n",
       "      <td>False</td>\n",
       "      <td>False</td>\n",
       "      <td>False</td>\n",
       "      <td>False</td>\n",
       "      <td>False</td>\n",
       "      <td>False</td>\n",
       "      <td>False</td>\n",
       "      <td>False</td>\n",
       "      <td>False</td>\n",
       "      <td>...</td>\n",
       "      <td>False</td>\n",
       "      <td>False</td>\n",
       "      <td>False</td>\n",
       "      <td>False</td>\n",
       "      <td>True</td>\n",
       "      <td>True</td>\n",
       "      <td>True</td>\n",
       "      <td>True</td>\n",
       "      <td>False</td>\n",
       "      <td>False</td>\n",
       "    </tr>\n",
       "    <tr>\n",
       "      <th>...</th>\n",
       "      <td>...</td>\n",
       "      <td>...</td>\n",
       "      <td>...</td>\n",
       "      <td>...</td>\n",
       "      <td>...</td>\n",
       "      <td>...</td>\n",
       "      <td>...</td>\n",
       "      <td>...</td>\n",
       "      <td>...</td>\n",
       "      <td>...</td>\n",
       "      <td>...</td>\n",
       "      <td>...</td>\n",
       "      <td>...</td>\n",
       "      <td>...</td>\n",
       "      <td>...</td>\n",
       "      <td>...</td>\n",
       "      <td>...</td>\n",
       "      <td>...</td>\n",
       "      <td>...</td>\n",
       "      <td>...</td>\n",
       "      <td>...</td>\n",
       "    </tr>\n",
       "    <tr>\n",
       "      <th>999995</th>\n",
       "      <td>False</td>\n",
       "      <td>False</td>\n",
       "      <td>False</td>\n",
       "      <td>False</td>\n",
       "      <td>False</td>\n",
       "      <td>False</td>\n",
       "      <td>False</td>\n",
       "      <td>False</td>\n",
       "      <td>False</td>\n",
       "      <td>False</td>\n",
       "      <td>...</td>\n",
       "      <td>False</td>\n",
       "      <td>False</td>\n",
       "      <td>False</td>\n",
       "      <td>False</td>\n",
       "      <td>True</td>\n",
       "      <td>True</td>\n",
       "      <td>True</td>\n",
       "      <td>True</td>\n",
       "      <td>True</td>\n",
       "      <td>False</td>\n",
       "    </tr>\n",
       "    <tr>\n",
       "      <th>999996</th>\n",
       "      <td>False</td>\n",
       "      <td>False</td>\n",
       "      <td>False</td>\n",
       "      <td>False</td>\n",
       "      <td>False</td>\n",
       "      <td>False</td>\n",
       "      <td>False</td>\n",
       "      <td>False</td>\n",
       "      <td>False</td>\n",
       "      <td>False</td>\n",
       "      <td>...</td>\n",
       "      <td>False</td>\n",
       "      <td>False</td>\n",
       "      <td>False</td>\n",
       "      <td>False</td>\n",
       "      <td>True</td>\n",
       "      <td>True</td>\n",
       "      <td>True</td>\n",
       "      <td>True</td>\n",
       "      <td>True</td>\n",
       "      <td>False</td>\n",
       "    </tr>\n",
       "    <tr>\n",
       "      <th>999997</th>\n",
       "      <td>False</td>\n",
       "      <td>False</td>\n",
       "      <td>False</td>\n",
       "      <td>False</td>\n",
       "      <td>False</td>\n",
       "      <td>False</td>\n",
       "      <td>False</td>\n",
       "      <td>False</td>\n",
       "      <td>False</td>\n",
       "      <td>False</td>\n",
       "      <td>...</td>\n",
       "      <td>False</td>\n",
       "      <td>False</td>\n",
       "      <td>False</td>\n",
       "      <td>False</td>\n",
       "      <td>True</td>\n",
       "      <td>True</td>\n",
       "      <td>True</td>\n",
       "      <td>True</td>\n",
       "      <td>True</td>\n",
       "      <td>False</td>\n",
       "    </tr>\n",
       "    <tr>\n",
       "      <th>999998</th>\n",
       "      <td>False</td>\n",
       "      <td>False</td>\n",
       "      <td>False</td>\n",
       "      <td>False</td>\n",
       "      <td>False</td>\n",
       "      <td>False</td>\n",
       "      <td>False</td>\n",
       "      <td>False</td>\n",
       "      <td>False</td>\n",
       "      <td>False</td>\n",
       "      <td>...</td>\n",
       "      <td>False</td>\n",
       "      <td>False</td>\n",
       "      <td>False</td>\n",
       "      <td>False</td>\n",
       "      <td>True</td>\n",
       "      <td>True</td>\n",
       "      <td>True</td>\n",
       "      <td>True</td>\n",
       "      <td>True</td>\n",
       "      <td>False</td>\n",
       "    </tr>\n",
       "    <tr>\n",
       "      <th>999999</th>\n",
       "      <td>False</td>\n",
       "      <td>False</td>\n",
       "      <td>False</td>\n",
       "      <td>False</td>\n",
       "      <td>False</td>\n",
       "      <td>False</td>\n",
       "      <td>False</td>\n",
       "      <td>False</td>\n",
       "      <td>False</td>\n",
       "      <td>False</td>\n",
       "      <td>...</td>\n",
       "      <td>False</td>\n",
       "      <td>False</td>\n",
       "      <td>False</td>\n",
       "      <td>False</td>\n",
       "      <td>True</td>\n",
       "      <td>True</td>\n",
       "      <td>True</td>\n",
       "      <td>True</td>\n",
       "      <td>True</td>\n",
       "      <td>False</td>\n",
       "    </tr>\n",
       "  </tbody>\n",
       "</table>\n",
       "<p>1000000 rows × 34 columns</p>\n",
       "</div>"
      ],
      "text/plain": [
       "         기준년도  가입자일련번호   성별코드  연령대코드(5세단위)   시도코드  신장(5Cm단위)  체중(5Kg단위)  \\\n",
       "0       False    False  False        False  False      False      False   \n",
       "1       False    False  False        False  False      False      False   \n",
       "2       False    False  False        False  False      False      False   \n",
       "3       False    False  False        False  False      False      False   \n",
       "4       False    False  False        False  False      False      False   \n",
       "...       ...      ...    ...          ...    ...        ...        ...   \n",
       "999995  False    False  False        False  False      False      False   \n",
       "999996  False    False  False        False  False      False      False   \n",
       "999997  False    False  False        False  False      False      False   \n",
       "999998  False    False  False        False  False      False      False   \n",
       "999999  False    False  False        False  False      False      False   \n",
       "\n",
       "         허리둘레  시력(좌)  시력(우)  ...  감마지티피   흡연상태   음주여부  구강검진수검여부  치아우식증유무  \\\n",
       "0       False  False  False  ...  False  False  False     False     True   \n",
       "1       False  False  False  ...  False  False  False     False     True   \n",
       "2       False  False  False  ...  False  False  False     False     True   \n",
       "3       False  False  False  ...  False  False  False     False     True   \n",
       "4       False  False  False  ...  False  False  False     False     True   \n",
       "...       ...    ...    ...  ...    ...    ...    ...       ...      ...   \n",
       "999995  False  False  False  ...  False  False  False     False     True   \n",
       "999996  False  False  False  ...  False  False  False     False     True   \n",
       "999997  False  False  False  ...  False  False  False     False     True   \n",
       "999998  False  False  False  ...  False  False  False     False     True   \n",
       "999999  False  False  False  ...  False  False  False     False     True   \n",
       "\n",
       "        결손치유무  치아마모증유무  제3대구치(사랑니)이상     치석  데이터공개일자  \n",
       "0        True     True          True  False    False  \n",
       "1        True     True          True  False    False  \n",
       "2        True     True          True   True    False  \n",
       "3        True     True          True  False    False  \n",
       "4        True     True          True  False    False  \n",
       "...       ...      ...           ...    ...      ...  \n",
       "999995   True     True          True   True    False  \n",
       "999996   True     True          True   True    False  \n",
       "999997   True     True          True   True    False  \n",
       "999998   True     True          True   True    False  \n",
       "999999   True     True          True   True    False  \n",
       "\n",
       "[1000000 rows x 34 columns]"
      ]
     },
     "execution_count": 12,
     "metadata": {},
     "output_type": "execute_result"
    }
   ],
   "source": [
    "df.isnull()"
   ]
  },
  {
   "cell_type": "code",
   "execution_count": 13,
   "id": "467225c0-7b35-45a4-a042-9b12ddb7cff7",
   "metadata": {
    "scrolled": true
   },
   "outputs": [
    {
     "data": {
      "text/plain": [
       "기준년도                  0\n",
       "가입자일련번호               0\n",
       "성별코드                  0\n",
       "연령대코드(5세단위)           0\n",
       "시도코드                  0\n",
       "신장(5Cm단위)             0\n",
       "체중(5Kg단위)             0\n",
       "허리둘레                266\n",
       "시력(좌)               183\n",
       "시력(우)               189\n",
       "청력(좌)               158\n",
       "청력(우)               156\n",
       "수축기혈압                19\n",
       "이완기혈압                18\n",
       "식전혈당(공복혈당)           42\n",
       "총콜레스테롤               43\n",
       "트리글리세라이드             45\n",
       "HDL콜레스테롤             44\n",
       "LDL콜레스테롤           2912\n",
       "혈색소                  52\n",
       "요단백                4592\n",
       "혈청크레아티닌              43\n",
       "(혈청지오티)AST           41\n",
       "(혈청지오티)ALT           42\n",
       "감마지티피                42\n",
       "흡연상태                144\n",
       "음주여부                536\n",
       "구강검진수검여부              0\n",
       "치아우식증유무         1000000\n",
       "결손치유무           1000000\n",
       "치아마모증유무         1000000\n",
       "제3대구치(사랑니)이상    1000000\n",
       "치석               599477\n",
       "데이터공개일자               0\n",
       "dtype: int64"
      ]
     },
     "execution_count": 13,
     "metadata": {},
     "output_type": "execute_result"
    }
   ],
   "source": [
    "# null 수 확인\n",
    "df.isna().sum()"
   ]
  },
  {
   "cell_type": "code",
   "execution_count": 14,
   "id": "5a812395-fb24-4481-9333-0d43db1aa409",
   "metadata": {},
   "outputs": [
    {
     "data": {
      "text/plain": [
       "4609044"
      ]
     },
     "execution_count": 14,
     "metadata": {},
     "output_type": "execute_result"
    }
   ],
   "source": [
    "# null의 전체 개수\n",
    "df.isna().sum().sum()"
   ]
  },
  {
   "cell_type": "code",
   "execution_count": 15,
   "id": "fdd08eb0-75c8-48a1-b309-6a1ea1019d61",
   "metadata": {},
   "outputs": [],
   "source": [
    "# 2. null 제거 및 대체 - fillna(). dropna()\n",
    "df = df.fillna(0)"
   ]
  },
  {
   "cell_type": "code",
   "execution_count": 16,
   "id": "dd443d43-1734-4dd6-8ad8-75718b80703d",
   "metadata": {},
   "outputs": [
    {
     "data": {
      "text/html": [
       "<div>\n",
       "<style scoped>\n",
       "    .dataframe tbody tr th:only-of-type {\n",
       "        vertical-align: middle;\n",
       "    }\n",
       "\n",
       "    .dataframe tbody tr th {\n",
       "        vertical-align: top;\n",
       "    }\n",
       "\n",
       "    .dataframe thead th {\n",
       "        text-align: right;\n",
       "    }\n",
       "</style>\n",
       "<table border=\"1\" class=\"dataframe\">\n",
       "  <thead>\n",
       "    <tr style=\"text-align: right;\">\n",
       "      <th></th>\n",
       "      <th>기준년도</th>\n",
       "      <th>가입자일련번호</th>\n",
       "      <th>성별코드</th>\n",
       "      <th>연령대코드(5세단위)</th>\n",
       "      <th>시도코드</th>\n",
       "      <th>신장(5Cm단위)</th>\n",
       "      <th>체중(5Kg단위)</th>\n",
       "      <th>허리둘레</th>\n",
       "      <th>시력(좌)</th>\n",
       "      <th>시력(우)</th>\n",
       "      <th>...</th>\n",
       "      <th>감마지티피</th>\n",
       "      <th>흡연상태</th>\n",
       "      <th>음주여부</th>\n",
       "      <th>구강검진수검여부</th>\n",
       "      <th>치아우식증유무</th>\n",
       "      <th>결손치유무</th>\n",
       "      <th>치아마모증유무</th>\n",
       "      <th>제3대구치(사랑니)이상</th>\n",
       "      <th>치석</th>\n",
       "      <th>데이터공개일자</th>\n",
       "    </tr>\n",
       "  </thead>\n",
       "  <tbody>\n",
       "    <tr>\n",
       "      <th>0</th>\n",
       "      <td>2017</td>\n",
       "      <td>1</td>\n",
       "      <td>1</td>\n",
       "      <td>8</td>\n",
       "      <td>43</td>\n",
       "      <td>170</td>\n",
       "      <td>75</td>\n",
       "      <td>90.0</td>\n",
       "      <td>1.0</td>\n",
       "      <td>1.0</td>\n",
       "      <td>...</td>\n",
       "      <td>40.0</td>\n",
       "      <td>1.0</td>\n",
       "      <td>1.0</td>\n",
       "      <td>1</td>\n",
       "      <td>0.0</td>\n",
       "      <td>0.0</td>\n",
       "      <td>0.0</td>\n",
       "      <td>0.0</td>\n",
       "      <td>1.0</td>\n",
       "      <td>-3962</td>\n",
       "    </tr>\n",
       "    <tr>\n",
       "      <th>1</th>\n",
       "      <td>2017</td>\n",
       "      <td>2</td>\n",
       "      <td>1</td>\n",
       "      <td>7</td>\n",
       "      <td>11</td>\n",
       "      <td>180</td>\n",
       "      <td>80</td>\n",
       "      <td>89.0</td>\n",
       "      <td>0.9</td>\n",
       "      <td>1.2</td>\n",
       "      <td>...</td>\n",
       "      <td>27.0</td>\n",
       "      <td>3.0</td>\n",
       "      <td>0.0</td>\n",
       "      <td>1</td>\n",
       "      <td>0.0</td>\n",
       "      <td>0.0</td>\n",
       "      <td>0.0</td>\n",
       "      <td>0.0</td>\n",
       "      <td>2.0</td>\n",
       "      <td>-3962</td>\n",
       "    </tr>\n",
       "    <tr>\n",
       "      <th>2</th>\n",
       "      <td>2017</td>\n",
       "      <td>3</td>\n",
       "      <td>1</td>\n",
       "      <td>9</td>\n",
       "      <td>41</td>\n",
       "      <td>165</td>\n",
       "      <td>75</td>\n",
       "      <td>91.0</td>\n",
       "      <td>1.2</td>\n",
       "      <td>1.5</td>\n",
       "      <td>...</td>\n",
       "      <td>68.0</td>\n",
       "      <td>1.0</td>\n",
       "      <td>0.0</td>\n",
       "      <td>0</td>\n",
       "      <td>0.0</td>\n",
       "      <td>0.0</td>\n",
       "      <td>0.0</td>\n",
       "      <td>0.0</td>\n",
       "      <td>0.0</td>\n",
       "      <td>-3962</td>\n",
       "    </tr>\n",
       "    <tr>\n",
       "      <th>3</th>\n",
       "      <td>2017</td>\n",
       "      <td>4</td>\n",
       "      <td>1</td>\n",
       "      <td>11</td>\n",
       "      <td>48</td>\n",
       "      <td>175</td>\n",
       "      <td>80</td>\n",
       "      <td>91.0</td>\n",
       "      <td>1.5</td>\n",
       "      <td>1.2</td>\n",
       "      <td>...</td>\n",
       "      <td>18.0</td>\n",
       "      <td>1.0</td>\n",
       "      <td>0.0</td>\n",
       "      <td>1</td>\n",
       "      <td>0.0</td>\n",
       "      <td>0.0</td>\n",
       "      <td>0.0</td>\n",
       "      <td>0.0</td>\n",
       "      <td>0.0</td>\n",
       "      <td>-3962</td>\n",
       "    </tr>\n",
       "    <tr>\n",
       "      <th>4</th>\n",
       "      <td>2017</td>\n",
       "      <td>5</td>\n",
       "      <td>1</td>\n",
       "      <td>11</td>\n",
       "      <td>30</td>\n",
       "      <td>165</td>\n",
       "      <td>60</td>\n",
       "      <td>80.0</td>\n",
       "      <td>1.0</td>\n",
       "      <td>1.2</td>\n",
       "      <td>...</td>\n",
       "      <td>25.0</td>\n",
       "      <td>1.0</td>\n",
       "      <td>0.0</td>\n",
       "      <td>1</td>\n",
       "      <td>0.0</td>\n",
       "      <td>0.0</td>\n",
       "      <td>0.0</td>\n",
       "      <td>0.0</td>\n",
       "      <td>0.0</td>\n",
       "      <td>-3962</td>\n",
       "    </tr>\n",
       "  </tbody>\n",
       "</table>\n",
       "<p>5 rows × 34 columns</p>\n",
       "</div>"
      ],
      "text/plain": [
       "   기준년도  가입자일련번호  성별코드  연령대코드(5세단위)  시도코드  신장(5Cm단위)  체중(5Kg단위)  허리둘레  시력(좌)  \\\n",
       "0  2017        1     1            8    43        170         75  90.0    1.0   \n",
       "1  2017        2     1            7    11        180         80  89.0    0.9   \n",
       "2  2017        3     1            9    41        165         75  91.0    1.2   \n",
       "3  2017        4     1           11    48        175         80  91.0    1.5   \n",
       "4  2017        5     1           11    30        165         60  80.0    1.0   \n",
       "\n",
       "   시력(우)  ...  감마지티피  흡연상태  음주여부  구강검진수검여부  치아우식증유무  결손치유무  치아마모증유무  \\\n",
       "0    1.0  ...   40.0   1.0   1.0         1      0.0    0.0      0.0   \n",
       "1    1.2  ...   27.0   3.0   0.0         1      0.0    0.0      0.0   \n",
       "2    1.5  ...   68.0   1.0   0.0         0      0.0    0.0      0.0   \n",
       "3    1.2  ...   18.0   1.0   0.0         1      0.0    0.0      0.0   \n",
       "4    1.2  ...   25.0   1.0   0.0         1      0.0    0.0      0.0   \n",
       "\n",
       "   제3대구치(사랑니)이상   치석  데이터공개일자  \n",
       "0           0.0  1.0    -3962  \n",
       "1           0.0  2.0    -3962  \n",
       "2           0.0  0.0    -3962  \n",
       "3           0.0  0.0    -3962  \n",
       "4           0.0  0.0    -3962  \n",
       "\n",
       "[5 rows x 34 columns]"
      ]
     },
     "execution_count": 16,
     "metadata": {},
     "output_type": "execute_result"
    }
   ],
   "source": [
    "df.head()"
   ]
  },
  {
   "cell_type": "code",
   "execution_count": 17,
   "id": "551f79cc-60c9-4a53-a7f9-e0d471a7f662",
   "metadata": {},
   "outputs": [
    {
     "data": {
      "text/plain": [
       "0"
      ]
     },
     "execution_count": 17,
     "metadata": {},
     "output_type": "execute_result"
    }
   ],
   "source": [
    "# 3) null 대체 후 확인\n",
    "df.isna().sum().sum()"
   ]
  },
  {
   "cell_type": "markdown",
   "id": "89294982-ded9-4b12-b5b1-4dc5d971790c",
   "metadata": {},
   "source": [
    "### **2. 피처 엔지니어링 - 피처 선택 / 새로운 피처 생성**\n",
    "#### 1. 기존 컬럼 이용해서 새로운 df 생성\n",
    "- 중요한 피처만 뽑아서"
   ]
  },
  {
   "cell_type": "code",
   "execution_count": 19,
   "id": "08e377a2-b1c8-4703-8810-da1b3b582a52",
   "metadata": {},
   "outputs": [],
   "source": [
    "df_new = df[['성별코드', '신장(5Cm단위)']].copy()"
   ]
  },
  {
   "cell_type": "code",
   "execution_count": 20,
   "id": "fc8d002a-95de-42a2-b2c4-8a91745f4f13",
   "metadata": {},
   "outputs": [
    {
     "data": {
      "text/html": [
       "<div>\n",
       "<style scoped>\n",
       "    .dataframe tbody tr th:only-of-type {\n",
       "        vertical-align: middle;\n",
       "    }\n",
       "\n",
       "    .dataframe tbody tr th {\n",
       "        vertical-align: top;\n",
       "    }\n",
       "\n",
       "    .dataframe thead th {\n",
       "        text-align: right;\n",
       "    }\n",
       "</style>\n",
       "<table border=\"1\" class=\"dataframe\">\n",
       "  <thead>\n",
       "    <tr style=\"text-align: right;\">\n",
       "      <th></th>\n",
       "      <th>성별코드</th>\n",
       "      <th>신장(5Cm단위)</th>\n",
       "    </tr>\n",
       "  </thead>\n",
       "  <tbody>\n",
       "    <tr>\n",
       "      <th>0</th>\n",
       "      <td>1</td>\n",
       "      <td>170</td>\n",
       "    </tr>\n",
       "    <tr>\n",
       "      <th>1</th>\n",
       "      <td>1</td>\n",
       "      <td>180</td>\n",
       "    </tr>\n",
       "    <tr>\n",
       "      <th>2</th>\n",
       "      <td>1</td>\n",
       "      <td>165</td>\n",
       "    </tr>\n",
       "    <tr>\n",
       "      <th>3</th>\n",
       "      <td>1</td>\n",
       "      <td>175</td>\n",
       "    </tr>\n",
       "    <tr>\n",
       "      <th>4</th>\n",
       "      <td>1</td>\n",
       "      <td>165</td>\n",
       "    </tr>\n",
       "    <tr>\n",
       "      <th>...</th>\n",
       "      <td>...</td>\n",
       "      <td>...</td>\n",
       "    </tr>\n",
       "    <tr>\n",
       "      <th>999995</th>\n",
       "      <td>1</td>\n",
       "      <td>175</td>\n",
       "    </tr>\n",
       "    <tr>\n",
       "      <th>999996</th>\n",
       "      <td>1</td>\n",
       "      <td>170</td>\n",
       "    </tr>\n",
       "    <tr>\n",
       "      <th>999997</th>\n",
       "      <td>2</td>\n",
       "      <td>155</td>\n",
       "    </tr>\n",
       "    <tr>\n",
       "      <th>999998</th>\n",
       "      <td>1</td>\n",
       "      <td>175</td>\n",
       "    </tr>\n",
       "    <tr>\n",
       "      <th>999999</th>\n",
       "      <td>1</td>\n",
       "      <td>160</td>\n",
       "    </tr>\n",
       "  </tbody>\n",
       "</table>\n",
       "<p>1000000 rows × 2 columns</p>\n",
       "</div>"
      ],
      "text/plain": [
       "        성별코드  신장(5Cm단위)\n",
       "0          1        170\n",
       "1          1        180\n",
       "2          1        165\n",
       "3          1        175\n",
       "4          1        165\n",
       "...      ...        ...\n",
       "999995     1        175\n",
       "999996     1        170\n",
       "999997     2        155\n",
       "999998     1        175\n",
       "999999     1        160\n",
       "\n",
       "[1000000 rows x 2 columns]"
      ]
     },
     "execution_count": 20,
     "metadata": {},
     "output_type": "execute_result"
    }
   ],
   "source": [
    "df_new"
   ]
  },
  {
   "cell_type": "markdown",
   "id": "a9425e6c-24bb-46dd-b32c-8a6a28f140ee",
   "metadata": {},
   "source": [
    "#### 2. 새로운 피처(컬럼) 추가 - count"
   ]
  },
  {
   "cell_type": "code",
   "execution_count": 21,
   "id": "af8cc77a-8884-4652-9bdf-10585eb1cfe1",
   "metadata": {},
   "outputs": [],
   "source": [
    "df_new.loc[:, 'count'] = 1 # count 열을 추가한다.(값 1통일)"
   ]
  },
  {
   "cell_type": "code",
   "execution_count": 23,
   "id": "85e17854-25d6-472d-b40e-176511349325",
   "metadata": {},
   "outputs": [
    {
     "data": {
      "text/html": [
       "<div>\n",
       "<style scoped>\n",
       "    .dataframe tbody tr th:only-of-type {\n",
       "        vertical-align: middle;\n",
       "    }\n",
       "\n",
       "    .dataframe tbody tr th {\n",
       "        vertical-align: top;\n",
       "    }\n",
       "\n",
       "    .dataframe thead th {\n",
       "        text-align: right;\n",
       "    }\n",
       "</style>\n",
       "<table border=\"1\" class=\"dataframe\">\n",
       "  <thead>\n",
       "    <tr style=\"text-align: right;\">\n",
       "      <th></th>\n",
       "      <th>성별코드</th>\n",
       "      <th>신장(5Cm단위)</th>\n",
       "      <th>count</th>\n",
       "    </tr>\n",
       "  </thead>\n",
       "  <tbody>\n",
       "    <tr>\n",
       "      <th>0</th>\n",
       "      <td>1</td>\n",
       "      <td>170</td>\n",
       "      <td>1</td>\n",
       "    </tr>\n",
       "    <tr>\n",
       "      <th>1</th>\n",
       "      <td>1</td>\n",
       "      <td>180</td>\n",
       "      <td>1</td>\n",
       "    </tr>\n",
       "    <tr>\n",
       "      <th>2</th>\n",
       "      <td>1</td>\n",
       "      <td>165</td>\n",
       "      <td>1</td>\n",
       "    </tr>\n",
       "    <tr>\n",
       "      <th>3</th>\n",
       "      <td>1</td>\n",
       "      <td>175</td>\n",
       "      <td>1</td>\n",
       "    </tr>\n",
       "    <tr>\n",
       "      <th>4</th>\n",
       "      <td>1</td>\n",
       "      <td>165</td>\n",
       "      <td>1</td>\n",
       "    </tr>\n",
       "  </tbody>\n",
       "</table>\n",
       "</div>"
      ],
      "text/plain": [
       "   성별코드  신장(5Cm단위)  count\n",
       "0     1        170      1\n",
       "1     1        180      1\n",
       "2     1        165      1\n",
       "3     1        175      1\n",
       "4     1        165      1"
      ]
     },
     "execution_count": 23,
     "metadata": {},
     "output_type": "execute_result"
    }
   ],
   "source": [
    "df_new.head()"
   ]
  },
  {
   "cell_type": "code",
   "execution_count": 24,
   "id": "68807f2c-9276-4960-a8ad-1582e0c09243",
   "metadata": {},
   "outputs": [
    {
     "data": {
      "text/plain": [
       "RangeIndex(start=0, stop=1000000, step=1)"
      ]
     },
     "execution_count": 24,
     "metadata": {},
     "output_type": "execute_result"
    }
   ],
   "source": [
    "df_new.index"
   ]
  },
  {
   "cell_type": "code",
   "execution_count": 25,
   "id": "3592028e-775e-401c-ab91-99b9ae52308a",
   "metadata": {},
   "outputs": [
    {
     "data": {
      "text/plain": [
       "1000000"
      ]
     },
     "execution_count": 25,
     "metadata": {},
     "output_type": "execute_result"
    }
   ],
   "source": [
    "df_new['count'].count()"
   ]
  },
  {
   "cell_type": "markdown",
   "id": "b2780a79-ad3c-4282-9aae-23858ccf4de4",
   "metadata": {},
   "source": [
    "#### 3) pivot table 만들기"
   ]
  },
  {
   "cell_type": "code",
   "execution_count": 26,
   "id": "6d114399-6cdb-4035-ba7f-065290e8f090",
   "metadata": {},
   "outputs": [],
   "source": [
    "import numpy as np"
   ]
  },
  {
   "cell_type": "code",
   "execution_count": 27,
   "id": "9fa6556b-300f-4662-9bfe-c65f1883cafd",
   "metadata": {},
   "outputs": [],
   "source": [
    "df_pivot = pd.pivot_table(df_new, index=['신장(5Cm단위)'],\n",
    "                          columns = ['성별코드'],\n",
    "                          values = 'count',\n",
    "                          aggfunc=np.sum)"
   ]
  },
  {
   "cell_type": "code",
   "execution_count": 28,
   "id": "e0648b94-dd37-456c-85da-6d510ae70b17",
   "metadata": {},
   "outputs": [
    {
     "data": {
      "text/html": [
       "<div>\n",
       "<style scoped>\n",
       "    .dataframe tbody tr th:only-of-type {\n",
       "        vertical-align: middle;\n",
       "    }\n",
       "\n",
       "    .dataframe tbody tr th {\n",
       "        vertical-align: top;\n",
       "    }\n",
       "\n",
       "    .dataframe thead th {\n",
       "        text-align: right;\n",
       "    }\n",
       "</style>\n",
       "<table border=\"1\" class=\"dataframe\">\n",
       "  <thead>\n",
       "    <tr style=\"text-align: right;\">\n",
       "      <th>성별코드</th>\n",
       "      <th>1</th>\n",
       "      <th>2</th>\n",
       "    </tr>\n",
       "    <tr>\n",
       "      <th>신장(5Cm단위)</th>\n",
       "      <th></th>\n",
       "      <th></th>\n",
       "    </tr>\n",
       "  </thead>\n",
       "  <tbody>\n",
       "    <tr>\n",
       "      <th>130</th>\n",
       "      <td>NaN</td>\n",
       "      <td>93.0</td>\n",
       "    </tr>\n",
       "    <tr>\n",
       "      <th>135</th>\n",
       "      <td>NaN</td>\n",
       "      <td>1301.0</td>\n",
       "    </tr>\n",
       "    <tr>\n",
       "      <th>140</th>\n",
       "      <td>6.0</td>\n",
       "      <td>9273.0</td>\n",
       "    </tr>\n",
       "    <tr>\n",
       "      <th>145</th>\n",
       "      <td>99.0</td>\n",
       "      <td>39507.0</td>\n",
       "    </tr>\n",
       "    <tr>\n",
       "      <th>150</th>\n",
       "      <td>2986.0</td>\n",
       "      <td>105849.0</td>\n",
       "    </tr>\n",
       "  </tbody>\n",
       "</table>\n",
       "</div>"
      ],
      "text/plain": [
       "성별코드            1         2\n",
       "신장(5Cm단위)                  \n",
       "130           NaN      93.0\n",
       "135           NaN    1301.0\n",
       "140           6.0    9273.0\n",
       "145          99.0   39507.0\n",
       "150        2986.0  105849.0"
      ]
     },
     "execution_count": 28,
     "metadata": {},
     "output_type": "execute_result"
    }
   ],
   "source": [
    "df_pivot.head()\n",
    "# 신장별로 count (1: 남, 2:여)"
   ]
  },
  {
   "cell_type": "markdown",
   "id": "ebcbc7a3-6cd0-496a-8571-ef1bf49b756f",
   "metadata": {},
   "source": [
    "#### 4. null 대체"
   ]
  },
  {
   "cell_type": "code",
   "execution_count": 29,
   "id": "b096d8ee-b42f-4266-9363-14bd0929962a",
   "metadata": {},
   "outputs": [],
   "source": [
    "df_pivot = df_pivot.fillna(0)"
   ]
  },
  {
   "cell_type": "code",
   "execution_count": 30,
   "id": "7a2bdfa8-23b1-4b70-a0ee-19cb8ce11932",
   "metadata": {},
   "outputs": [
    {
     "data": {
      "text/html": [
       "<div>\n",
       "<style scoped>\n",
       "    .dataframe tbody tr th:only-of-type {\n",
       "        vertical-align: middle;\n",
       "    }\n",
       "\n",
       "    .dataframe tbody tr th {\n",
       "        vertical-align: top;\n",
       "    }\n",
       "\n",
       "    .dataframe thead th {\n",
       "        text-align: right;\n",
       "    }\n",
       "</style>\n",
       "<table border=\"1\" class=\"dataframe\">\n",
       "  <thead>\n",
       "    <tr style=\"text-align: right;\">\n",
       "      <th>성별코드</th>\n",
       "      <th>1</th>\n",
       "      <th>2</th>\n",
       "    </tr>\n",
       "    <tr>\n",
       "      <th>신장(5Cm단위)</th>\n",
       "      <th></th>\n",
       "      <th></th>\n",
       "    </tr>\n",
       "  </thead>\n",
       "  <tbody>\n",
       "    <tr>\n",
       "      <th>130</th>\n",
       "      <td>0.0</td>\n",
       "      <td>93.0</td>\n",
       "    </tr>\n",
       "    <tr>\n",
       "      <th>135</th>\n",
       "      <td>0.0</td>\n",
       "      <td>1301.0</td>\n",
       "    </tr>\n",
       "    <tr>\n",
       "      <th>140</th>\n",
       "      <td>6.0</td>\n",
       "      <td>9273.0</td>\n",
       "    </tr>\n",
       "    <tr>\n",
       "      <th>145</th>\n",
       "      <td>99.0</td>\n",
       "      <td>39507.0</td>\n",
       "    </tr>\n",
       "    <tr>\n",
       "      <th>150</th>\n",
       "      <td>2986.0</td>\n",
       "      <td>105849.0</td>\n",
       "    </tr>\n",
       "  </tbody>\n",
       "</table>\n",
       "</div>"
      ],
      "text/plain": [
       "성별코드            1         2\n",
       "신장(5Cm단위)                  \n",
       "130           0.0      93.0\n",
       "135           0.0    1301.0\n",
       "140           6.0    9273.0\n",
       "145          99.0   39507.0\n",
       "150        2986.0  105849.0"
      ]
     },
     "execution_count": 30,
     "metadata": {},
     "output_type": "execute_result"
    }
   ],
   "source": [
    "df_pivot.head()"
   ]
  },
  {
   "cell_type": "markdown",
   "id": "962781c7-a315-4665-bd7a-da5d83a14165",
   "metadata": {},
   "source": [
    "#### 3. 통계량 확인"
   ]
  },
  {
   "cell_type": "code",
   "execution_count": 31,
   "id": "2d5be114-421d-4b28-b8e7-5553fde54c91",
   "metadata": {},
   "outputs": [
    {
     "data": {
      "text/html": [
       "<div>\n",
       "<style scoped>\n",
       "    .dataframe tbody tr th:only-of-type {\n",
       "        vertical-align: middle;\n",
       "    }\n",
       "\n",
       "    .dataframe tbody tr th {\n",
       "        vertical-align: top;\n",
       "    }\n",
       "\n",
       "    .dataframe thead th {\n",
       "        text-align: right;\n",
       "    }\n",
       "</style>\n",
       "<table border=\"1\" class=\"dataframe\">\n",
       "  <thead>\n",
       "    <tr style=\"text-align: right;\">\n",
       "      <th>성별코드</th>\n",
       "      <th>1</th>\n",
       "      <th>2</th>\n",
       "    </tr>\n",
       "  </thead>\n",
       "  <tbody>\n",
       "    <tr>\n",
       "      <th>count</th>\n",
       "      <td>13.000000</td>\n",
       "      <td>13.000000</td>\n",
       "    </tr>\n",
       "    <tr>\n",
       "      <th>mean</th>\n",
       "      <td>40800.769231</td>\n",
       "      <td>36122.307692</td>\n",
       "    </tr>\n",
       "    <tr>\n",
       "      <th>std</th>\n",
       "      <td>56802.893131</td>\n",
       "      <td>52056.939757</td>\n",
       "    </tr>\n",
       "    <tr>\n",
       "      <th>min</th>\n",
       "      <td>0.000000</td>\n",
       "      <td>0.000000</td>\n",
       "    </tr>\n",
       "    <tr>\n",
       "      <th>25%</th>\n",
       "      <td>99.000000</td>\n",
       "      <td>93.000000</td>\n",
       "    </tr>\n",
       "    <tr>\n",
       "      <th>50%</th>\n",
       "      <td>6630.000000</td>\n",
       "      <td>8432.000000</td>\n",
       "    </tr>\n",
       "    <tr>\n",
       "      <th>75%</th>\n",
       "      <td>70336.000000</td>\n",
       "      <td>43597.000000</td>\n",
       "    </tr>\n",
       "    <tr>\n",
       "      <th>max</th>\n",
       "      <td>159110.000000</td>\n",
       "      <td>147717.000000</td>\n",
       "    </tr>\n",
       "  </tbody>\n",
       "</table>\n",
       "</div>"
      ],
      "text/plain": [
       "성별코드               1              2\n",
       "count      13.000000      13.000000\n",
       "mean    40800.769231   36122.307692\n",
       "std     56802.893131   52056.939757\n",
       "min         0.000000       0.000000\n",
       "25%        99.000000      93.000000\n",
       "50%      6630.000000    8432.000000\n",
       "75%     70336.000000   43597.000000\n",
       "max    159110.000000  147717.000000"
      ]
     },
     "execution_count": 31,
     "metadata": {},
     "output_type": "execute_result"
    }
   ],
   "source": [
    "df_pivot.describe()"
   ]
  },
  {
   "cell_type": "markdown",
   "id": "ca78c3a0-99e7-4fee-936d-beab2a93df6d",
   "metadata": {},
   "source": [
    "#### 4. 시각화"
   ]
  },
  {
   "cell_type": "code",
   "execution_count": 32,
   "id": "ac226d0f-c6ea-4c38-9d68-8c615317931b",
   "metadata": {},
   "outputs": [],
   "source": [
    "import matplotlib.pyplot as plt\n",
    "%matplotlib inline"
   ]
  },
  {
   "cell_type": "markdown",
   "id": "493d3ba6-6b7a-4d7a-b16d-b840f7741e02",
   "metadata": {},
   "source": [
    "#### 1) Box 그래프"
   ]
  },
  {
   "cell_type": "code",
   "execution_count": 33,
   "id": "481ed31e-a2de-4384-9f68-84ae4280cc73",
   "metadata": {},
   "outputs": [
    {
     "data": {
      "image/png": "[encoded data removed]",
      "text/plain": [
       "<Figure size 1000x500 with 1 Axes>"
      ]
     },
     "metadata": {},
     "output_type": "display_data"
    }
   ],
   "source": [
    "plt.figure(figsize=(10,5))\n",
    "plt.boxplot(df_pivot)\n",
    "plt.show()"
   ]
  },
  {
   "cell_type": "markdown",
   "id": "eadd4105-ca30-4ef5-a9d7-2c5c37348433",
   "metadata": {},
   "source": [
    "#### 2) Box그래프 내의 xtick 변경하기"
   ]
  },
  {
   "cell_type": "code",
   "execution_count": 34,
   "id": "da7d2f44-ca9e-4c09-bb20-5bdf0265597d",
   "metadata": {},
   "outputs": [
    {
     "data": {
      "image/png": "[encoded data removed]",
      "text/plain": [
       "<Figure size 1000x500 with 1 Axes>"
      ]
     },
     "metadata": {},
     "output_type": "display_data"
    }
   ],
   "source": [
    "plt.figure(figsize=(10,5))\n",
    "plt.boxplot(df_pivot)\n",
    "plt.xticks([x+1 for x in range(0, df_pivot.index.shape[0])], [x for x in df_pivot.index])\n",
    "\n",
    "plt.show()"
   ]
  },
  {
   "cell_type": "markdown",
   "id": "574f6813-8472-4109-858b-ce22469efde4",
   "metadata": {},
   "source": [
    "#### 3)성별 키 분포 확인"
   ]
  },
  {
   "cell_type": "code",
   "execution_count": 36,
   "id": "4e20c4ed-6d82-457b-9ff5-a660251af7b3",
   "metadata": {},
   "outputs": [
    {
     "data": {
      "text/plain": [
       "<matplotlib.legend.Legend at 0x1fdc9369410>"
      ]
     },
     "execution_count": 36,
     "metadata": {},
     "output_type": "execute_result"
    },
    {
     "data": {
      "image/png": "[encoded data removed]",
      "text/plain": [
       "<Figure size 1000x500 with 1 Axes>"
      ]
     },
     "metadata": {},
     "output_type": "display_data"
    }
   ],
   "source": [
    "plt.figure(figsize=(10,5))\n",
    "# 남자 여자로 구분해서 막대 그래프 그린다.\n",
    "plt.bar(df_pivot.index, df_pivot[1], color='g', label='male')\n",
    "plt.bar(df_pivot.index + 0.9, df_pivot[2], color='r', label='female')\n",
    "plt.legend() # 범례표시"
   ]
  },
  {
   "cell_type": "markdown",
   "id": "5e31a6cc-6570-4686-9cc4-9361f32ed535",
   "metadata": {},
   "source": [
    "### **성별로 신장/체중 상관관계 분석**"
   ]
  },
  {
   "cell_type": "markdown",
   "id": "e51f35e2-98cb-4094-8d69-9063c7e18aea",
   "metadata": {},
   "source": [
    "### 1) 관심 있는 컬럼만으로 df 생성"
   ]
  },
  {
   "cell_type": "code",
   "execution_count": 37,
   "id": "970a3a06-b1de-4a0a-9fe8-f121773d8120",
   "metadata": {},
   "outputs": [
    {
     "data": {
      "text/plain": [
       "Index(['기준년도', '가입자일련번호', '성별코드', '연령대코드(5세단위)', '시도코드', '신장(5Cm단위)',\n",
       "       '체중(5Kg단위)', '허리둘레', '시력(좌)', '시력(우)', '청력(좌)', '청력(우)', '수축기혈압',\n",
       "       '이완기혈압', '식전혈당(공복혈당)', '총콜레스테롤', '트리글리세라이드', 'HDL콜레스테롤', 'LDL콜레스테롤',\n",
       "       '혈색소', '요단백', '혈청크레아티닌', '(혈청지오티)AST', '(혈청지오티)ALT', '감마지티피', '흡연상태',\n",
       "       '음주여부', '구강검진수검여부', '치아우식증유무', '결손치유무', '치아마모증유무', '제3대구치(사랑니)이상', '치석',\n",
       "       '데이터공개일자'],\n",
       "      dtype='object')"
      ]
     },
     "execution_count": 37,
     "metadata": {},
     "output_type": "execute_result"
    }
   ],
   "source": [
    "df.columns"
   ]
  },
  {
   "cell_type": "code",
   "execution_count": 38,
   "id": "cafa0c5b-1d86-4284-9bef-6d8c433c1bf4",
   "metadata": {},
   "outputs": [],
   "source": [
    "# 성별, 키, 몸무게 피쳐만 가져오기\n",
    "df_new2 = df[['성별코드', '신장(5Cm단위)', '체중(5Kg단위)']].copy()"
   ]
  },
  {
   "cell_type": "code",
   "execution_count": 39,
   "id": "f7f2a768-3f21-4635-bfdc-adde2dba26c8",
   "metadata": {},
   "outputs": [
    {
     "data": {
      "text/html": [
       "<div>\n",
       "<style scoped>\n",
       "    .dataframe tbody tr th:only-of-type {\n",
       "        vertical-align: middle;\n",
       "    }\n",
       "\n",
       "    .dataframe tbody tr th {\n",
       "        vertical-align: top;\n",
       "    }\n",
       "\n",
       "    .dataframe thead th {\n",
       "        text-align: right;\n",
       "    }\n",
       "</style>\n",
       "<table border=\"1\" class=\"dataframe\">\n",
       "  <thead>\n",
       "    <tr style=\"text-align: right;\">\n",
       "      <th></th>\n",
       "      <th>성별코드</th>\n",
       "      <th>신장(5Cm단위)</th>\n",
       "      <th>체중(5Kg단위)</th>\n",
       "    </tr>\n",
       "  </thead>\n",
       "  <tbody>\n",
       "    <tr>\n",
       "      <th>0</th>\n",
       "      <td>1</td>\n",
       "      <td>170</td>\n",
       "      <td>75</td>\n",
       "    </tr>\n",
       "    <tr>\n",
       "      <th>1</th>\n",
       "      <td>1</td>\n",
       "      <td>180</td>\n",
       "      <td>80</td>\n",
       "    </tr>\n",
       "    <tr>\n",
       "      <th>2</th>\n",
       "      <td>1</td>\n",
       "      <td>165</td>\n",
       "      <td>75</td>\n",
       "    </tr>\n",
       "    <tr>\n",
       "      <th>3</th>\n",
       "      <td>1</td>\n",
       "      <td>175</td>\n",
       "      <td>80</td>\n",
       "    </tr>\n",
       "    <tr>\n",
       "      <th>4</th>\n",
       "      <td>1</td>\n",
       "      <td>165</td>\n",
       "      <td>60</td>\n",
       "    </tr>\n",
       "  </tbody>\n",
       "</table>\n",
       "</div>"
      ],
      "text/plain": [
       "   성별코드  신장(5Cm단위)  체중(5Kg단위)\n",
       "0     1        170         75\n",
       "1     1        180         80\n",
       "2     1        165         75\n",
       "3     1        175         80\n",
       "4     1        165         60"
      ]
     },
     "execution_count": 39,
     "metadata": {},
     "output_type": "execute_result"
    }
   ],
   "source": [
    "df_new2.head()"
   ]
  },
  {
   "cell_type": "markdown",
   "id": "d19dff36-9299-4c0e-af71-5d309d65b5d4",
   "metadata": {},
   "source": [
    "#### 2) 남 여 구분해서 df 생성"
   ]
  },
  {
   "cell_type": "code",
   "execution_count": 40,
   "id": "19f3aa72-c88b-4d52-9e76-c5644af2717c",
   "metadata": {},
   "outputs": [
    {
     "data": {
      "text/plain": [
       "0         1\n",
       "1         1\n",
       "2         1\n",
       "3         1\n",
       "4         1\n",
       "         ..\n",
       "999995    1\n",
       "999996    1\n",
       "999997    2\n",
       "999998    1\n",
       "999999    1\n",
       "Name: 성별코드, Length: 1000000, dtype: int16"
      ]
     },
     "execution_count": 40,
     "metadata": {},
     "output_type": "execute_result"
    }
   ],
   "source": [
    "df_new2.loc[:, '성별코드']"
   ]
  },
  {
   "cell_type": "code",
   "execution_count": 43,
   "id": "f2a0e476-81ad-4cae-800d-6d53870bcc37",
   "metadata": {},
   "outputs": [],
   "source": [
    "# 남자 df\n",
    "df_male = df_new2[df_new2.loc[:, '성별코드']==1] # 성별코드1 인 애만 뽑아서 남자 df\n",
    "df_male.drop('성별코드', axis=1, inplace=True) # 성별코드 컬럼 드롭\n",
    "df_male.reset_index(drop=True, inplace=True)"
   ]
  },
  {
   "cell_type": "code",
   "execution_count": 44,
   "id": "e2538c49-d5f9-499e-9d52-2efc9a59232e",
   "metadata": {},
   "outputs": [
    {
     "data": {
      "text/html": [
       "<div>\n",
       "<style scoped>\n",
       "    .dataframe tbody tr th:only-of-type {\n",
       "        vertical-align: middle;\n",
       "    }\n",
       "\n",
       "    .dataframe tbody tr th {\n",
       "        vertical-align: top;\n",
       "    }\n",
       "\n",
       "    .dataframe thead th {\n",
       "        text-align: right;\n",
       "    }\n",
       "</style>\n",
       "<table border=\"1\" class=\"dataframe\">\n",
       "  <thead>\n",
       "    <tr style=\"text-align: right;\">\n",
       "      <th></th>\n",
       "      <th>신장(5Cm단위)</th>\n",
       "      <th>체중(5Kg단위)</th>\n",
       "    </tr>\n",
       "  </thead>\n",
       "  <tbody>\n",
       "    <tr>\n",
       "      <th>0</th>\n",
       "      <td>170</td>\n",
       "      <td>75</td>\n",
       "    </tr>\n",
       "    <tr>\n",
       "      <th>1</th>\n",
       "      <td>180</td>\n",
       "      <td>80</td>\n",
       "    </tr>\n",
       "    <tr>\n",
       "      <th>2</th>\n",
       "      <td>165</td>\n",
       "      <td>75</td>\n",
       "    </tr>\n",
       "    <tr>\n",
       "      <th>3</th>\n",
       "      <td>175</td>\n",
       "      <td>80</td>\n",
       "    </tr>\n",
       "    <tr>\n",
       "      <th>4</th>\n",
       "      <td>165</td>\n",
       "      <td>60</td>\n",
       "    </tr>\n",
       "  </tbody>\n",
       "</table>\n",
       "</div>"
      ],
      "text/plain": [
       "   신장(5Cm단위)  체중(5Kg단위)\n",
       "0        170         75\n",
       "1        180         80\n",
       "2        165         75\n",
       "3        175         80\n",
       "4        165         60"
      ]
     },
     "execution_count": 44,
     "metadata": {},
     "output_type": "execute_result"
    }
   ],
   "source": [
    "df_male.head()"
   ]
  },
  {
   "cell_type": "code",
   "execution_count": 45,
   "id": "5319e5ab-9911-4a70-b5a5-f115fa40e308",
   "metadata": {},
   "outputs": [],
   "source": [
    "# 여자 df\n",
    "df_female = df_new2[df_new2.loc[:, '성별코드']==2]\n",
    "df_female.drop('성별코드', axis=1, inplace=True)\n",
    "df_female.reset_index(drop=True, inplace=True)"
   ]
  },
  {
   "cell_type": "code",
   "execution_count": 46,
   "id": "14fed610-29a4-4a07-b1fd-8cb35f3cdb0d",
   "metadata": {},
   "outputs": [
    {
     "data": {
      "text/html": [
       "<div>\n",
       "<style scoped>\n",
       "    .dataframe tbody tr th:only-of-type {\n",
       "        vertical-align: middle;\n",
       "    }\n",
       "\n",
       "    .dataframe tbody tr th {\n",
       "        vertical-align: top;\n",
       "    }\n",
       "\n",
       "    .dataframe thead th {\n",
       "        text-align: right;\n",
       "    }\n",
       "</style>\n",
       "<table border=\"1\" class=\"dataframe\">\n",
       "  <thead>\n",
       "    <tr style=\"text-align: right;\">\n",
       "      <th></th>\n",
       "      <th>신장(5Cm단위)</th>\n",
       "      <th>체중(5Kg단위)</th>\n",
       "    </tr>\n",
       "  </thead>\n",
       "  <tbody>\n",
       "    <tr>\n",
       "      <th>0</th>\n",
       "      <td>150</td>\n",
       "      <td>55</td>\n",
       "    </tr>\n",
       "    <tr>\n",
       "      <th>1</th>\n",
       "      <td>150</td>\n",
       "      <td>55</td>\n",
       "    </tr>\n",
       "    <tr>\n",
       "      <th>2</th>\n",
       "      <td>160</td>\n",
       "      <td>50</td>\n",
       "    </tr>\n",
       "    <tr>\n",
       "      <th>3</th>\n",
       "      <td>160</td>\n",
       "      <td>65</td>\n",
       "    </tr>\n",
       "    <tr>\n",
       "      <th>4</th>\n",
       "      <td>170</td>\n",
       "      <td>50</td>\n",
       "    </tr>\n",
       "  </tbody>\n",
       "</table>\n",
       "</div>"
      ],
      "text/plain": [
       "   신장(5Cm단위)  체중(5Kg단위)\n",
       "0        150         55\n",
       "1        150         55\n",
       "2        160         50\n",
       "3        160         65\n",
       "4        170         50"
      ]
     },
     "execution_count": 46,
     "metadata": {},
     "output_type": "execute_result"
    }
   ],
   "source": [
    "df_female.head()"
   ]
  },
  {
   "cell_type": "markdown",
   "id": "9afd81aa-50ad-4a71-99ed-9243d185e5dd",
   "metadata": {},
   "source": [
    "### 3) 상관관계 분석"
   ]
  },
  {
   "cell_type": "code",
   "execution_count": 47,
   "id": "29f0352a-56b9-41d3-8e14-bf91aecd97df",
   "metadata": {},
   "outputs": [
    {
     "data": {
      "text/html": [
       "<div>\n",
       "<style scoped>\n",
       "    .dataframe tbody tr th:only-of-type {\n",
       "        vertical-align: middle;\n",
       "    }\n",
       "\n",
       "    .dataframe tbody tr th {\n",
       "        vertical-align: top;\n",
       "    }\n",
       "\n",
       "    .dataframe thead th {\n",
       "        text-align: right;\n",
       "    }\n",
       "</style>\n",
       "<table border=\"1\" class=\"dataframe\">\n",
       "  <thead>\n",
       "    <tr style=\"text-align: right;\">\n",
       "      <th></th>\n",
       "      <th>신장(5Cm단위)</th>\n",
       "      <th>체중(5Kg단위)</th>\n",
       "    </tr>\n",
       "  </thead>\n",
       "  <tbody>\n",
       "    <tr>\n",
       "      <th>신장(5Cm단위)</th>\n",
       "      <td>1.000000</td>\n",
       "      <td>0.536038</td>\n",
       "    </tr>\n",
       "    <tr>\n",
       "      <th>체중(5Kg단위)</th>\n",
       "      <td>0.536038</td>\n",
       "      <td>1.000000</td>\n",
       "    </tr>\n",
       "  </tbody>\n",
       "</table>\n",
       "</div>"
      ],
      "text/plain": [
       "           신장(5Cm단위)  체중(5Kg단위)\n",
       "신장(5Cm단위)   1.000000   0.536038\n",
       "체중(5Kg단위)   0.536038   1.000000"
      ]
     },
     "execution_count": 47,
     "metadata": {},
     "output_type": "execute_result"
    }
   ],
   "source": [
    "df_male.corr()\n",
    "# 대각선은 무조건 1임 (자기자신과의 상관관계니까)\n",
    "# 신장 - 체중 0.53정도 양의 상관관계\n",
    "# 체중이 높아지면 신장이 높다. \n",
    "# -1 <= r <= 1"
   ]
  },
  {
   "cell_type": "code",
   "execution_count": 48,
   "id": "89f95a4c-4e46-431b-a935-5f1c3ce7101a",
   "metadata": {},
   "outputs": [
    {
     "data": {
      "text/plain": [
       "<seaborn.axisgrid.PairGrid at 0x1fdc946a1d0>"
      ]
     },
     "execution_count": 48,
     "metadata": {},
     "output_type": "execute_result"
    },
    {
     "data": {
      "image/png": "[encoded data removed]",
      "text/plain": [
       "<Figure size 500x500 with 6 Axes>"
      ]
     },
     "metadata": {},
     "output_type": "display_data"
    }
   ],
   "source": [
    "sns.pairplot(df_male)"
   ]
  },
  {
   "cell_type": "code",
   "execution_count": 49,
   "id": "b9ab3dc4-c333-40b4-b77a-3cf6b3bb8fc3",
   "metadata": {},
   "outputs": [],
   "source": [
    "# 체중 높은사람은 키도 높은 경향을 보인다."
   ]
  },
  {
   "cell_type": "code",
   "execution_count": 50,
   "id": "e1fa3a2c-9fb7-453d-a0ce-c639e3e79b42",
   "metadata": {},
   "outputs": [
    {
     "data": {
      "text/html": [
       "<div>\n",
       "<style scoped>\n",
       "    .dataframe tbody tr th:only-of-type {\n",
       "        vertical-align: middle;\n",
       "    }\n",
       "\n",
       "    .dataframe tbody tr th {\n",
       "        vertical-align: top;\n",
       "    }\n",
       "\n",
       "    .dataframe thead th {\n",
       "        text-align: right;\n",
       "    }\n",
       "</style>\n",
       "<table border=\"1\" class=\"dataframe\">\n",
       "  <thead>\n",
       "    <tr style=\"text-align: right;\">\n",
       "      <th></th>\n",
       "      <th>신장(5Cm단위)</th>\n",
       "      <th>체중(5Kg단위)</th>\n",
       "    </tr>\n",
       "  </thead>\n",
       "  <tbody>\n",
       "    <tr>\n",
       "      <th>신장(5Cm단위)</th>\n",
       "      <td>1.00000</td>\n",
       "      <td>0.30867</td>\n",
       "    </tr>\n",
       "    <tr>\n",
       "      <th>체중(5Kg단위)</th>\n",
       "      <td>0.30867</td>\n",
       "      <td>1.00000</td>\n",
       "    </tr>\n",
       "  </tbody>\n",
       "</table>\n",
       "</div>"
      ],
      "text/plain": [
       "           신장(5Cm단위)  체중(5Kg단위)\n",
       "신장(5Cm단위)    1.00000    0.30867\n",
       "체중(5Kg단위)    0.30867    1.00000"
      ]
     },
     "execution_count": 50,
     "metadata": {},
     "output_type": "execute_result"
    }
   ],
   "source": [
    "df_female.corr()"
   ]
  },
  {
   "cell_type": "code",
   "execution_count": 51,
   "id": "7414cf8d-1533-43cb-b88d-3e32a1a43d04",
   "metadata": {},
   "outputs": [],
   "source": [
    "# 여자의 경우 남자보다는 상관관계가 낮다.\n",
    "# 키가 크다고 몸무게가 높지는 않다.\n",
    "# 다이어트 때문..?"
   ]
  },
  {
   "cell_type": "code",
   "execution_count": 52,
   "id": "86e5aadb-5373-4615-8e68-700c0e1b564a",
   "metadata": {},
   "outputs": [
    {
     "data": {
      "text/plain": [
       "<seaborn.axisgrid.PairGrid at 0x1fdc67cdb10>"
      ]
     },
     "execution_count": 52,
     "metadata": {},
     "output_type": "execute_result"
    },
    {
     "data": {
      "image/png": "[encoded data removed]",
      "text/plain": [
       "<Figure size 500x500 with 6 Axes>"
      ]
     },
     "metadata": {},
     "output_type": "display_data"
    }
   ],
   "source": [
    "sns.pairplot(df_female)"
   ]
  },
  {
   "cell_type": "code",
   "execution_count": 53,
   "id": "204a5fbe-3045-44b8-81a3-e354e0fd35fd",
   "metadata": {},
   "outputs": [
    {
     "data": {
      "text/plain": [
       "<seaborn.axisgrid.PairGrid at 0x1fde563a1d0>"
      ]
     },
     "execution_count": 53,
     "metadata": {},
     "output_type": "execute_result"
    },
    {
     "data": {
      "image/png": "[encoded data removed]",
      "text/plain": [
       "<Figure size 558.875x500 with 6 Axes>"
      ]
     },
     "metadata": {},
     "output_type": "display_data"
    }
   ],
   "source": [
    "# 남, 여 같이 pairplot으로 보여주기\n",
    "sns.pairplot(df_new2, hue='성별코드')"
   ]
  },
  {
   "cell_type": "code",
   "execution_count": null,
   "id": "9b97aef6-7017-4269-889f-293a07981591",
   "metadata": {},
   "outputs": [],
   "source": []
  }
 ],
 "metadata": {
  "kernelspec": {
   "display_name": "Python 3 (ipykernel)",
   "language": "python",
   "name": "python3"
  },
  "language_info": {
   "codemirror_mode": {
    "name": "ipython",
    "version": 3
   },
   "file_extension": ".py",
   "mimetype": "text/x-python",
   "name": "python",
   "nbconvert_exporter": "python",
   "pygments_lexer": "ipython3",
   "version": "3.11.8"
  }
 },
 "nbformat": 4,
 "nbformat_minor": 5
}

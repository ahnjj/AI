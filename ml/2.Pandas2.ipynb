{
 "cells": [
  {
   "cell_type": "markdown",
   "id": "0fa1834e-50fe-4388-bf46-93b08562d9d6",
   "metadata": {},
   "source": [
    "# Pandas"
   ]
  },
  {
   "cell_type": "code",
   "execution_count": 1,
   "id": "f240dc99-7111-45ad-a8f6-8a487a4973fa",
   "metadata": {},
   "outputs": [],
   "source": [
    "import pandas as pd"
   ]
  },
  {
   "cell_type": "code",
   "execution_count": 2,
   "id": "f903fd9a-d098-4b58-8aab-a229ee951ff4",
   "metadata": {},
   "outputs": [],
   "source": [
    "from IPython.core.interactiveshell import InteractiveShell\n",
    "InteractiveShell.ast_node_interactivity = \"all\""
   ]
  },
  {
   "cell_type": "markdown",
   "id": "8d46c648-9bf3-47ff-bf2e-1eda45f14c72",
   "metadata": {},
   "source": [
    "### DataFrame 에서 컬럼의 데이터 타입 변환"
   ]
  },
  {
   "cell_type": "code",
   "execution_count": 3,
   "id": "f792e309-4c77-4605-b44d-d07042eab893",
   "metadata": {},
   "outputs": [
    {
     "data": {
      "text/html": [
       "<div>\n",
       "<style scoped>\n",
       "    .dataframe tbody tr th:only-of-type {\n",
       "        vertical-align: middle;\n",
       "    }\n",
       "\n",
       "    .dataframe tbody tr th {\n",
       "        vertical-align: top;\n",
       "    }\n",
       "\n",
       "    .dataframe thead th {\n",
       "        text-align: right;\n",
       "    }\n",
       "</style>\n",
       "<table border=\"1\" class=\"dataframe\">\n",
       "  <thead>\n",
       "    <tr style=\"text-align: right;\">\n",
       "      <th></th>\n",
       "      <th>A</th>\n",
       "      <th>B</th>\n",
       "      <th>C</th>\n",
       "      <th>D</th>\n",
       "      <th>E</th>\n",
       "    </tr>\n",
       "  </thead>\n",
       "  <tbody>\n",
       "    <tr>\n",
       "      <th>0</th>\n",
       "      <td>1</td>\n",
       "      <td>1.0</td>\n",
       "      <td>1.1.2020</td>\n",
       "      <td>1 days</td>\n",
       "      <td>1</td>\n",
       "    </tr>\n",
       "    <tr>\n",
       "      <th>1</th>\n",
       "      <td>2</td>\n",
       "      <td>2.0</td>\n",
       "      <td>2.1.2020</td>\n",
       "      <td>2 days</td>\n",
       "      <td>2</td>\n",
       "    </tr>\n",
       "    <tr>\n",
       "      <th>2</th>\n",
       "      <td>3</td>\n",
       "      <td>3.0</td>\n",
       "      <td>3.1.2020</td>\n",
       "      <td>3 days</td>\n",
       "      <td>3</td>\n",
       "    </tr>\n",
       "  </tbody>\n",
       "</table>\n",
       "</div>"
      ],
      "text/plain": [
       "   A    B         C       D  E\n",
       "0  1  1.0  1.1.2020  1 days  1\n",
       "1  2  2.0  2.1.2020  2 days  2\n",
       "2  3  3.0  3.1.2020  3 days  3"
      ]
     },
     "execution_count": 3,
     "metadata": {},
     "output_type": "execute_result"
    }
   ],
   "source": [
    "# 데이터 타입이 다 다름\n",
    "df = pd.DataFrame({'A':[1,2,3],\n",
    "                   'B' : [1.0, 2.0, 3.0],\n",
    "                   'C' :['1.1.2020', '2.1.2020', '3.1.2020'], # date\n",
    "                   'D' : ['1 days', '2 days', '3 days'],\n",
    "                   'E' : ['1', '2', '3']}) # 문자(숫자)\n",
    "df"
   ]
  },
  {
   "cell_type": "markdown",
   "id": "7c0e8fad-420f-4935-b6a8-9c8258d1acbb",
   "metadata": {},
   "source": [
    "#### 모든 컬럼 데이터 타입 확인"
   ]
  },
  {
   "cell_type": "code",
   "execution_count": 4,
   "id": "c10dcafa-50ae-4263-a8d9-aee886b6cbb0",
   "metadata": {},
   "outputs": [
    {
     "data": {
      "text/plain": [
       "A      int64\n",
       "B    float64\n",
       "C     object\n",
       "D     object\n",
       "E     object\n",
       "dtype: object"
      ]
     },
     "execution_count": 4,
     "metadata": {},
     "output_type": "execute_result"
    }
   ],
   "source": [
    "# 1\n",
    "df.dtypes"
   ]
  },
  {
   "cell_type": "code",
   "execution_count": 5,
   "id": "6323a068-3c61-46f6-80da-160bbfbdfe98",
   "metadata": {},
   "outputs": [
    {
     "name": "stdout",
     "output_type": "stream",
     "text": [
      "<class 'pandas.core.frame.DataFrame'>\n",
      "RangeIndex: 3 entries, 0 to 2\n",
      "Data columns (total 5 columns):\n",
      " #   Column  Non-Null Count  Dtype  \n",
      "---  ------  --------------  -----  \n",
      " 0   A       3 non-null      int64  \n",
      " 1   B       3 non-null      float64\n",
      " 2   C       3 non-null      object \n",
      " 3   D       3 non-null      object \n",
      " 4   E       3 non-null      object \n",
      "dtypes: float64(1), int64(1), object(3)\n",
      "memory usage: 252.0+ bytes\n"
     ]
    }
   ],
   "source": [
    "# 2\n",
    "df.info()"
   ]
  },
  {
   "cell_type": "markdown",
   "id": "b55578de-c377-4059-a4ab-35f64ff7bd60",
   "metadata": {},
   "source": [
    "#### 컬럼 하나만 데이터 타입 확인"
   ]
  },
  {
   "cell_type": "code",
   "execution_count": 6,
   "id": "bdc50b55-7766-4e79-a671-8341e2c4e756",
   "metadata": {},
   "outputs": [
    {
     "data": {
      "text/plain": [
       "dtype('int64')"
      ]
     },
     "execution_count": 6,
     "metadata": {},
     "output_type": "execute_result"
    }
   ],
   "source": [
    "df['A'].dtypes"
   ]
  },
  {
   "cell_type": "markdown",
   "id": "6665a959-fb6b-49ba-baae-7db3549f38ff",
   "metadata": {},
   "source": [
    "#### 특정 컬럼 데이터 타입 바꾸기 : astype (메소드)"
   ]
  },
  {
   "cell_type": "code",
   "execution_count": null,
   "id": "e01cb962-ce4e-4420-9fee-21359972a84e",
   "metadata": {},
   "outputs": [],
   "source": [
    "df['A'].astype('float')"
   ]
  },
  {
   "cell_type": "markdown",
   "id": "a9846810-22a8-408f-a232-157f131b633b",
   "metadata": {},
   "source": [
    "#### 컬럼 2개 동시에 데이터 타입 바꾸기 : astype"
   ]
  },
  {
   "cell_type": "code",
   "execution_count": 7,
   "id": "4a5da710-d9c6-40de-b6ee-58d83232e29b",
   "metadata": {},
   "outputs": [
    {
     "data": {
      "text/plain": [
       "A    float64\n",
       "B      int64\n",
       "C     object\n",
       "D     object\n",
       "E     object\n",
       "dtype: object"
      ]
     },
     "execution_count": 7,
     "metadata": {},
     "output_type": "execute_result"
    }
   ],
   "source": [
    "df_a = df.astype({'A':float, 'B':'int64'})\n",
    "df_a.dtypes"
   ]
  },
  {
   "cell_type": "markdown",
   "id": "3d986cb0-aef3-4cae-a8df-3fa02ea1d4ca",
   "metadata": {},
   "source": [
    "#### 컬럼 데이터 타입 : 문자형(obejct) -> 숫자로 변경 : pd.to_numeric()  (판다스의 함수)"
   ]
  },
  {
   "cell_type": "code",
   "execution_count": 8,
   "id": "48ef805a-0ffa-4275-af56-6cfe830083b2",
   "metadata": {},
   "outputs": [
    {
     "data": {
      "text/plain": [
       "dtype('O')"
      ]
     },
     "execution_count": 8,
     "metadata": {},
     "output_type": "execute_result"
    }
   ],
   "source": [
    "df['E'].dtypes"
   ]
  },
  {
   "cell_type": "code",
   "execution_count": 9,
   "id": "c29c78a6-645a-4b55-884f-c2ea6d37fc5c",
   "metadata": {},
   "outputs": [
    {
     "data": {
      "text/plain": [
       "0    1\n",
       "1    2\n",
       "2    3\n",
       "Name: E, dtype: int64"
      ]
     },
     "execution_count": 9,
     "metadata": {},
     "output_type": "execute_result"
    }
   ],
   "source": [
    "pd.to_numeric(df['E'])"
   ]
  },
  {
   "cell_type": "markdown",
   "id": "72716df4-0a76-4e8d-b8a7-a246de12b28e",
   "metadata": {},
   "source": [
    "#### 컬럼 데이터 타입 : 문자형(object) -> datetime 변경 : pd.to_datatime()"
   ]
  },
  {
   "cell_type": "code",
   "execution_count": 10,
   "id": "29f0794b-c154-41c3-a7da-8f7a794827a1",
   "metadata": {},
   "outputs": [
    {
     "data": {
      "text/plain": [
       "0    1.1.2020\n",
       "1    2.1.2020\n",
       "2    3.1.2020\n",
       "Name: C, dtype: object"
      ]
     },
     "execution_count": 10,
     "metadata": {},
     "output_type": "execute_result"
    }
   ],
   "source": [
    "df['C']"
   ]
  },
  {
   "cell_type": "code",
   "execution_count": 15,
   "id": "c42afc36-ff12-4d63-b5f9-ebca59af17f3",
   "metadata": {},
   "outputs": [
    {
     "data": {
      "text/plain": [
       "0   2020-01-01\n",
       "1   2020-02-01\n",
       "2   2020-03-01\n",
       "Name: C, dtype: datetime64[ns]"
      ]
     },
     "execution_count": 15,
     "metadata": {},
     "output_type": "execute_result"
    }
   ],
   "source": [
    "pd.to_datetime(df['C'])  # inplace는 아님"
   ]
  },
  {
   "cell_type": "markdown",
   "id": "b79a8b7a-20f0-4c7f-973d-ff42a8994d64",
   "metadata": {},
   "source": [
    "#### 컬럼 데이터 타입 : 문자형(object) -> timedelta로 변경"
   ]
  },
  {
   "cell_type": "code",
   "execution_count": 12,
   "id": "5ff057df-ac98-40e3-a90b-38b0899f0a15",
   "metadata": {},
   "outputs": [
    {
     "data": {
      "text/plain": [
       "0    1 days\n",
       "1    2 days\n",
       "2    3 days\n",
       "Name: D, dtype: object"
      ]
     },
     "execution_count": 12,
     "metadata": {},
     "output_type": "execute_result"
    }
   ],
   "source": [
    "df['D']"
   ]
  },
  {
   "cell_type": "code",
   "execution_count": 17,
   "id": "127419ca-6ded-4ba5-b5ee-2b39c9905340",
   "metadata": {},
   "outputs": [
    {
     "data": {
      "text/plain": [
       "0   1 days\n",
       "1   2 days\n",
       "2   3 days\n",
       "Name: D, dtype: timedelta64[ns]"
      ]
     },
     "execution_count": 17,
     "metadata": {},
     "output_type": "execute_result"
    }
   ],
   "source": [
    "pd.to_timedelta(df['D'])"
   ]
  },
  {
   "cell_type": "markdown",
   "id": "03ded01e-c3c5-49db-88f7-f15897f920f8",
   "metadata": {},
   "source": [
    "## multiple DataFrame 합치기\n",
    "- 1) pd.concat() : axis = 0 : 행단위로 append(밑으로 붙이기)\n",
    "  2) pd.concat() : axis = 1 : 열단위로 append(옆으로 붙이기)\n",
    "  3) append() : 행단위로 append(밑으로 붙이기) (pandas2.0 이후에는 없음!!)\n",
    "  4) merge() : 열단위로 JOIN (inner or outer) : pd.concat axis=1랑 똑같음"
   ]
  },
  {
   "cell_type": "code",
   "execution_count": 25,
   "id": "a6b105e1-c38f-47eb-9fbc-3e25fd6a706a",
   "metadata": {},
   "outputs": [],
   "source": [
    "D1 = [{'name': 'john', 'job':'teacher'},\n",
    "      {'name':'Nate', 'job': 'student'},\n",
    "      {'name':'Fred', 'job': 'developer'}]\n",
    "D2 = [{'name':'Ed', 'job': 'dentist'},\n",
    "      {'name':'Jack', 'job': 'farmer'},\n",
    "      {'name':'Ted', 'job': 'designer'}]\n",
    "\n",
    "df1 = pd.DataFrame(D1, columns = ['name', 'job'])\n",
    "df2 = pd.DataFrame(D2, columns = ['name', 'job'])"
   ]
  },
  {
   "cell_type": "code",
   "execution_count": 26,
   "id": "4334a514-4546-4095-abf5-1a1c223ed69f",
   "metadata": {},
   "outputs": [
    {
     "data": {
      "text/html": [
       "<div>\n",
       "<style scoped>\n",
       "    .dataframe tbody tr th:only-of-type {\n",
       "        vertical-align: middle;\n",
       "    }\n",
       "\n",
       "    .dataframe tbody tr th {\n",
       "        vertical-align: top;\n",
       "    }\n",
       "\n",
       "    .dataframe thead th {\n",
       "        text-align: right;\n",
       "    }\n",
       "</style>\n",
       "<table border=\"1\" class=\"dataframe\">\n",
       "  <thead>\n",
       "    <tr style=\"text-align: right;\">\n",
       "      <th></th>\n",
       "      <th>name</th>\n",
       "      <th>job</th>\n",
       "    </tr>\n",
       "  </thead>\n",
       "  <tbody>\n",
       "    <tr>\n",
       "      <th>0</th>\n",
       "      <td>john</td>\n",
       "      <td>teacher</td>\n",
       "    </tr>\n",
       "    <tr>\n",
       "      <th>1</th>\n",
       "      <td>Nate</td>\n",
       "      <td>student</td>\n",
       "    </tr>\n",
       "    <tr>\n",
       "      <th>2</th>\n",
       "      <td>Fred</td>\n",
       "      <td>developer</td>\n",
       "    </tr>\n",
       "  </tbody>\n",
       "</table>\n",
       "</div>"
      ],
      "text/plain": [
       "   name        job\n",
       "0  john    teacher\n",
       "1  Nate    student\n",
       "2  Fred  developer"
      ]
     },
     "execution_count": 26,
     "metadata": {},
     "output_type": "execute_result"
    },
    {
     "data": {
      "text/html": [
       "<div>\n",
       "<style scoped>\n",
       "    .dataframe tbody tr th:only-of-type {\n",
       "        vertical-align: middle;\n",
       "    }\n",
       "\n",
       "    .dataframe tbody tr th {\n",
       "        vertical-align: top;\n",
       "    }\n",
       "\n",
       "    .dataframe thead th {\n",
       "        text-align: right;\n",
       "    }\n",
       "</style>\n",
       "<table border=\"1\" class=\"dataframe\">\n",
       "  <thead>\n",
       "    <tr style=\"text-align: right;\">\n",
       "      <th></th>\n",
       "      <th>name</th>\n",
       "      <th>job</th>\n",
       "    </tr>\n",
       "  </thead>\n",
       "  <tbody>\n",
       "    <tr>\n",
       "      <th>0</th>\n",
       "      <td>Ed</td>\n",
       "      <td>dentist</td>\n",
       "    </tr>\n",
       "    <tr>\n",
       "      <th>1</th>\n",
       "      <td>Jack</td>\n",
       "      <td>farmer</td>\n",
       "    </tr>\n",
       "    <tr>\n",
       "      <th>2</th>\n",
       "      <td>Ted</td>\n",
       "      <td>designer</td>\n",
       "    </tr>\n",
       "  </tbody>\n",
       "</table>\n",
       "</div>"
      ],
      "text/plain": [
       "   name       job\n",
       "0    Ed   dentist\n",
       "1  Jack    farmer\n",
       "2   Ted  designer"
      ]
     },
     "execution_count": 26,
     "metadata": {},
     "output_type": "execute_result"
    }
   ],
   "source": [
    "df1\n",
    "df2"
   ]
  },
  {
   "cell_type": "markdown",
   "id": "8535cef5-46d8-4c7d-ae1e-f2c93951c38e",
   "metadata": {},
   "source": [
    "### 1) pd.concat - axis 0 행으로 합치기\n",
    "- ignore_index = True: 각각 인덱스 무시하고 다시 라벨링(재정렬)"
   ]
  },
  {
   "cell_type": "code",
   "execution_count": 22,
   "id": "b31d61e8-8ae7-462b-8f5e-6952b21531a0",
   "metadata": {},
   "outputs": [
    {
     "data": {
      "text/html": [
       "<div>\n",
       "<style scoped>\n",
       "    .dataframe tbody tr th:only-of-type {\n",
       "        vertical-align: middle;\n",
       "    }\n",
       "\n",
       "    .dataframe tbody tr th {\n",
       "        vertical-align: top;\n",
       "    }\n",
       "\n",
       "    .dataframe thead th {\n",
       "        text-align: right;\n",
       "    }\n",
       "</style>\n",
       "<table border=\"1\" class=\"dataframe\">\n",
       "  <thead>\n",
       "    <tr style=\"text-align: right;\">\n",
       "      <th></th>\n",
       "      <th>name</th>\n",
       "      <th>job</th>\n",
       "    </tr>\n",
       "  </thead>\n",
       "  <tbody>\n",
       "    <tr>\n",
       "      <th>0</th>\n",
       "      <td>john</td>\n",
       "      <td>teacher</td>\n",
       "    </tr>\n",
       "    <tr>\n",
       "      <th>1</th>\n",
       "      <td>Nate</td>\n",
       "      <td>student</td>\n",
       "    </tr>\n",
       "    <tr>\n",
       "      <th>2</th>\n",
       "      <td>Fred</td>\n",
       "      <td>developer</td>\n",
       "    </tr>\n",
       "    <tr>\n",
       "      <th>3</th>\n",
       "      <td>Ed</td>\n",
       "      <td>dentist</td>\n",
       "    </tr>\n",
       "    <tr>\n",
       "      <th>4</th>\n",
       "      <td>Jack</td>\n",
       "      <td>farmer</td>\n",
       "    </tr>\n",
       "    <tr>\n",
       "      <th>5</th>\n",
       "      <td>Ted</td>\n",
       "      <td>designer</td>\n",
       "    </tr>\n",
       "  </tbody>\n",
       "</table>\n",
       "</div>"
      ],
      "text/plain": [
       "   name        job\n",
       "0  john    teacher\n",
       "1  Nate    student\n",
       "2  Fred  developer\n",
       "3    Ed    dentist\n",
       "4  Jack     farmer\n",
       "5   Ted   designer"
      ]
     },
     "execution_count": 22,
     "metadata": {},
     "output_type": "execute_result"
    }
   ],
   "source": [
    "result = pd.concat([df1, df2], axis=0, ignore_index=True)\n",
    "result"
   ]
  },
  {
   "cell_type": "markdown",
   "id": "ba92c2b8-865a-4bcb-862f-d8fa4f402151",
   "metadata": {},
   "source": [
    "### 2) pd.concat - axis 1 열로 합치기"
   ]
  },
  {
   "cell_type": "code",
   "execution_count": 23,
   "id": "daaf98cc-b167-4322-b810-324f4c8c3668",
   "metadata": {},
   "outputs": [
    {
     "data": {
      "text/html": [
       "<div>\n",
       "<style scoped>\n",
       "    .dataframe tbody tr th:only-of-type {\n",
       "        vertical-align: middle;\n",
       "    }\n",
       "\n",
       "    .dataframe tbody tr th {\n",
       "        vertical-align: top;\n",
       "    }\n",
       "\n",
       "    .dataframe thead th {\n",
       "        text-align: right;\n",
       "    }\n",
       "</style>\n",
       "<table border=\"1\" class=\"dataframe\">\n",
       "  <thead>\n",
       "    <tr style=\"text-align: right;\">\n",
       "      <th></th>\n",
       "      <th>0</th>\n",
       "      <th>1</th>\n",
       "      <th>2</th>\n",
       "      <th>3</th>\n",
       "    </tr>\n",
       "  </thead>\n",
       "  <tbody>\n",
       "    <tr>\n",
       "      <th>0</th>\n",
       "      <td>john</td>\n",
       "      <td>teacher</td>\n",
       "      <td>Ed</td>\n",
       "      <td>dentist</td>\n",
       "    </tr>\n",
       "    <tr>\n",
       "      <th>1</th>\n",
       "      <td>Nate</td>\n",
       "      <td>student</td>\n",
       "      <td>Jack</td>\n",
       "      <td>farmer</td>\n",
       "    </tr>\n",
       "    <tr>\n",
       "      <th>2</th>\n",
       "      <td>Fred</td>\n",
       "      <td>developer</td>\n",
       "      <td>Ted</td>\n",
       "      <td>designer</td>\n",
       "    </tr>\n",
       "  </tbody>\n",
       "</table>\n",
       "</div>"
      ],
      "text/plain": [
       "      0          1     2         3\n",
       "0  john    teacher    Ed   dentist\n",
       "1  Nate    student  Jack    farmer\n",
       "2  Fred  developer   Ted  designer"
      ]
     },
     "execution_count": 23,
     "metadata": {},
     "output_type": "execute_result"
    }
   ],
   "source": [
    "result = pd.concat([df1, df2], axis=1, ignore_index=True)\n",
    "result"
   ]
  },
  {
   "cell_type": "markdown",
   "id": "c30880a4-6e57-4c50-b333-7947ddc1143c",
   "metadata": {},
   "source": [
    "### 3) append (pandas ver2.0부터 append was removed!!!)\n",
    "- 행으로 합치기"
   ]
  },
  {
   "cell_type": "code",
   "execution_count": 30,
   "id": "b281ea14-d721-4ec3-8cca-7b8dab6dfe0b",
   "metadata": {},
   "outputs": [
    {
     "data": {
      "text/html": [
       "<div>\n",
       "<style scoped>\n",
       "    .dataframe tbody tr th:only-of-type {\n",
       "        vertical-align: middle;\n",
       "    }\n",
       "\n",
       "    .dataframe tbody tr th {\n",
       "        vertical-align: top;\n",
       "    }\n",
       "\n",
       "    .dataframe thead th {\n",
       "        text-align: right;\n",
       "    }\n",
       "</style>\n",
       "<table border=\"1\" class=\"dataframe\">\n",
       "  <thead>\n",
       "    <tr style=\"text-align: right;\">\n",
       "      <th></th>\n",
       "      <th>0</th>\n",
       "      <th>1</th>\n",
       "      <th>2</th>\n",
       "      <th>3</th>\n",
       "    </tr>\n",
       "  </thead>\n",
       "  <tbody>\n",
       "    <tr>\n",
       "      <th>0</th>\n",
       "      <td>john</td>\n",
       "      <td>teacher</td>\n",
       "      <td>Ed</td>\n",
       "      <td>dentist</td>\n",
       "    </tr>\n",
       "    <tr>\n",
       "      <th>1</th>\n",
       "      <td>Nate</td>\n",
       "      <td>student</td>\n",
       "      <td>Jack</td>\n",
       "      <td>farmer</td>\n",
       "    </tr>\n",
       "    <tr>\n",
       "      <th>2</th>\n",
       "      <td>Fred</td>\n",
       "      <td>developer</td>\n",
       "      <td>Ted</td>\n",
       "      <td>designer</td>\n",
       "    </tr>\n",
       "  </tbody>\n",
       "</table>\n",
       "</div>"
      ],
      "text/plain": [
       "      0          1     2         3\n",
       "0  john    teacher    Ed   dentist\n",
       "1  Nate    student  Jack    farmer\n",
       "2  Fred  developer   Ted  designer"
      ]
     },
     "execution_count": 30,
     "metadata": {},
     "output_type": "execute_result"
    }
   ],
   "source": [
    "#result = df1.append(df2, ignore_index=True)\n",
    "result"
   ]
  },
  {
   "cell_type": "markdown",
   "id": "ec88934c-91f5-435b-9e87-12e882cba17d",
   "metadata": {},
   "source": [
    "### 4) merge()\n",
    "- 열로 합치기\n",
    "- how 옵션 : JOIN : inner, left, right, outer"
   ]
  },
  {
   "cell_type": "code",
   "execution_count": 35,
   "id": "b5f72eac-0913-449b-a923-4f60774d30d3",
   "metadata": {},
   "outputs": [
    {
     "name": "stdout",
     "output_type": "stream",
     "text": [
      "   고객번호   이름\n",
      "0  1001  AAA\n",
      "1  1002  BBB\n",
      "2  1003  CCC\n",
      "3  1004  DDD\n",
      "4  1005  EEE\n",
      "   고객번호    금액\n",
      "0  1001  1000\n",
      "1  1001  2000\n",
      "2  1002  1500\n",
      "3  1005   500\n",
      "4  1006   700\n"
     ]
    }
   ],
   "source": [
    "member_df = pd.DataFrame({\n",
    "    '고객번호' : [1001, 1002, 1003, 1004, 1005],\n",
    "    '이름' : ['AAA', 'BBB', 'CCC', 'DDD', 'EEE']\n",
    "}, columns = ['고객번호', '이름'])\n",
    "\n",
    "transaction_df = pd.DataFrame({\n",
    "    '고객번호' : [1001, 1001, 1002, 1005, 1006],\n",
    "    '금액' : [1000, 2000, 1500, 500, 700]\n",
    "}, columns = ['고객번호', '금액'])\n",
    "\n",
    "print(member_df)\n",
    "print(transaction_df)"
   ]
  },
  {
   "cell_type": "markdown",
   "id": "97af4b5c-a6cb-4fc3-9a63-457eda2a42d5",
   "metadata": {},
   "source": [
    "- how = 'inner'\n",
    "  - 겹치는 애들만 join"
   ]
  },
  {
   "cell_type": "code",
   "execution_count": 36,
   "id": "07137f8e-0f5b-47f7-80c8-2a7dcd689dc9",
   "metadata": {},
   "outputs": [
    {
     "name": "stdout",
     "output_type": "stream",
     "text": [
      "   고객번호   이름    금액\n",
      "0  1001  AAA  1000\n",
      "1  1001  AAA  2000\n",
      "2  1002  BBB  1500\n",
      "3  1005  EEE   500\n"
     ]
    }
   ],
   "source": [
    "inner_result = pd.merge(member_df, transaction_df, how = 'inner')\n",
    "print(inner_result)"
   ]
  },
  {
   "cell_type": "markdown",
   "id": "70f6646d-91bb-44f0-9d8b-bfe50d1974a6",
   "metadata": {},
   "source": [
    "- how = 'left'\n",
    "    - 왼쪽 데이터 기준으로 오른쪽 데이터 이어붙이기\n",
    "    - 왼쪽 데이터는 있는데 오른쪽 없으면 NaN"
   ]
  },
  {
   "cell_type": "code",
   "execution_count": 37,
   "id": "93f33115-1294-4b84-83d1-c7c96c529774",
   "metadata": {},
   "outputs": [
    {
     "name": "stdout",
     "output_type": "stream",
     "text": [
      "   고객번호   이름      금액\n",
      "0  1001  AAA  1000.0\n",
      "1  1001  AAA  2000.0\n",
      "2  1002  BBB  1500.0\n",
      "3  1003  CCC     NaN\n",
      "4  1004  DDD     NaN\n",
      "5  1005  EEE   500.0\n"
     ]
    }
   ],
   "source": [
    "left_result = pd.merge(member_df, transaction_df, how = 'left')\n",
    "print(left_result)"
   ]
  },
  {
   "cell_type": "markdown",
   "id": "f3d8812a-e525-460f-b7da-d50871b8a04a",
   "metadata": {},
   "source": [
    "- how = 'right'\n",
    "    - 오른쪽 기준으로 왼쪽 데이터 이어붙이기\n",
    "    - 오른쪽 데이터는 있는데 왼쪾 없으면 NaN"
   ]
  },
  {
   "cell_type": "code",
   "execution_count": 38,
   "id": "b188ff65-b49f-4d94-a5eb-cfb598e62d2e",
   "metadata": {},
   "outputs": [
    {
     "name": "stdout",
     "output_type": "stream",
     "text": [
      "   고객번호   이름    금액\n",
      "0  1001  AAA  1000\n",
      "1  1001  AAA  2000\n",
      "2  1002  BBB  1500\n",
      "3  1005  EEE   500\n",
      "4  1006  NaN   700\n"
     ]
    }
   ],
   "source": [
    "right_result = pd.merge(member_df, transaction_df, how = 'right')\n",
    "print(right_result)"
   ]
  },
  {
   "cell_type": "markdown",
   "id": "0aada1ef-2c49-4b83-baac-f37029444c73",
   "metadata": {},
   "source": [
    "## pivot table : pivot method 사용\n",
    "- 원하는 형태로 데이터 뽑아서 보기\n",
    "  \n",
    "- column 2개를 지정함 -> 각각 행 & 열 인덱스로 해서 데이터 보여줌\n",
    "- pivot method\n",
    "    - 1st 인수 : 행 인덱스로 사용할 컬럼 이름\n",
    "    - 2nd 인수 : 열 인덱스로 사용할 컬럼 이름\n",
    "    - last 인수 : 데이터로 사용할 컬럼 이름\n",
    "    - 주어진 데이터가 존재 X -> 해당 칸에 NaN 넣음"
   ]
  },
  {
   "cell_type": "markdown",
   "id": "925a792d-b45d-47aa-9553-36983d964743",
   "metadata": {},
   "source": [
    "- 각 도시의 연도별 인구"
   ]
  },
  {
   "cell_type": "code",
   "execution_count": 41,
   "id": "f0525d48-14ae-462c-93f4-cb213921b3c7",
   "metadata": {},
   "outputs": [
    {
     "data": {
      "text/html": [
       "<div>\n",
       "<style scoped>\n",
       "    .dataframe tbody tr th:only-of-type {\n",
       "        vertical-align: middle;\n",
       "    }\n",
       "\n",
       "    .dataframe tbody tr th {\n",
       "        vertical-align: top;\n",
       "    }\n",
       "\n",
       "    .dataframe thead th {\n",
       "        text-align: right;\n",
       "    }\n",
       "</style>\n",
       "<table border=\"1\" class=\"dataframe\">\n",
       "  <thead>\n",
       "    <tr style=\"text-align: right;\">\n",
       "      <th></th>\n",
       "      <th>도시</th>\n",
       "      <th>연도</th>\n",
       "      <th>인구</th>\n",
       "      <th>지역</th>\n",
       "    </tr>\n",
       "  </thead>\n",
       "  <tbody>\n",
       "    <tr>\n",
       "      <th>0</th>\n",
       "      <td>서울</td>\n",
       "      <td>2015</td>\n",
       "      <td>9901521</td>\n",
       "      <td>수도권</td>\n",
       "    </tr>\n",
       "    <tr>\n",
       "      <th>1</th>\n",
       "      <td>서울</td>\n",
       "      <td>2010</td>\n",
       "      <td>9361456</td>\n",
       "      <td>수도권</td>\n",
       "    </tr>\n",
       "    <tr>\n",
       "      <th>2</th>\n",
       "      <td>서울</td>\n",
       "      <td>2005</td>\n",
       "      <td>9875616</td>\n",
       "      <td>수도권</td>\n",
       "    </tr>\n",
       "    <tr>\n",
       "      <th>3</th>\n",
       "      <td>부산</td>\n",
       "      <td>2015</td>\n",
       "      <td>3452216</td>\n",
       "      <td>경상권</td>\n",
       "    </tr>\n",
       "    <tr>\n",
       "      <th>4</th>\n",
       "      <td>부산</td>\n",
       "      <td>2010</td>\n",
       "      <td>3654213</td>\n",
       "      <td>경상권</td>\n",
       "    </tr>\n",
       "    <tr>\n",
       "      <th>5</th>\n",
       "      <td>부산</td>\n",
       "      <td>2005</td>\n",
       "      <td>3412654</td>\n",
       "      <td>경상권</td>\n",
       "    </tr>\n",
       "    <tr>\n",
       "      <th>6</th>\n",
       "      <td>인천</td>\n",
       "      <td>2015</td>\n",
       "      <td>2486523</td>\n",
       "      <td>수도권</td>\n",
       "    </tr>\n",
       "    <tr>\n",
       "      <th>7</th>\n",
       "      <td>인천</td>\n",
       "      <td>2010</td>\n",
       "      <td>2145321</td>\n",
       "      <td>수도권</td>\n",
       "    </tr>\n",
       "  </tbody>\n",
       "</table>\n",
       "</div>"
      ],
      "text/plain": [
       "   도시    연도       인구   지역\n",
       "0  서울  2015  9901521  수도권\n",
       "1  서울  2010  9361456  수도권\n",
       "2  서울  2005  9875616  수도권\n",
       "3  부산  2015  3452216  경상권\n",
       "4  부산  2010  3654213  경상권\n",
       "5  부산  2005  3412654  경상권\n",
       "6  인천  2015  2486523  수도권\n",
       "7  인천  2010  2145321  수도권"
      ]
     },
     "execution_count": 41,
     "metadata": {},
     "output_type": "execute_result"
    }
   ],
   "source": [
    "data = {\n",
    "    '도시' : ['서울', '서울', '서울', '부산', '부산', '부산', '인천', '인천'],\n",
    "    '연도' : ['2015', '2010', '2005', '2015', '2010','2005', '2015', '2010'],\n",
    "    '인구' : [9901521, 9361456, 9875616, 3452216, 3654213, 3412654,2486523, 2145321],\n",
    "    '지역' : ['수도권', '수도권','수도권','경상권','경상권','경상권','수도권','수도권']\n",
    "}\n",
    "columns = ['도시', '연도', '인구' , '지역']\n",
    "df = pd.DataFrame(data, columns = columns)\n",
    "df"
   ]
  },
  {
   "cell_type": "markdown",
   "id": "aa0a9821-b099-42c2-9c79-441c4ac70811",
   "metadata": {},
   "source": [
    "- 어떤 도시 어떤 시점 인구 파악 : pivot 테이블로 변경\n",
    "    - 행 인덱스 : 연도\n",
    "    - 열 인덱스 : 도시\n",
    "    - 데이터 이름 : 인구"
   ]
  },
  {
   "cell_type": "code",
   "execution_count": 42,
   "id": "5bed8dce-e7de-4cb4-bc84-8460af4ac1ad",
   "metadata": {},
   "outputs": [
    {
     "data": {
      "text/html": [
       "<div>\n",
       "<style scoped>\n",
       "    .dataframe tbody tr th:only-of-type {\n",
       "        vertical-align: middle;\n",
       "    }\n",
       "\n",
       "    .dataframe tbody tr th {\n",
       "        vertical-align: top;\n",
       "    }\n",
       "\n",
       "    .dataframe thead th {\n",
       "        text-align: right;\n",
       "    }\n",
       "</style>\n",
       "<table border=\"1\" class=\"dataframe\">\n",
       "  <thead>\n",
       "    <tr style=\"text-align: right;\">\n",
       "      <th>도시</th>\n",
       "      <th>부산</th>\n",
       "      <th>서울</th>\n",
       "      <th>인천</th>\n",
       "    </tr>\n",
       "    <tr>\n",
       "      <th>연도</th>\n",
       "      <th></th>\n",
       "      <th></th>\n",
       "      <th></th>\n",
       "    </tr>\n",
       "  </thead>\n",
       "  <tbody>\n",
       "    <tr>\n",
       "      <th>2005</th>\n",
       "      <td>3412654.0</td>\n",
       "      <td>9875616.0</td>\n",
       "      <td>NaN</td>\n",
       "    </tr>\n",
       "    <tr>\n",
       "      <th>2010</th>\n",
       "      <td>3654213.0</td>\n",
       "      <td>9361456.0</td>\n",
       "      <td>2145321.0</td>\n",
       "    </tr>\n",
       "    <tr>\n",
       "      <th>2015</th>\n",
       "      <td>3452216.0</td>\n",
       "      <td>9901521.0</td>\n",
       "      <td>2486523.0</td>\n",
       "    </tr>\n",
       "  </tbody>\n",
       "</table>\n",
       "</div>"
      ],
      "text/plain": [
       "도시           부산         서울         인천\n",
       "연도                                   \n",
       "2005  3412654.0  9875616.0        NaN\n",
       "2010  3654213.0  9361456.0  2145321.0\n",
       "2015  3452216.0  9901521.0  2486523.0"
      ]
     },
     "execution_count": 42,
     "metadata": {},
     "output_type": "execute_result"
    }
   ],
   "source": [
    "df.pivot(index='연도', columns='도시', values='인구')  # inplace 안됨"
   ]
  },
  {
   "cell_type": "markdown",
   "id": "901ba4d2-1787-4066-a97a-9bfd89db58e8",
   "metadata": {},
   "source": [
    "- 인천의 2005 데이터가 NaN이구나~ 발견!\n",
    "1) fillna로 Null값 처리"
   ]
  },
  {
   "cell_type": "code",
   "execution_count": 43,
   "id": "b06274b4-8129-499f-8809-761e8f1cb705",
   "metadata": {},
   "outputs": [
    {
     "data": {
      "text/html": [
       "<div>\n",
       "<style scoped>\n",
       "    .dataframe tbody tr th:only-of-type {\n",
       "        vertical-align: middle;\n",
       "    }\n",
       "\n",
       "    .dataframe tbody tr th {\n",
       "        vertical-align: top;\n",
       "    }\n",
       "\n",
       "    .dataframe thead th {\n",
       "        text-align: right;\n",
       "    }\n",
       "</style>\n",
       "<table border=\"1\" class=\"dataframe\">\n",
       "  <thead>\n",
       "    <tr style=\"text-align: right;\">\n",
       "      <th>도시</th>\n",
       "      <th>부산</th>\n",
       "      <th>서울</th>\n",
       "      <th>인천</th>\n",
       "    </tr>\n",
       "    <tr>\n",
       "      <th>연도</th>\n",
       "      <th></th>\n",
       "      <th></th>\n",
       "      <th></th>\n",
       "    </tr>\n",
       "  </thead>\n",
       "  <tbody>\n",
       "    <tr>\n",
       "      <th>2005</th>\n",
       "      <td>3412654.0</td>\n",
       "      <td>9875616.0</td>\n",
       "      <td>0.0</td>\n",
       "    </tr>\n",
       "    <tr>\n",
       "      <th>2010</th>\n",
       "      <td>3654213.0</td>\n",
       "      <td>9361456.0</td>\n",
       "      <td>2145321.0</td>\n",
       "    </tr>\n",
       "    <tr>\n",
       "      <th>2015</th>\n",
       "      <td>3452216.0</td>\n",
       "      <td>9901521.0</td>\n",
       "      <td>2486523.0</td>\n",
       "    </tr>\n",
       "  </tbody>\n",
       "</table>\n",
       "</div>"
      ],
      "text/plain": [
       "도시           부산         서울         인천\n",
       "연도                                   \n",
       "2005  3412654.0  9875616.0        0.0\n",
       "2010  3654213.0  9361456.0  2145321.0\n",
       "2015  3452216.0  9901521.0  2486523.0"
      ]
     },
     "execution_count": 43,
     "metadata": {},
     "output_type": "execute_result"
    }
   ],
   "source": [
    "# Null 값 처리 : 0으로 채움\n",
    "df2 = df.pivot(index='연도', columns='도시', values = '인구')\n",
    "df2.fillna(0)"
   ]
  },
  {
   "cell_type": "markdown",
   "id": "47c76fdd-7143-400d-96bf-37ab2d36ca62",
   "metadata": {},
   "source": [
    "2) pd.pivot_table() 사용해서 Null값 처리\n",
    "   - 처음 pivot table 만들때 Null값 동시 처리"
   ]
  },
  {
   "cell_type": "code",
   "execution_count": 44,
   "id": "d2216707-da07-48a0-b99f-087ab8f02ca3",
   "metadata": {},
   "outputs": [
    {
     "data": {
      "text/html": [
       "<div>\n",
       "<style scoped>\n",
       "    .dataframe tbody tr th:only-of-type {\n",
       "        vertical-align: middle;\n",
       "    }\n",
       "\n",
       "    .dataframe tbody tr th {\n",
       "        vertical-align: top;\n",
       "    }\n",
       "\n",
       "    .dataframe thead th {\n",
       "        text-align: right;\n",
       "    }\n",
       "</style>\n",
       "<table border=\"1\" class=\"dataframe\">\n",
       "  <thead>\n",
       "    <tr style=\"text-align: right;\">\n",
       "      <th>도시</th>\n",
       "      <th>부산</th>\n",
       "      <th>서울</th>\n",
       "      <th>인천</th>\n",
       "    </tr>\n",
       "    <tr>\n",
       "      <th>연도</th>\n",
       "      <th></th>\n",
       "      <th></th>\n",
       "      <th></th>\n",
       "    </tr>\n",
       "  </thead>\n",
       "  <tbody>\n",
       "    <tr>\n",
       "      <th>2005</th>\n",
       "      <td>3412654</td>\n",
       "      <td>9875616</td>\n",
       "      <td>0</td>\n",
       "    </tr>\n",
       "    <tr>\n",
       "      <th>2010</th>\n",
       "      <td>3654213</td>\n",
       "      <td>9361456</td>\n",
       "      <td>2145321</td>\n",
       "    </tr>\n",
       "    <tr>\n",
       "      <th>2015</th>\n",
       "      <td>3452216</td>\n",
       "      <td>9901521</td>\n",
       "      <td>2486523</td>\n",
       "    </tr>\n",
       "  </tbody>\n",
       "</table>\n",
       "</div>"
      ],
      "text/plain": [
       "도시         부산       서울       인천\n",
       "연도                             \n",
       "2005  3412654  9875616        0\n",
       "2010  3654213  9361456  2145321\n",
       "2015  3452216  9901521  2486523"
      ]
     },
     "execution_count": 44,
     "metadata": {},
     "output_type": "execute_result"
    }
   ],
   "source": [
    "# fill-value - Null값 대체\n",
    "pd.pivot_table(df, index='연도', columns='도시', values='인구', aggfunc='sum', fill_value=0)"
   ]
  },
  {
   "cell_type": "markdown",
   "id": "94f5d13c-9253-4b40-9f26-c2facdcd4bb2",
   "metadata": {},
   "source": [
    "## Pandas 데이터 입출력"
   ]
  },
  {
   "cell_type": "code",
   "execution_count": 46,
   "id": "3ff5ef7d-c1d8-47a9-ad82-01a1bc08c1f4",
   "metadata": {},
   "outputs": [
    {
     "data": {
      "text/html": [
       "<div>\n",
       "<style scoped>\n",
       "    .dataframe tbody tr th:only-of-type {\n",
       "        vertical-align: middle;\n",
       "    }\n",
       "\n",
       "    .dataframe tbody tr th {\n",
       "        vertical-align: top;\n",
       "    }\n",
       "\n",
       "    .dataframe thead th {\n",
       "        text-align: right;\n",
       "    }\n",
       "</style>\n",
       "<table border=\"1\" class=\"dataframe\">\n",
       "  <thead>\n",
       "    <tr style=\"text-align: right;\">\n",
       "      <th></th>\n",
       "      <th>name</th>\n",
       "      <th>age</th>\n",
       "      <th>job</th>\n",
       "    </tr>\n",
       "  </thead>\n",
       "  <tbody>\n",
       "    <tr>\n",
       "      <th>0</th>\n",
       "      <td>john</td>\n",
       "      <td>20</td>\n",
       "      <td>student</td>\n",
       "    </tr>\n",
       "    <tr>\n",
       "      <th>1</th>\n",
       "      <td>jenny</td>\n",
       "      <td>30</td>\n",
       "      <td>developer</td>\n",
       "    </tr>\n",
       "    <tr>\n",
       "      <th>2</th>\n",
       "      <td>nate</td>\n",
       "      <td>40</td>\n",
       "      <td>teacher</td>\n",
       "    </tr>\n",
       "  </tbody>\n",
       "</table>\n",
       "</div>"
      ],
      "text/plain": [
       "    name  age        job\n",
       "0   john   20    student\n",
       "1  jenny   30  developer\n",
       "2   nate   40    teacher"
      ]
     },
     "execution_count": 46,
     "metadata": {},
     "output_type": "execute_result"
    }
   ],
   "source": [
    "friend_list = [['john', 20, 'student'],\n",
    "            ['jenny', 30, 'developer'],\n",
    "            ['nate', 40, 'teacher']]\n",
    "\n",
    "column_name = ['name', 'age', 'job']\n",
    "\n",
    "df = pd.DataFrame.from_records(friend_list, columns=column_name)\n",
    "df"
   ]
  },
  {
   "cell_type": "markdown",
   "id": "9d8fe43f-3777-46aa-9077-3d33d8fd8bb8",
   "metadata": {},
   "source": [
    "## DataFrame을 csv 파일로 저장\n",
    "#### 1) DataFrame을 csv파일로 저장 : to_csv()"
   ]
  },
  {
   "cell_type": "code",
   "execution_count": 47,
   "id": "b0d3dc19-9eeb-4f69-b88d-75fd94b69bf1",
   "metadata": {},
   "outputs": [],
   "source": [
    "df.to_csv('friend_list.csv')"
   ]
  },
  {
   "cell_type": "markdown",
   "id": "02d560b9-9ad0-46a8-9654-f52f895ee99b",
   "metadata": {},
   "source": [
    "- 헤더, 인덱스가 저장되서 나중에 꼬일것 같다.\n",
    "- 0, john,,,"
   ]
  },
  {
   "cell_type": "markdown",
   "id": "6261af67-a0a3-4cc4-92e7-3558857576e3",
   "metadata": {},
   "source": [
    "#### 2) Header 없는 DataFrame의 csv 파일 저장"
   ]
  },
  {
   "cell_type": "code",
   "execution_count": null,
   "id": "4e7743bf-9873-4459-8abf-e9101fd4123d",
   "metadata": {},
   "outputs": [],
   "source": [
    "friend_list = [['john', 20, 'student'],\n",
    "            ['jenny', 30, 'developer'],\n",
    "            ['nate', 40, 'teacher']]\n",
    "df = pd.DataFrame.from_records(frined_list)\n",
    "df"
   ]
  },
  {
   "cell_type": "code",
   "execution_count": 49,
   "id": "58624eb3-a24f-46c3-83f5-731022ffb307",
   "metadata": {},
   "outputs": [],
   "source": [
    "df.to_csv('friend_list2.csv', header=False, index=False)\n",
    "# header, index 지정 x\n",
    "# 데이터만 딱 들어감"
   ]
  },
  {
   "cell_type": "markdown",
   "id": "22a1d804-5cd5-45a9-9529-5706fc9b424c",
   "metadata": {},
   "source": [
    "#### 3) Header 저장할 경우 : header=column이름 지정"
   ]
  },
  {
   "cell_type": "code",
   "execution_count": 50,
   "id": "3e8651c9-a703-4869-a1ce-47fac959c57a",
   "metadata": {},
   "outputs": [],
   "source": [
    "df.to_csv('friend_list3.csv', header= ['name', 'age', 'job'], index = False)"
   ]
  },
  {
   "cell_type": "markdown",
   "id": "f7fb9f80-e084-4d44-b3f4-bb8dadf02049",
   "metadata": {},
   "source": [
    "### **CSV 파일 데이터 불러오기** : read_csv()"
   ]
  },
  {
   "cell_type": "code",
   "execution_count": 52,
   "id": "8250378c-1f6d-4fd9-81a2-04c1d3f5f252",
   "metadata": {},
   "outputs": [
    {
     "data": {
      "text/html": [
       "<div>\n",
       "<style scoped>\n",
       "    .dataframe tbody tr th:only-of-type {\n",
       "        vertical-align: middle;\n",
       "    }\n",
       "\n",
       "    .dataframe tbody tr th {\n",
       "        vertical-align: top;\n",
       "    }\n",
       "\n",
       "    .dataframe thead th {\n",
       "        text-align: right;\n",
       "    }\n",
       "</style>\n",
       "<table border=\"1\" class=\"dataframe\">\n",
       "  <thead>\n",
       "    <tr style=\"text-align: right;\">\n",
       "      <th></th>\n",
       "      <th>Unnamed: 0</th>\n",
       "      <th>name</th>\n",
       "      <th>age</th>\n",
       "      <th>job</th>\n",
       "    </tr>\n",
       "  </thead>\n",
       "  <tbody>\n",
       "    <tr>\n",
       "      <th>0</th>\n",
       "      <td>0</td>\n",
       "      <td>john</td>\n",
       "      <td>20</td>\n",
       "      <td>student</td>\n",
       "    </tr>\n",
       "    <tr>\n",
       "      <th>1</th>\n",
       "      <td>1</td>\n",
       "      <td>jenny</td>\n",
       "      <td>30</td>\n",
       "      <td>developer</td>\n",
       "    </tr>\n",
       "    <tr>\n",
       "      <th>2</th>\n",
       "      <td>2</td>\n",
       "      <td>nate</td>\n",
       "      <td>40</td>\n",
       "      <td>teacher</td>\n",
       "    </tr>\n",
       "  </tbody>\n",
       "</table>\n",
       "</div>"
      ],
      "text/plain": [
       "   Unnamed: 0   name  age        job\n",
       "0           0   john   20    student\n",
       "1           1  jenny   30  developer\n",
       "2           2   nate   40    teacher"
      ]
     },
     "execution_count": 52,
     "metadata": {},
     "output_type": "execute_result"
    }
   ],
   "source": [
    "data_frame = pd.read_csv('friend_list.csv')\n",
    "data_frame\n",
    "# Unnamed: 0 에 인덱스가 컬럼으로 중복들어간다...."
   ]
  },
  {
   "cell_type": "code",
   "execution_count": 53,
   "id": "ddbaafe2-b25e-4e27-80a4-9a74f5ac7008",
   "metadata": {},
   "outputs": [
    {
     "data": {
      "text/html": [
       "<div>\n",
       "<style scoped>\n",
       "    .dataframe tbody tr th:only-of-type {\n",
       "        vertical-align: middle;\n",
       "    }\n",
       "\n",
       "    .dataframe tbody tr th {\n",
       "        vertical-align: top;\n",
       "    }\n",
       "\n",
       "    .dataframe thead th {\n",
       "        text-align: right;\n",
       "    }\n",
       "</style>\n",
       "<table border=\"1\" class=\"dataframe\">\n",
       "  <thead>\n",
       "    <tr style=\"text-align: right;\">\n",
       "      <th></th>\n",
       "      <th>john</th>\n",
       "      <th>20</th>\n",
       "      <th>student</th>\n",
       "    </tr>\n",
       "  </thead>\n",
       "  <tbody>\n",
       "    <tr>\n",
       "      <th>0</th>\n",
       "      <td>jenny</td>\n",
       "      <td>30</td>\n",
       "      <td>developer</td>\n",
       "    </tr>\n",
       "    <tr>\n",
       "      <th>1</th>\n",
       "      <td>nate</td>\n",
       "      <td>40</td>\n",
       "      <td>teacher</td>\n",
       "    </tr>\n",
       "  </tbody>\n",
       "</table>\n",
       "</div>"
      ],
      "text/plain": [
       "    john  20    student\n",
       "0  jenny  30  developer\n",
       "1   nate  40    teacher"
      ]
     },
     "execution_count": 53,
     "metadata": {},
     "output_type": "execute_result"
    }
   ],
   "source": [
    "# header 지정을 안해줘서 첫 데이터가 header 가 되어버림\n",
    "data_frame = pd.read_csv('friend_list2.csv')\n",
    "data_frame.head()"
   ]
  },
  {
   "cell_type": "code",
   "execution_count": 55,
   "id": "e08106da-f7e0-4582-bc81-9f235cacb2e5",
   "metadata": {},
   "outputs": [
    {
     "data": {
      "text/html": [
       "<div>\n",
       "<style scoped>\n",
       "    .dataframe tbody tr th:only-of-type {\n",
       "        vertical-align: middle;\n",
       "    }\n",
       "\n",
       "    .dataframe tbody tr th {\n",
       "        vertical-align: top;\n",
       "    }\n",
       "\n",
       "    .dataframe thead th {\n",
       "        text-align: right;\n",
       "    }\n",
       "</style>\n",
       "<table border=\"1\" class=\"dataframe\">\n",
       "  <thead>\n",
       "    <tr style=\"text-align: right;\">\n",
       "      <th></th>\n",
       "      <th>name</th>\n",
       "      <th>age</th>\n",
       "      <th>job</th>\n",
       "    </tr>\n",
       "  </thead>\n",
       "  <tbody>\n",
       "    <tr>\n",
       "      <th>0</th>\n",
       "      <td>john</td>\n",
       "      <td>20</td>\n",
       "      <td>student</td>\n",
       "    </tr>\n",
       "    <tr>\n",
       "      <th>1</th>\n",
       "      <td>jenny</td>\n",
       "      <td>30</td>\n",
       "      <td>developer</td>\n",
       "    </tr>\n",
       "    <tr>\n",
       "      <th>2</th>\n",
       "      <td>nate</td>\n",
       "      <td>40</td>\n",
       "      <td>teacher</td>\n",
       "    </tr>\n",
       "  </tbody>\n",
       "</table>\n",
       "</div>"
      ],
      "text/plain": [
       "    name  age        job\n",
       "0   john   20    student\n",
       "1  jenny   30  developer\n",
       "2   nate   40    teacher"
      ]
     },
     "execution_count": 55,
     "metadata": {},
     "output_type": "execute_result"
    }
   ],
   "source": [
    "# 깔끔\n",
    "data_frame = pd.read_csv('friend_list3.csv')\n",
    "data_frame.head()"
   ]
  },
  {
   "cell_type": "markdown",
   "id": "b985e14f-605d-4caf-bb44-8980bb477d44",
   "metadata": {},
   "source": [
    "## **excel 로 저장**\n",
    "- 모듈 설치 필요"
   ]
  },
  {
   "cell_type": "code",
   "execution_count": 56,
   "id": "905b14b7-a3b0-481a-b3f9-a3ee3ce921f5",
   "metadata": {},
   "outputs": [
    {
     "name": "stdout",
     "output_type": "stream",
     "text": [
      "Collecting xlrdNote: you may need to restart the kernel to use updated packages.\n",
      "\n",
      "  Downloading xlrd-2.0.1-py2.py3-none-any.whl.metadata (3.4 kB)\n",
      "Downloading xlrd-2.0.1-py2.py3-none-any.whl (96 kB)\n",
      "   ---------------------------------------- 0.0/96.5 kB ? eta -:--:--\n",
      "   ---------------------------------------- 0.0/96.5 kB ? eta -:--:--\n",
      "   ---- ----------------------------------- 10.2/96.5 kB ? eta -:--:--\n",
      "   --------------------------------- ------ 81.9/96.5 kB 1.2 MB/s eta 0:00:01\n",
      "   ---------------------------------------- 96.5/96.5 kB 918.0 kB/s eta 0:00:00\n",
      "Installing collected packages: xlrd\n",
      "Successfully installed xlrd-2.0.1\n"
     ]
    }
   ],
   "source": [
    "pip install xlrd"
   ]
  },
  {
   "cell_type": "code",
   "execution_count": 57,
   "id": "c5c2052d-3c2b-4037-9559-f00a321440a8",
   "metadata": {},
   "outputs": [
    {
     "name": "stdout",
     "output_type": "stream",
     "text": [
      "Collecting openpyxl\n",
      "  Downloading openpyxl-3.1.2-py2.py3-none-any.whl.metadata (2.5 kB)\n",
      "Collecting et-xmlfile (from openpyxl)\n",
      "  Downloading et_xmlfile-1.1.0-py3-none-any.whl.metadata (1.8 kB)\n",
      "Downloading openpyxl-3.1.2-py2.py3-none-any.whl (249 kB)\n",
      "   ---------------------------------------- 0.0/250.0 kB ? eta -:--:--\n",
      "   ---------------------------------------- 0.0/250.0 kB ? eta -:--:--\n",
      "   - -------------------------------------- 10.2/250.0 kB ? eta -:--:--\n",
      "   ------ -------------------------------- 41.0/250.0 kB 653.6 kB/s eta 0:00:01\n",
      "   ------------------- -------------------- 122.9/250.0 kB 1.2 MB/s eta 0:00:01\n",
      "   ---------------------------------------- 250.0/250.0 kB 1.9 MB/s eta 0:00:00\n",
      "Downloading et_xmlfile-1.1.0-py3-none-any.whl (4.7 kB)\n",
      "Installing collected packages: et-xmlfile, openpyxl\n",
      "Successfully installed et-xmlfile-1.1.0 openpyxl-3.1.2\n",
      "Note: you may need to restart the kernel to use updated packages.\n"
     ]
    }
   ],
   "source": [
    "pip install openpyxl"
   ]
  },
  {
   "cell_type": "code",
   "execution_count": 58,
   "id": "eef2ff0a-851c-4908-8d7f-f47707ae7590",
   "metadata": {},
   "outputs": [],
   "source": [
    "df_friend = pd.read_csv('friend_list3.csv')"
   ]
  },
  {
   "cell_type": "code",
   "execution_count": 59,
   "id": "2d5848fd-bcef-40bd-a2d4-5cc5ea3e5fa4",
   "metadata": {},
   "outputs": [
    {
     "data": {
      "text/html": [
       "<div>\n",
       "<style scoped>\n",
       "    .dataframe tbody tr th:only-of-type {\n",
       "        vertical-align: middle;\n",
       "    }\n",
       "\n",
       "    .dataframe tbody tr th {\n",
       "        vertical-align: top;\n",
       "    }\n",
       "\n",
       "    .dataframe thead th {\n",
       "        text-align: right;\n",
       "    }\n",
       "</style>\n",
       "<table border=\"1\" class=\"dataframe\">\n",
       "  <thead>\n",
       "    <tr style=\"text-align: right;\">\n",
       "      <th></th>\n",
       "      <th>name</th>\n",
       "      <th>age</th>\n",
       "      <th>job</th>\n",
       "    </tr>\n",
       "  </thead>\n",
       "  <tbody>\n",
       "    <tr>\n",
       "      <th>0</th>\n",
       "      <td>john</td>\n",
       "      <td>20</td>\n",
       "      <td>student</td>\n",
       "    </tr>\n",
       "    <tr>\n",
       "      <th>1</th>\n",
       "      <td>jenny</td>\n",
       "      <td>30</td>\n",
       "      <td>developer</td>\n",
       "    </tr>\n",
       "    <tr>\n",
       "      <th>2</th>\n",
       "      <td>nate</td>\n",
       "      <td>40</td>\n",
       "      <td>teacher</td>\n",
       "    </tr>\n",
       "  </tbody>\n",
       "</table>\n",
       "</div>"
      ],
      "text/plain": [
       "    name  age        job\n",
       "0   john   20    student\n",
       "1  jenny   30  developer\n",
       "2   nate   40    teacher"
      ]
     },
     "execution_count": 59,
     "metadata": {},
     "output_type": "execute_result"
    }
   ],
   "source": [
    "df_friend"
   ]
  },
  {
   "cell_type": "code",
   "execution_count": 60,
   "id": "7b5ad9d1-013a-4a10-8585-15bcf40cf8cf",
   "metadata": {},
   "outputs": [
    {
     "name": "stderr",
     "output_type": "stream",
     "text": [
      "C:\\Users\\안정\\AppData\\Local\\Temp\\ipykernel_10004\\1311346500.py:2: FutureWarning: Starting with pandas version 3.0 all arguments of to_excel except for the argument 'excel_writer' will be keyword-only.\n",
      "  df_friend.to_excel('friend_list.xlsx', 'sheet1', index=False)\n"
     ]
    }
   ],
   "source": [
    "# 엑셀로 저장\n",
    "# 인덱스는 기본적으로 저장을 안함!\n",
    "# sheet_name : str, default 'Sheet1'\n",
    "df_friend.to_excel('friend_list.xlsx', 'sheet1', index=False)"
   ]
  },
  {
   "cell_type": "markdown",
   "id": "066b869c-1542-47dc-81fb-d224b25b3e5d",
   "metadata": {},
   "source": [
    "### **excel 읽기**"
   ]
  },
  {
   "cell_type": "code",
   "execution_count": 63,
   "id": "3b4fe382-e665-4fb6-af61-cb285874a34b",
   "metadata": {},
   "outputs": [
    {
     "data": {
      "text/html": [
       "<div>\n",
       "<style scoped>\n",
       "    .dataframe tbody tr th:only-of-type {\n",
       "        vertical-align: middle;\n",
       "    }\n",
       "\n",
       "    .dataframe tbody tr th {\n",
       "        vertical-align: top;\n",
       "    }\n",
       "\n",
       "    .dataframe thead th {\n",
       "        text-align: right;\n",
       "    }\n",
       "</style>\n",
       "<table border=\"1\" class=\"dataframe\">\n",
       "  <thead>\n",
       "    <tr style=\"text-align: right;\">\n",
       "      <th></th>\n",
       "      <th>name</th>\n",
       "      <th>age</th>\n",
       "      <th>job</th>\n",
       "    </tr>\n",
       "  </thead>\n",
       "  <tbody>\n",
       "    <tr>\n",
       "      <th>0</th>\n",
       "      <td>john</td>\n",
       "      <td>20</td>\n",
       "      <td>student</td>\n",
       "    </tr>\n",
       "    <tr>\n",
       "      <th>1</th>\n",
       "      <td>jenny</td>\n",
       "      <td>30</td>\n",
       "      <td>developer</td>\n",
       "    </tr>\n",
       "    <tr>\n",
       "      <th>2</th>\n",
       "      <td>nate</td>\n",
       "      <td>40</td>\n",
       "      <td>teacher</td>\n",
       "    </tr>\n",
       "  </tbody>\n",
       "</table>\n",
       "</div>"
      ],
      "text/plain": [
       "    name  age        job\n",
       "0   john   20    student\n",
       "1  jenny   30  developer\n",
       "2   nate   40    teacher"
      ]
     },
     "execution_count": 63,
     "metadata": {},
     "output_type": "execute_result"
    }
   ],
   "source": [
    "# 엑셀 읽기\n",
    "# sheet_name : str, int, list, None, default 0\n",
    "df_friend2 = pd.read_excel('friend_list.xlsx', 'sheet1')\n",
    "df_friend2"
   ]
  },
  {
   "cell_type": "markdown",
   "id": "aacdd35f-163d-4dca-aecd-0ec90b97b34a",
   "metadata": {},
   "source": [
    "## **html 불러오기**\n",
    "- web에서 table 형태 자료 불러오기(크롤링같은 기능)\n",
    "- read_html"
   ]
  },
  {
   "cell_type": "code",
   "execution_count": 2,
   "id": "6a8c6815-c371-468d-bd4d-a6d5b553b20a",
   "metadata": {
    "scrolled": true
   },
   "outputs": [],
   "source": [
    "# pip install lxml"
   ]
  },
  {
   "cell_type": "code",
   "execution_count": 2,
   "id": "37339e1d-b42d-4ef0-ad29-8078fad3add3",
   "metadata": {},
   "outputs": [],
   "source": [
    "# pip install html5lib"
   ]
  },
  {
   "cell_type": "code",
   "execution_count": 1,
   "id": "966a33ab-4085-4b40-b5b0-f7332628ea5e",
   "metadata": {},
   "outputs": [],
   "source": [
    "import pandas as pd"
   ]
  },
  {
   "cell_type": "code",
   "execution_count": 4,
   "id": "0dcce3af-665b-47db-b937-349d109f0b98",
   "metadata": {
    "scrolled": true
   },
   "outputs": [
    {
     "ename": "ValueError",
     "evalue": "No tables found",
     "output_type": "error",
     "traceback": [
      "\u001b[1;31m---------------------------------------------------------------------------\u001b[0m",
      "\u001b[1;31mValueError\u001b[0m                                Traceback (most recent call last)",
      "Cell \u001b[1;32mIn[4], line 2\u001b[0m\n\u001b[0;32m      1\u001b[0m \u001b[38;5;66;03m# html에서 <table> 태그로 되어있는 테이블 불러오기\u001b[39;00m\n\u001b[1;32m----> 2\u001b[0m df_list \u001b[38;5;241m=\u001b[39m \u001b[43mpd\u001b[49m\u001b[38;5;241;43m.\u001b[39;49m\u001b[43mread_html\u001b[49m\u001b[43m(\u001b[49m\u001b[38;5;124;43m'\u001b[39;49m\u001b[38;5;124;43mhttps://www.fdic.gov/bank/individual/failed/banklist.html\u001b[39;49m\u001b[38;5;124;43m'\u001b[39;49m\u001b[43m)\u001b[49m\n\u001b[0;32m      3\u001b[0m df_list\n",
      "File \u001b[1;32m~\\AppData\\Local\\Programs\\Python\\Python311\\Lib\\site-packages\\pandas\\io\\html.py:1246\u001b[0m, in \u001b[0;36mread_html\u001b[1;34m(io, match, flavor, header, index_col, skiprows, attrs, parse_dates, thousands, encoding, decimal, converters, na_values, keep_default_na, displayed_only, extract_links, dtype_backend, storage_options)\u001b[0m\n\u001b[0;32m   1230\u001b[0m \u001b[38;5;28;01mif\u001b[39;00m \u001b[38;5;28misinstance\u001b[39m(io, \u001b[38;5;28mstr\u001b[39m) \u001b[38;5;129;01mand\u001b[39;00m \u001b[38;5;129;01mnot\u001b[39;00m \u001b[38;5;28many\u001b[39m(\n\u001b[0;32m   1231\u001b[0m     [\n\u001b[0;32m   1232\u001b[0m         is_file_like(io),\n\u001b[1;32m   (...)\u001b[0m\n\u001b[0;32m   1236\u001b[0m     ]\n\u001b[0;32m   1237\u001b[0m ):\n\u001b[0;32m   1238\u001b[0m     warnings\u001b[38;5;241m.\u001b[39mwarn(\n\u001b[0;32m   1239\u001b[0m         \u001b[38;5;124m\"\u001b[39m\u001b[38;5;124mPassing literal html to \u001b[39m\u001b[38;5;124m'\u001b[39m\u001b[38;5;124mread_html\u001b[39m\u001b[38;5;124m'\u001b[39m\u001b[38;5;124m is deprecated and \u001b[39m\u001b[38;5;124m\"\u001b[39m\n\u001b[0;32m   1240\u001b[0m         \u001b[38;5;124m\"\u001b[39m\u001b[38;5;124mwill be removed in a future version. To read from a \u001b[39m\u001b[38;5;124m\"\u001b[39m\n\u001b[1;32m   (...)\u001b[0m\n\u001b[0;32m   1243\u001b[0m         stacklevel\u001b[38;5;241m=\u001b[39mfind_stack_level(),\n\u001b[0;32m   1244\u001b[0m     )\n\u001b[1;32m-> 1246\u001b[0m \u001b[38;5;28;01mreturn\u001b[39;00m \u001b[43m_parse\u001b[49m\u001b[43m(\u001b[49m\n\u001b[0;32m   1247\u001b[0m \u001b[43m    \u001b[49m\u001b[43mflavor\u001b[49m\u001b[38;5;241;43m=\u001b[39;49m\u001b[43mflavor\u001b[49m\u001b[43m,\u001b[49m\n\u001b[0;32m   1248\u001b[0m \u001b[43m    \u001b[49m\u001b[43mio\u001b[49m\u001b[38;5;241;43m=\u001b[39;49m\u001b[43mio\u001b[49m\u001b[43m,\u001b[49m\n\u001b[0;32m   1249\u001b[0m \u001b[43m    \u001b[49m\u001b[43mmatch\u001b[49m\u001b[38;5;241;43m=\u001b[39;49m\u001b[43mmatch\u001b[49m\u001b[43m,\u001b[49m\n\u001b[0;32m   1250\u001b[0m \u001b[43m    \u001b[49m\u001b[43mheader\u001b[49m\u001b[38;5;241;43m=\u001b[39;49m\u001b[43mheader\u001b[49m\u001b[43m,\u001b[49m\n\u001b[0;32m   1251\u001b[0m \u001b[43m    \u001b[49m\u001b[43mindex_col\u001b[49m\u001b[38;5;241;43m=\u001b[39;49m\u001b[43mindex_col\u001b[49m\u001b[43m,\u001b[49m\n\u001b[0;32m   1252\u001b[0m \u001b[43m    \u001b[49m\u001b[43mskiprows\u001b[49m\u001b[38;5;241;43m=\u001b[39;49m\u001b[43mskiprows\u001b[49m\u001b[43m,\u001b[49m\n\u001b[0;32m   1253\u001b[0m \u001b[43m    \u001b[49m\u001b[43mparse_dates\u001b[49m\u001b[38;5;241;43m=\u001b[39;49m\u001b[43mparse_dates\u001b[49m\u001b[43m,\u001b[49m\n\u001b[0;32m   1254\u001b[0m \u001b[43m    \u001b[49m\u001b[43mthousands\u001b[49m\u001b[38;5;241;43m=\u001b[39;49m\u001b[43mthousands\u001b[49m\u001b[43m,\u001b[49m\n\u001b[0;32m   1255\u001b[0m \u001b[43m    \u001b[49m\u001b[43mattrs\u001b[49m\u001b[38;5;241;43m=\u001b[39;49m\u001b[43mattrs\u001b[49m\u001b[43m,\u001b[49m\n\u001b[0;32m   1256\u001b[0m \u001b[43m    \u001b[49m\u001b[43mencoding\u001b[49m\u001b[38;5;241;43m=\u001b[39;49m\u001b[43mencoding\u001b[49m\u001b[43m,\u001b[49m\n\u001b[0;32m   1257\u001b[0m \u001b[43m    \u001b[49m\u001b[43mdecimal\u001b[49m\u001b[38;5;241;43m=\u001b[39;49m\u001b[43mdecimal\u001b[49m\u001b[43m,\u001b[49m\n\u001b[0;32m   1258\u001b[0m \u001b[43m    \u001b[49m\u001b[43mconverters\u001b[49m\u001b[38;5;241;43m=\u001b[39;49m\u001b[43mconverters\u001b[49m\u001b[43m,\u001b[49m\n\u001b[0;32m   1259\u001b[0m \u001b[43m    \u001b[49m\u001b[43mna_values\u001b[49m\u001b[38;5;241;43m=\u001b[39;49m\u001b[43mna_values\u001b[49m\u001b[43m,\u001b[49m\n\u001b[0;32m   1260\u001b[0m \u001b[43m    \u001b[49m\u001b[43mkeep_default_na\u001b[49m\u001b[38;5;241;43m=\u001b[39;49m\u001b[43mkeep_default_na\u001b[49m\u001b[43m,\u001b[49m\n\u001b[0;32m   1261\u001b[0m \u001b[43m    \u001b[49m\u001b[43mdisplayed_only\u001b[49m\u001b[38;5;241;43m=\u001b[39;49m\u001b[43mdisplayed_only\u001b[49m\u001b[43m,\u001b[49m\n\u001b[0;32m   1262\u001b[0m \u001b[43m    \u001b[49m\u001b[43mextract_links\u001b[49m\u001b[38;5;241;43m=\u001b[39;49m\u001b[43mextract_links\u001b[49m\u001b[43m,\u001b[49m\n\u001b[0;32m   1263\u001b[0m \u001b[43m    \u001b[49m\u001b[43mdtype_backend\u001b[49m\u001b[38;5;241;43m=\u001b[39;49m\u001b[43mdtype_backend\u001b[49m\u001b[43m,\u001b[49m\n\u001b[0;32m   1264\u001b[0m \u001b[43m    \u001b[49m\u001b[43mstorage_options\u001b[49m\u001b[38;5;241;43m=\u001b[39;49m\u001b[43mstorage_options\u001b[49m\u001b[43m,\u001b[49m\n\u001b[0;32m   1265\u001b[0m \u001b[43m\u001b[49m\u001b[43m)\u001b[49m\n",
      "File \u001b[1;32m~\\AppData\\Local\\Programs\\Python\\Python311\\Lib\\site-packages\\pandas\\io\\html.py:1009\u001b[0m, in \u001b[0;36m_parse\u001b[1;34m(flavor, io, match, attrs, encoding, displayed_only, extract_links, storage_options, **kwargs)\u001b[0m\n\u001b[0;32m   1007\u001b[0m \u001b[38;5;28;01melse\u001b[39;00m:\n\u001b[0;32m   1008\u001b[0m     \u001b[38;5;28;01massert\u001b[39;00m retained \u001b[38;5;129;01mis\u001b[39;00m \u001b[38;5;129;01mnot\u001b[39;00m \u001b[38;5;28;01mNone\u001b[39;00m  \u001b[38;5;66;03m# for mypy\u001b[39;00m\n\u001b[1;32m-> 1009\u001b[0m     \u001b[38;5;28;01mraise\u001b[39;00m retained\n\u001b[0;32m   1011\u001b[0m ret \u001b[38;5;241m=\u001b[39m []\n\u001b[0;32m   1012\u001b[0m \u001b[38;5;28;01mfor\u001b[39;00m table \u001b[38;5;129;01min\u001b[39;00m tables:\n",
      "File \u001b[1;32m~\\AppData\\Local\\Programs\\Python\\Python311\\Lib\\site-packages\\pandas\\io\\html.py:989\u001b[0m, in \u001b[0;36m_parse\u001b[1;34m(flavor, io, match, attrs, encoding, displayed_only, extract_links, storage_options, **kwargs)\u001b[0m\n\u001b[0;32m    978\u001b[0m p \u001b[38;5;241m=\u001b[39m parser(\n\u001b[0;32m    979\u001b[0m     io,\n\u001b[0;32m    980\u001b[0m     compiled_match,\n\u001b[1;32m   (...)\u001b[0m\n\u001b[0;32m    985\u001b[0m     storage_options,\n\u001b[0;32m    986\u001b[0m )\n\u001b[0;32m    988\u001b[0m \u001b[38;5;28;01mtry\u001b[39;00m:\n\u001b[1;32m--> 989\u001b[0m     tables \u001b[38;5;241m=\u001b[39m \u001b[43mp\u001b[49m\u001b[38;5;241;43m.\u001b[39;49m\u001b[43mparse_tables\u001b[49m\u001b[43m(\u001b[49m\u001b[43m)\u001b[49m\n\u001b[0;32m    990\u001b[0m \u001b[38;5;28;01mexcept\u001b[39;00m \u001b[38;5;167;01mValueError\u001b[39;00m \u001b[38;5;28;01mas\u001b[39;00m caught:\n\u001b[0;32m    991\u001b[0m     \u001b[38;5;66;03m# if `io` is an io-like object, check if it's seekable\u001b[39;00m\n\u001b[0;32m    992\u001b[0m     \u001b[38;5;66;03m# and try to rewind it before trying the next parser\u001b[39;00m\n\u001b[0;32m    993\u001b[0m     \u001b[38;5;28;01mif\u001b[39;00m \u001b[38;5;28mhasattr\u001b[39m(io, \u001b[38;5;124m\"\u001b[39m\u001b[38;5;124mseekable\u001b[39m\u001b[38;5;124m\"\u001b[39m) \u001b[38;5;129;01mand\u001b[39;00m io\u001b[38;5;241m.\u001b[39mseekable():\n",
      "File \u001b[1;32m~\\AppData\\Local\\Programs\\Python\\Python311\\Lib\\site-packages\\pandas\\io\\html.py:249\u001b[0m, in \u001b[0;36m_HtmlFrameParser.parse_tables\u001b[1;34m(self)\u001b[0m\n\u001b[0;32m    241\u001b[0m \u001b[38;5;28;01mdef\u001b[39;00m \u001b[38;5;21mparse_tables\u001b[39m(\u001b[38;5;28mself\u001b[39m):\n\u001b[0;32m    242\u001b[0m \u001b[38;5;250m    \u001b[39m\u001b[38;5;124;03m\"\"\"\u001b[39;00m\n\u001b[0;32m    243\u001b[0m \u001b[38;5;124;03m    Parse and return all tables from the DOM.\u001b[39;00m\n\u001b[0;32m    244\u001b[0m \n\u001b[1;32m   (...)\u001b[0m\n\u001b[0;32m    247\u001b[0m \u001b[38;5;124;03m    list of parsed (header, body, footer) tuples from tables.\u001b[39;00m\n\u001b[0;32m    248\u001b[0m \u001b[38;5;124;03m    \"\"\"\u001b[39;00m\n\u001b[1;32m--> 249\u001b[0m     tables \u001b[38;5;241m=\u001b[39m \u001b[38;5;28;43mself\u001b[39;49m\u001b[38;5;241;43m.\u001b[39;49m\u001b[43m_parse_tables\u001b[49m\u001b[43m(\u001b[49m\u001b[38;5;28;43mself\u001b[39;49m\u001b[38;5;241;43m.\u001b[39;49m\u001b[43m_build_doc\u001b[49m\u001b[43m(\u001b[49m\u001b[43m)\u001b[49m\u001b[43m,\u001b[49m\u001b[43m \u001b[49m\u001b[38;5;28;43mself\u001b[39;49m\u001b[38;5;241;43m.\u001b[39;49m\u001b[43mmatch\u001b[49m\u001b[43m,\u001b[49m\u001b[43m \u001b[49m\u001b[38;5;28;43mself\u001b[39;49m\u001b[38;5;241;43m.\u001b[39;49m\u001b[43mattrs\u001b[49m\u001b[43m)\u001b[49m\n\u001b[0;32m    250\u001b[0m     \u001b[38;5;28;01mreturn\u001b[39;00m (\u001b[38;5;28mself\u001b[39m\u001b[38;5;241m.\u001b[39m_parse_thead_tbody_tfoot(table) \u001b[38;5;28;01mfor\u001b[39;00m table \u001b[38;5;129;01min\u001b[39;00m tables)\n",
      "File \u001b[1;32m~\\AppData\\Local\\Programs\\Python\\Python311\\Lib\\site-packages\\pandas\\io\\html.py:604\u001b[0m, in \u001b[0;36m_BeautifulSoupHtml5LibFrameParser._parse_tables\u001b[1;34m(self, document, match, attrs)\u001b[0m\n\u001b[0;32m    602\u001b[0m tables \u001b[38;5;241m=\u001b[39m document\u001b[38;5;241m.\u001b[39mfind_all(element_name, attrs\u001b[38;5;241m=\u001b[39mattrs)\n\u001b[0;32m    603\u001b[0m \u001b[38;5;28;01mif\u001b[39;00m \u001b[38;5;129;01mnot\u001b[39;00m tables:\n\u001b[1;32m--> 604\u001b[0m     \u001b[38;5;28;01mraise\u001b[39;00m \u001b[38;5;167;01mValueError\u001b[39;00m(\u001b[38;5;124m\"\u001b[39m\u001b[38;5;124mNo tables found\u001b[39m\u001b[38;5;124m\"\u001b[39m)\n\u001b[0;32m    606\u001b[0m result \u001b[38;5;241m=\u001b[39m []\n\u001b[0;32m    607\u001b[0m unique_tables \u001b[38;5;241m=\u001b[39m \u001b[38;5;28mset\u001b[39m()\n",
      "\u001b[1;31mValueError\u001b[0m: No tables found"
     ]
    }
   ],
   "source": [
    "# html에서 <table> 태그로 되어있는 테이블 불러오기\n",
    "df_list = pd.read_html('https://www.fdic.gov/bank/individual/failed/banklist.html')\n",
    "df_list\n",
    "# 안됨....ㅋㅋㅋㅋ쿠ㅜ"
   ]
  },
  {
   "cell_type": "code",
   "execution_count": null,
   "id": "f80f5144-9454-498d-9b36-ba01edd51fac",
   "metadata": {},
   "outputs": [],
   "source": [
    "len(df_list)"
   ]
  },
  {
   "cell_type": "code",
   "execution_count": null,
   "id": "b76dcc75-01cc-4eab-ab6f-14c6de7ea0f1",
   "metadata": {},
   "outputs": [],
   "source": [
    "df"
   ]
  },
  {
   "cell_type": "code",
   "execution_count": null,
   "id": "142c4b66-7358-4ef7-ac86-89fa280982e5",
   "metadata": {},
   "outputs": [],
   "source": []
  },
  {
   "cell_type": "code",
   "execution_count": null,
   "id": "0b941417-d747-40f1-a4aa-637a8f9a1cd8",
   "metadata": {},
   "outputs": [],
   "source": []
  }
 ],
 "metadata": {
  "kernelspec": {
   "display_name": "Python 3 (ipykernel)",
   "language": "python",
   "name": "python3"
  },
  "language_info": {
   "codemirror_mode": {
    "name": "ipython",
    "version": 3
   },
   "file_extension": ".py",
   "mimetype": "text/x-python",
   "name": "python",
   "nbconvert_exporter": "python",
   "pygments_lexer": "ipython3",
   "version": "3.11.8"
  }
 },
 "nbformat": 4,
 "nbformat_minor": 5
}

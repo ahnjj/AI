{
 "cells": [
  {
   "cell_type": "markdown",
   "id": "2e0b4312-7500-490d-9bba-529b7e05c53c",
   "metadata": {},
   "source": [
    "# Numpy"
   ]
  },
  {
   "cell_type": "code",
   "execution_count": 5,
   "id": "8deb8154-ba49-401b-be29-a643dd757226",
   "metadata": {},
   "outputs": [],
   "source": [
    "from IPython.core.interactiveshell import InteractiveShell\n",
    "InteractiveShell.ast_node_interactivity = \"all\""
   ]
  },
  {
   "cell_type": "code",
   "execution_count": 1,
   "id": "deb9000e-028d-4246-a33b-ed42c8f734c9",
   "metadata": {},
   "outputs": [],
   "source": [
    "import numpy as np"
   ]
  },
  {
   "cell_type": "code",
   "execution_count": 2,
   "id": "5417c510-f48e-4583-8f83-3dd8fac12563",
   "metadata": {},
   "outputs": [],
   "source": [
    "# 배열 확인 함수\n",
    "def printinfo(array):\n",
    "    print(\"shape : {} , dimension :{}, dtype : {}\".format(array.shape, array.ndim, array.dtype))"
   ]
  },
  {
   "cell_type": "markdown",
   "id": "0f069dbb-46a1-4b1c-9c1f-c12952030f78",
   "metadata": {},
   "source": [
    "# Numpy array\n",
    "1) array\n",
    "2) zeros, ones, empty\n",
    "3) arange"
   ]
  },
  {
   "cell_type": "markdown",
   "id": "6eb6adef-ae82-46df-95e6-18d185ff723c",
   "metadata": {},
   "source": [
    "###  1) array"
   ]
  },
  {
   "cell_type": "code",
   "execution_count": 3,
   "id": "23c2a2d5-466f-4113-9c07-02cf31a23890",
   "metadata": {},
   "outputs": [
    {
     "data": {
      "text/plain": [
       "array([1, 2, 3, 4, 5])"
      ]
     },
     "execution_count": 3,
     "metadata": {},
     "output_type": "execute_result"
    }
   ],
   "source": [
    "# - 1D array\n",
    "array = np.array([1,2,3,4,5])\n",
    "array"
   ]
  },
  {
   "cell_type": "code",
   "execution_count": 7,
   "id": "d6f388ae-aed9-40bd-ac3f-fc2887e5c4f7",
   "metadata": {},
   "outputs": [
    {
     "data": {
      "text/plain": [
       "(5,)"
      ]
     },
     "execution_count": 7,
     "metadata": {},
     "output_type": "execute_result"
    },
    {
     "data": {
      "text/plain": [
       "numpy.ndarray"
      ]
     },
     "execution_count": 7,
     "metadata": {},
     "output_type": "execute_result"
    },
    {
     "data": {
      "text/plain": [
       "1"
      ]
     },
     "execution_count": 7,
     "metadata": {},
     "output_type": "execute_result"
    },
    {
     "data": {
      "text/plain": [
       "dtype('int32')"
      ]
     },
     "execution_count": 7,
     "metadata": {},
     "output_type": "execute_result"
    },
    {
     "name": "stdout",
     "output_type": "stream",
     "text": [
      "shape : (5,) , dimension :1, dtype : int32\n"
     ]
    }
   ],
   "source": [
    "array.shape # shape\n",
    "type(array)  # type\n",
    "array.ndim # dimension\n",
    "array.dtype # data type\n",
    "printinfo(array)"
   ]
  },
  {
   "cell_type": "code",
   "execution_count": 8,
   "id": "f95bf75b-546c-404c-9fde-c878aceaee52",
   "metadata": {},
   "outputs": [
    {
     "data": {
      "text/plain": [
       "array([[1., 2., 3.],\n",
       "       [4., 5., 6.]])"
      ]
     },
     "execution_count": 8,
     "metadata": {},
     "output_type": "execute_result"
    }
   ],
   "source": [
    "# 2D array\n",
    "list = [[1,2,3],[4,5,6]]\n",
    "array2 = np.array(list, dtype=float)\n",
    "array2"
   ]
  },
  {
   "cell_type": "code",
   "execution_count": 9,
   "id": "e95c8b83-515f-4147-a5f1-4d8a54201c7f",
   "metadata": {},
   "outputs": [
    {
     "name": "stdout",
     "output_type": "stream",
     "text": [
      "shape : (2, 3) , dimension :2, dtype : float64\n"
     ]
    }
   ],
   "source": [
    "printinfo(array2)"
   ]
  },
  {
   "cell_type": "code",
   "execution_count": 11,
   "id": "3d84d91d-f37a-42a3-a7e2-3d3849ccbaae",
   "metadata": {},
   "outputs": [
    {
     "data": {
      "text/plain": [
       "array([[[1., 2., 3.],\n",
       "        [4., 5., 6.]],\n",
       "\n",
       "       [[1., 2., 3.],\n",
       "        [4., 5., 6.]]])"
      ]
     },
     "execution_count": 11,
     "metadata": {},
     "output_type": "execute_result"
    }
   ],
   "source": [
    "# 3D array\n",
    "array3 = np.array([[[1,2,3], [4,5,6]], [[1,2,3],[4,5,6]]], dtype=float)\n",
    "array3"
   ]
  },
  {
   "cell_type": "code",
   "execution_count": 15,
   "id": "466eaaff-280c-4de6-8ef3-d244e9048d27",
   "metadata": {},
   "outputs": [
    {
     "name": "stdout",
     "output_type": "stream",
     "text": [
      "shape : (2, 2, 3) , dimension :3, dtype : float64\n"
     ]
    }
   ],
   "source": [
    "printinfo(array3)"
   ]
  },
  {
   "cell_type": "markdown",
   "id": "cbc087ca-6982-4c15-a429-614859cf07d7",
   "metadata": {},
   "source": [
    "## 2) ones, zeros, empty\n",
    "- ones : 어레이 데이터 값이 전부 1\n",
    "- zeros : 전부 0\n",
    "- empty : 메모리에서 초기화되지 않은 값을 가져옴"
   ]
  },
  {
   "cell_type": "code",
   "execution_count": 20,
   "id": "15d0879f-8693-473d-ae4c-196ed1f7110f",
   "metadata": {},
   "outputs": [
    {
     "data": {
      "text/plain": [
       "array([[0., 0.],\n",
       "       [0., 0.]])"
      ]
     },
     "execution_count": 20,
     "metadata": {},
     "output_type": "execute_result"
    }
   ],
   "source": [
    "np.zeros((2,2))"
   ]
  },
  {
   "cell_type": "code",
   "execution_count": 22,
   "id": "c725cc0d-77dd-4daf-9e21-9eb3a4ee465d",
   "metadata": {},
   "outputs": [
    {
     "data": {
      "text/plain": [
       "array([[[0., 0., 0.],\n",
       "        [0., 0., 0.]]])"
      ]
     },
     "execution_count": 22,
     "metadata": {},
     "output_type": "execute_result"
    }
   ],
   "source": [
    "np.zeros(((1,2,3)))"
   ]
  },
  {
   "cell_type": "code",
   "execution_count": 19,
   "id": "2d1c980f-1414-4d15-9b6a-730ecd5726d5",
   "metadata": {},
   "outputs": [
    {
     "data": {
      "text/plain": [
       "array([[1., 1., 1.],\n",
       "       [1., 1., 1.]])"
      ]
     },
     "execution_count": 19,
     "metadata": {},
     "output_type": "execute_result"
    }
   ],
   "source": [
    "one_array = np.ones((2,3))\n",
    "one_array"
   ]
  },
  {
   "cell_type": "code",
   "execution_count": 18,
   "id": "7e99ad60-2d45-498b-a601-eee1a1b10a5b",
   "metadata": {},
   "outputs": [
    {
     "name": "stdout",
     "output_type": "stream",
     "text": [
      "shape : (2, 3) , dimension :2, dtype : float64\n"
     ]
    }
   ],
   "source": [
    "printinfo(one_array)"
   ]
  },
  {
   "cell_type": "code",
   "execution_count": 23,
   "id": "c7781453-fc78-4d69-9cda-88b83573650f",
   "metadata": {},
   "outputs": [
    {
     "data": {
      "text/plain": [
       "array([[0., 0., 0.],\n",
       "       [0., 0., 0.]])"
      ]
     },
     "execution_count": 23,
     "metadata": {},
     "output_type": "execute_result"
    }
   ],
   "source": [
    "np.empty((2,3))"
   ]
  },
  {
   "cell_type": "markdown",
   "id": "f8ead352-2844-4fe7-aa17-eca9527f6ca2",
   "metadata": {},
   "source": [
    "## 3) arange\n",
    "- 0~ n-1 까지 배열\n",
    "- (a, b, c) : a~b-1까지 c씩 건너띄어서"
   ]
  },
  {
   "cell_type": "code",
   "execution_count": 26,
   "id": "4996f1d6-3398-4b9d-8525-4ea2b3500fde",
   "metadata": {},
   "outputs": [
    {
     "data": {
      "text/plain": [
       "array([0, 1, 2, 3, 4, 5, 6, 7, 8, 9])"
      ]
     },
     "execution_count": 26,
     "metadata": {},
     "output_type": "execute_result"
    },
    {
     "name": "stdout",
     "output_type": "stream",
     "text": [
      "shape : (10,) , dimension :1, dtype : int32\n"
     ]
    }
   ],
   "source": [
    "array4 = np.arange(10)\n",
    "array4\n",
    "printinfo(array4)"
   ]
  },
  {
   "cell_type": "raw",
   "id": "a8661ea0-e00f-433d-b9b5-305d83d9dbde",
   "metadata": {},
   "source": [
    "array5 = np.arange(0,11,2)\n",
    "array5\n",
    "printinfo(array5)"
   ]
  },
  {
   "cell_type": "markdown",
   "id": "035c7a56-be6c-4252-b055-b45bef638560",
   "metadata": {},
   "source": [
    "# ndarray 타입 변환 : astype()"
   ]
  },
  {
   "cell_type": "code",
   "execution_count": 34,
   "id": "403a0390-088d-4cd5-bde5-b83381dd1703",
   "metadata": {},
   "outputs": [],
   "source": [
    "# 정수형 -> 실수형 데이터 배열로 변환\n",
    "arr_int = np.array([1,2,3,4,5])"
   ]
  },
  {
   "cell_type": "code",
   "execution_count": 29,
   "id": "8a1e7293-a673-45f0-8555-bc44a4fa1781",
   "metadata": {},
   "outputs": [
    {
     "data": {
      "text/plain": [
       "dtype('int32')"
      ]
     },
     "execution_count": 29,
     "metadata": {},
     "output_type": "execute_result"
    }
   ],
   "source": [
    "arr_int.dtype"
   ]
  },
  {
   "cell_type": "code",
   "execution_count": 30,
   "id": "e4a3be3b-3450-4f86-82b3-3c6a5045bf7c",
   "metadata": {},
   "outputs": [
    {
     "data": {
      "text/plain": [
       "dtype('float64')"
      ]
     },
     "execution_count": 30,
     "metadata": {},
     "output_type": "execute_result"
    }
   ],
   "source": [
    "arr_float = arr_int.astype(np.float64)\n",
    "arr_float.dtype"
   ]
  },
  {
   "cell_type": "code",
   "execution_count": 31,
   "id": "e13e2378-cbf2-41ed-b53c-0754160f2608",
   "metadata": {},
   "outputs": [
    {
     "data": {
      "text/plain": [
       "dtype('<U1')"
      ]
     },
     "execution_count": 31,
     "metadata": {},
     "output_type": "execute_result"
    }
   ],
   "source": [
    "# 문자형 -> 정수형\n",
    "arr_str = np.array(['1','2','3'])\n",
    "arr_str.dtype"
   ]
  },
  {
   "cell_type": "code",
   "execution_count": 33,
   "id": "cf1f8d9a-4cf7-4c1e-a0c2-53b4fe0b45b6",
   "metadata": {},
   "outputs": [
    {
     "data": {
      "text/plain": [
       "dtype('int64')"
      ]
     },
     "execution_count": 33,
     "metadata": {},
     "output_type": "execute_result"
    },
    {
     "data": {
      "text/plain": [
       "array([1, 2, 3], dtype=int64)"
      ]
     },
     "execution_count": 33,
     "metadata": {},
     "output_type": "execute_result"
    }
   ],
   "source": [
    "arr_int = arr_str.astype(np.int64)\n",
    "arr_int.dtype\n",
    "arr_int"
   ]
  },
  {
   "cell_type": "markdown",
   "id": "c1927af1-36d2-46d5-b8a0-6a655ff9773f",
   "metadata": {},
   "source": [
    "## ndarry 차원/크기 변경 : reshape()"
   ]
  },
  {
   "cell_type": "code",
   "execution_count": 35,
   "id": "5d4f29bb-02a3-49f8-97a3-f2372fa4a05b",
   "metadata": {},
   "outputs": [
    {
     "data": {
      "text/plain": [
       "array([0, 1, 2, 3, 4, 5, 6, 7, 8, 9])"
      ]
     },
     "execution_count": 35,
     "metadata": {},
     "output_type": "execute_result"
    }
   ],
   "source": [
    "# 1차원 -> 2D\n",
    "arr1  = np.arange(10)\n",
    "arr1 "
   ]
  },
  {
   "cell_type": "code",
   "execution_count": 36,
   "id": "065215ee-283b-4181-899c-e298db4d95b4",
   "metadata": {},
   "outputs": [
    {
     "data": {
      "text/plain": [
       "array([[0, 1, 2, 3, 4],\n",
       "       [5, 6, 7, 8, 9]])"
      ]
     },
     "execution_count": 36,
     "metadata": {},
     "output_type": "execute_result"
    }
   ],
   "source": [
    "arr2 = arr1.reshape((2,5))\n",
    "arr2  # 개수는 맞춰서 차원 변경해야함 2행 5열"
   ]
  },
  {
   "cell_type": "code",
   "execution_count": 38,
   "id": "34eee593-0258-4e0b-80d7-762fd6bff9d2",
   "metadata": {},
   "outputs": [
    {
     "data": {
      "text/plain": [
       "array([0, 1, 2, 3, 4, 5, 6, 7, 8, 9])"
      ]
     },
     "execution_count": 38,
     "metadata": {},
     "output_type": "execute_result"
    },
    {
     "data": {
      "text/plain": [
       "array([0, 1, 2, 3, 4, 5, 6, 7, 8, 9])"
      ]
     },
     "execution_count": 38,
     "metadata": {},
     "output_type": "execute_result"
    }
   ],
   "source": [
    "# 2차원 이상 -> 1차원\n",
    "# 인수 -1\n",
    "arr2.reshape(-1)\n",
    "\n",
    "# flatten\n",
    "arr2.flatten()"
   ]
  },
  {
   "cell_type": "code",
   "execution_count": null,
   "id": "ab218ed0-cb04-44c0-bd99-c7b29daf677a",
   "metadata": {},
   "outputs": [],
   "source": [
    "# reshape(-1, 1) : 맞추고 싶은 조건(행 or 열만 지정해주고, 나머지는 알아서 해줘라(-1))\n",
    "# reshape(-1,) "
   ]
  },
  {
   "cell_type": "code",
   "execution_count": 40,
   "id": "a3ffaeee-0a96-485c-a9c7-8df618ef56cc",
   "metadata": {},
   "outputs": [
    {
     "data": {
      "text/plain": [
       "array([[0],\n",
       "       [1],\n",
       "       [2],\n",
       "       [3],\n",
       "       [4],\n",
       "       [5],\n",
       "       [6],\n",
       "       [7],\n",
       "       [8],\n",
       "       [9]])"
      ]
     },
     "execution_count": 40,
     "metadata": {},
     "output_type": "execute_result"
    },
    {
     "data": {
      "text/plain": [
       "2"
      ]
     },
     "execution_count": 40,
     "metadata": {},
     "output_type": "execute_result"
    }
   ],
   "source": [
    "arr2 = arr1.reshape(-1,1)   # 1열\n",
    "arr2\n",
    "arr2.ndim"
   ]
  },
  {
   "cell_type": "code",
   "execution_count": 42,
   "id": "45c6f183-a029-4d9b-94fb-99d6baf6a828",
   "metadata": {},
   "outputs": [
    {
     "data": {
      "text/plain": [
       "array([0, 1, 2, 3, 4, 5, 6, 7, 8, 9])"
      ]
     },
     "execution_count": 42,
     "metadata": {},
     "output_type": "execute_result"
    },
    {
     "data": {
      "text/plain": [
       "1"
      ]
     },
     "execution_count": 42,
     "metadata": {},
     "output_type": "execute_result"
    }
   ],
   "source": [
    "arr3 = arr2.reshape(-1)\n",
    "arr3\n",
    "arr3.ndim"
   ]
  },
  {
   "cell_type": "markdown",
   "id": "b32edef1-7335-4513-be5d-2447e9fb5cfa",
   "metadata": {},
   "source": [
    "## ndarray 데이터 선택하기 : 인덱싱(indexing)\n",
    "### 단일 값 추출\n",
    "- 1차원 ndarray 인덱싱"
   ]
  },
  {
   "cell_type": "code",
   "execution_count": 44,
   "id": "4b6d1af9-83f1-410a-b876-57f556dcd8a5",
   "metadata": {},
   "outputs": [
    {
     "data": {
      "text/plain": [
       "array([1, 2, 3, 4, 5, 6, 7, 8, 9])"
      ]
     },
     "execution_count": 44,
     "metadata": {},
     "output_type": "execute_result"
    },
    {
     "data": {
      "text/plain": [
       "2"
      ]
     },
     "execution_count": 44,
     "metadata": {},
     "output_type": "execute_result"
    },
    {
     "data": {
      "text/plain": [
       "9"
      ]
     },
     "execution_count": 44,
     "metadata": {},
     "output_type": "execute_result"
    },
    {
     "data": {
      "text/plain": [
       "8"
      ]
     },
     "execution_count": 44,
     "metadata": {},
     "output_type": "execute_result"
    }
   ],
   "source": [
    "arr = np.arange(1,10)\n",
    "arr\n",
    "arr[1]\n",
    "arr[-1]\n",
    "arr[-2]"
   ]
  },
  {
   "cell_type": "markdown",
   "id": "12530e35-fb18-440d-947a-37c62290e450",
   "metadata": {},
   "source": [
    "- 2차원 ndarray 인덱싱"
   ]
  },
  {
   "cell_type": "code",
   "execution_count": 45,
   "id": "80a651c9-f9a0-4fb8-9c4c-15a6a90b6fbe",
   "metadata": {},
   "outputs": [
    {
     "data": {
      "text/plain": [
       "array([[1, 2, 3],\n",
       "       [4, 5, 6],\n",
       "       [7, 8, 9]])"
      ]
     },
     "execution_count": 45,
     "metadata": {},
     "output_type": "execute_result"
    }
   ],
   "source": [
    "arr = np.arange(1,10).reshape(3,3)\n",
    "arr"
   ]
  },
  {
   "cell_type": "code",
   "execution_count": 48,
   "id": "00d84796-1db6-4437-b074-196861515cad",
   "metadata": {},
   "outputs": [
    {
     "data": {
      "text/plain": [
       "1"
      ]
     },
     "execution_count": 48,
     "metadata": {},
     "output_type": "execute_result"
    },
    {
     "data": {
      "text/plain": [
       "2"
      ]
     },
     "execution_count": 48,
     "metadata": {},
     "output_type": "execute_result"
    },
    {
     "data": {
      "text/plain": [
       "9"
      ]
     },
     "execution_count": 48,
     "metadata": {},
     "output_type": "execute_result"
    }
   ],
   "source": [
    "arr[0, 0]\n",
    "arr[0, 1]\n",
    "arr[2, 2]"
   ]
  },
  {
   "cell_type": "markdown",
   "id": "35b51b8e-8704-472d-9c4b-5c887c60ce57",
   "metadata": {},
   "source": [
    "- 1차원 슬라이싱"
   ]
  },
  {
   "cell_type": "code",
   "execution_count": 49,
   "id": "46f2d44a-e2b4-468d-8282-cc2210aac3d2",
   "metadata": {},
   "outputs": [
    {
     "data": {
      "text/plain": [
       "array([[1, 2, 3],\n",
       "       [4, 5, 6],\n",
       "       [7, 8, 9]])"
      ]
     },
     "execution_count": 49,
     "metadata": {},
     "output_type": "execute_result"
    }
   ],
   "source": [
    "arr[0:3]"
   ]
  },
  {
   "cell_type": "code",
   "execution_count": 50,
   "id": "5fa9aafe-cf59-4a9c-bc8f-ffe845c5f812",
   "metadata": {},
   "outputs": [
    {
     "data": {
      "text/plain": [
       "array([[1, 2, 3],\n",
       "       [4, 5, 6],\n",
       "       [7, 8, 9]])"
      ]
     },
     "execution_count": 50,
     "metadata": {},
     "output_type": "execute_result"
    }
   ],
   "source": [
    "arr[:3]"
   ]
  },
  {
   "cell_type": "code",
   "execution_count": 51,
   "id": "26d0aae0-a239-46a4-9270-6924a805131c",
   "metadata": {},
   "outputs": [
    {
     "data": {
      "text/plain": [
       "array([[7, 8, 9]])"
      ]
     },
     "execution_count": 51,
     "metadata": {},
     "output_type": "execute_result"
    }
   ],
   "source": [
    "arr[2:3]"
   ]
  },
  {
   "cell_type": "markdown",
   "id": "56f85aa0-b59e-4999-9355-dd8f8b7a14ad",
   "metadata": {},
   "source": [
    "- 2차원 슬라이싱"
   ]
  },
  {
   "cell_type": "code",
   "execution_count": 52,
   "id": "0afdc295-602c-4991-b554-b41960fef495",
   "metadata": {},
   "outputs": [
    {
     "data": {
      "text/plain": [
       "array([[4, 5],\n",
       "       [7, 8]])"
      ]
     },
     "execution_count": 52,
     "metadata": {},
     "output_type": "execute_result"
    }
   ],
   "source": [
    "arr[1:, :2]"
   ]
  },
  {
   "cell_type": "markdown",
   "id": "bf251147-e38d-4d84-8542-2c5558b02f01",
   "metadata": {},
   "source": [
    "## fancy indexing\n",
    "- 리스트 / ndarray로 인덱스 집합을 지정하면 해당 위치의 인덱스에 해당하는 ndarray값 반환\n",
    "- 리턴 값 array"
   ]
  },
  {
   "cell_type": "code",
   "execution_count": 53,
   "id": "6caaaf0c-0d86-450e-9cd5-c353daa77222",
   "metadata": {},
   "outputs": [
    {
     "data": {
      "text/plain": [
       "array([1, 2, 3, 4, 5, 6, 7, 8, 9])"
      ]
     },
     "execution_count": 53,
     "metadata": {},
     "output_type": "execute_result"
    }
   ],
   "source": [
    "# 1차원\n",
    "arr = np.arange(1,10)\n",
    "arr"
   ]
  },
  {
   "cell_type": "code",
   "execution_count": 56,
   "id": "849145e9-8b6a-4219-90d9-160ada31015d",
   "metadata": {},
   "outputs": [
    {
     "data": {
      "text/plain": [
       "array([3, 5, 8])"
      ]
     },
     "execution_count": 56,
     "metadata": {},
     "output_type": "execute_result"
    }
   ],
   "source": [
    "arr[[2, 4, 7]]  # 2열 4열 7열"
   ]
  },
  {
   "cell_type": "code",
   "execution_count": 57,
   "id": "dd721322-0e92-4e63-a5ee-84f009968933",
   "metadata": {},
   "outputs": [
    {
     "data": {
      "text/plain": [
       "array([[1, 2, 3],\n",
       "       [4, 5, 6],\n",
       "       [7, 8, 9]])"
      ]
     },
     "execution_count": 57,
     "metadata": {},
     "output_type": "execute_result"
    }
   ],
   "source": [
    "# 2차원\n",
    "arr = np.arange(1,10).reshape(3,3)\n",
    "arr"
   ]
  },
  {
   "cell_type": "code",
   "execution_count": 58,
   "id": "7636fbff-c858-450c-ab7d-7e59199650bb",
   "metadata": {},
   "outputs": [
    {
     "data": {
      "text/plain": [
       "array([3, 6])"
      ]
     },
     "execution_count": 58,
     "metadata": {},
     "output_type": "execute_result"
    }
   ],
   "source": [
    "arr[[0,1], 2]  # 0행 1행에서 2열 위치 값"
   ]
  },
  {
   "cell_type": "code",
   "execution_count": 59,
   "id": "75063987-2e68-4cf8-905b-c414da018d24",
   "metadata": {},
   "outputs": [
    {
     "data": {
      "text/plain": [
       "array([[1, 2],\n",
       "       [4, 5]])"
      ]
     },
     "execution_count": 59,
     "metadata": {},
     "output_type": "execute_result"
    }
   ],
   "source": [
    "arr[[0,1], 0:2] # 0행 1행 0열~1열 "
   ]
  },
  {
   "cell_type": "markdown",
   "id": "533d6455-d848-4f71-92e2-09b2b751aa41",
   "metadata": {},
   "source": [
    "# Boolean indexing\n",
    "- 조건에 True에 해당하는 인덱스 위치에 있는 ndarray 값 반환\n",
    "- ndarray내에서 5보다 큰 값 추출하기!"
   ]
  },
  {
   "cell_type": "code",
   "execution_count": 60,
   "id": "f7599c8f-58f4-4c3e-9e0b-2661668c9bf5",
   "metadata": {},
   "outputs": [
    {
     "data": {
      "text/plain": [
       "array([5, 6, 7, 8])"
      ]
     },
     "execution_count": 60,
     "metadata": {},
     "output_type": "execute_result"
    }
   ],
   "source": [
    "# boolean 안쓸때\n",
    "arr = np.arange(1, 10)\n",
    "target = []\n",
    "\n",
    "for i in range(0, 9):\n",
    "    if arr[i] > 5:\n",
    "        target.append(i)\n",
    "\n",
    "result = np.array(target)\n",
    "result"
   ]
  },
  {
   "cell_type": "code",
   "execution_count": 62,
   "id": "f6449880-d30e-4b39-be82-e8ceb9e93e39",
   "metadata": {},
   "outputs": [
    {
     "data": {
      "text/plain": [
       "array([False, False, False, False, False,  True,  True,  True,  True])"
      ]
     },
     "execution_count": 62,
     "metadata": {},
     "output_type": "execute_result"
    },
    {
     "data": {
      "text/plain": [
       "array([6, 7, 8, 9])"
      ]
     },
     "execution_count": 62,
     "metadata": {},
     "output_type": "execute_result"
    }
   ],
   "source": [
    "# boolean indexing\n",
    "arr = np.arange(1, 10)\n",
    "arr > 5\n",
    "arr[arr>5]  # 조건식을 넣고 한번더 감싸준다."
   ]
  },
  {
   "cell_type": "code",
   "execution_count": 63,
   "id": "44017454-f926-494a-af6f-4596012e8939",
   "metadata": {},
   "outputs": [
    {
     "data": {
      "text/plain": [
       "array([1, 2, 3, 4, 5])"
      ]
     },
     "execution_count": 63,
     "metadata": {},
     "output_type": "execute_result"
    }
   ],
   "source": [
    "# 조건에 not 취하는 경우 ~\n",
    "arr[~(arr>5)]"
   ]
  },
  {
   "cell_type": "markdown",
   "id": "92d52a01-ed20-488a-ba91-c308b20cd47b",
   "metadata": {},
   "source": [
    "# ndarray 배열의 연산\n",
    "- 1) 기본 연산자/ 함수(사칙연산/ add subtract multiply divide)\n",
    "  2) dot(내적) -> 행렬의 곱 "
   ]
  },
  {
   "cell_type": "code",
   "execution_count": 64,
   "id": "2fd28768-d514-42b5-b97d-a375df792e1a",
   "metadata": {},
   "outputs": [],
   "source": [
    "arr1 = np.array([[1, 2],\n",
    "                 [3, 4]])\n",
    "arr2 = np.array([[5, 6],\n",
    "                 [7, 8]])"
   ]
  },
  {
   "cell_type": "code",
   "execution_count": 65,
   "id": "9dd298af-37ef-4325-9034-4798c2c11f39",
   "metadata": {},
   "outputs": [
    {
     "data": {
      "text/plain": [
       "array([[ 6,  8],\n",
       "       [10, 12]])"
      ]
     },
     "execution_count": 65,
     "metadata": {},
     "output_type": "execute_result"
    }
   ],
   "source": [
    "# 사칙연산\n",
    "arr1 + arr2"
   ]
  },
  {
   "cell_type": "code",
   "execution_count": 66,
   "id": "2874fde8-d5b9-4879-9014-f7acc000b1cc",
   "metadata": {},
   "outputs": [
    {
     "data": {
      "text/plain": [
       "array([[ 6,  8],\n",
       "       [10, 12]])"
      ]
     },
     "execution_count": 66,
     "metadata": {},
     "output_type": "execute_result"
    }
   ],
   "source": [
    "# 사칙연산\n",
    "np.add(arr1, arr2)"
   ]
  },
  {
   "cell_type": "code",
   "execution_count": 67,
   "id": "2f6f623d-9682-4ba2-bdc3-2ecb5a9c1d33",
   "metadata": {},
   "outputs": [
    {
     "data": {
      "text/plain": [
       "array([[ 5, 12],\n",
       "       [21, 32]])"
      ]
     },
     "execution_count": 67,
     "metadata": {},
     "output_type": "execute_result"
    }
   ],
   "source": [
    "arr1 * arr2"
   ]
  },
  {
   "cell_type": "code",
   "execution_count": 68,
   "id": "ce44f0fa-c9ee-462c-935e-491c3da5c500",
   "metadata": {},
   "outputs": [
    {
     "data": {
      "text/plain": [
       "array([[ 5, 12],\n",
       "       [21, 32]])"
      ]
     },
     "execution_count": 68,
     "metadata": {},
     "output_type": "execute_result"
    }
   ],
   "source": [
    "np.multiply(arr1, arr2)"
   ]
  },
  {
   "cell_type": "markdown",
   "id": "16c202d2-c256-485a-a1a1-9e108a445919",
   "metadata": {},
   "source": [
    "### dot 연산\n",
    "    - 내적\n",
    "    - (a * b) dot (b * c) -> (a * c) "
   ]
  },
  {
   "cell_type": "code",
   "execution_count": 69,
   "id": "313a2bbe-7080-4fbd-be95-88ab9537f3b3",
   "metadata": {},
   "outputs": [],
   "source": [
    "# 배열연산\n",
    "arr1 = np.array([[1, 2],\n",
    "                 [3, 4]])\n",
    "arr2 = np.array([[5, 6],\n",
    "                 [7, 8]])"
   ]
  },
  {
   "cell_type": "code",
   "execution_count": 70,
   "id": "38fa4d50-c955-419a-82c6-5bf07db864e1",
   "metadata": {},
   "outputs": [
    {
     "data": {
      "text/plain": [
       "(2, 2)"
      ]
     },
     "execution_count": 70,
     "metadata": {},
     "output_type": "execute_result"
    }
   ],
   "source": [
    "arr1.shape"
   ]
  },
  {
   "cell_type": "code",
   "execution_count": 71,
   "id": "679dd725-03b1-4792-8903-60c416b06b6c",
   "metadata": {},
   "outputs": [
    {
     "data": {
      "text/plain": [
       "(2, 2)"
      ]
     },
     "execution_count": 71,
     "metadata": {},
     "output_type": "execute_result"
    }
   ],
   "source": [
    "arr2.shape"
   ]
  },
  {
   "cell_type": "code",
   "execution_count": 72,
   "id": "40e9540b-1e29-424e-877e-c52b0d892b43",
   "metadata": {},
   "outputs": [
    {
     "data": {
      "text/plain": [
       "array([[19, 22],\n",
       "       [43, 50]])"
      ]
     },
     "execution_count": 72,
     "metadata": {},
     "output_type": "execute_result"
    }
   ],
   "source": [
    "# dot 내적\n",
    "arr1.dot(arr2)"
   ]
  },
  {
   "cell_type": "code",
   "execution_count": 73,
   "id": "7e9f2b12-3f18-4cb6-b8c3-2504059d880b",
   "metadata": {},
   "outputs": [
    {
     "data": {
      "text/plain": [
       "array([[19, 22],\n",
       "       [43, 50]])"
      ]
     },
     "execution_count": 73,
     "metadata": {},
     "output_type": "execute_result"
    }
   ],
   "source": [
    "# 내적\n",
    "np.dot(arr1, arr2)"
   ]
  },
  {
   "cell_type": "markdown",
   "id": "eab473f2-9e38-4252-971e-ec0f1754d19b",
   "metadata": {},
   "source": [
    "## ndarray 배열의 선형대수 연산 - 전치 행렬"
   ]
  },
  {
   "cell_type": "code",
   "execution_count": 74,
   "id": "bd0ffd66-b43d-4174-a38c-2dda68b5affa",
   "metadata": {},
   "outputs": [
    {
     "data": {
      "text/plain": [
       "array([[1, 2],\n",
       "       [3, 4]])"
      ]
     },
     "execution_count": 74,
     "metadata": {},
     "output_type": "execute_result"
    }
   ],
   "source": [
    "arr = np.array([1, 2, 3, 4]).reshape(2, 2)\n",
    "arr"
   ]
  },
  {
   "cell_type": "code",
   "execution_count": 75,
   "id": "459dd9d3-1285-4dfe-95bb-1cd46dcb3ae0",
   "metadata": {},
   "outputs": [
    {
     "data": {
      "text/plain": [
       "array([[1, 3],\n",
       "       [2, 4]])"
      ]
     },
     "execution_count": 75,
     "metadata": {},
     "output_type": "execute_result"
    }
   ],
   "source": [
    "np.transpose(arr)"
   ]
  },
  {
   "cell_type": "code",
   "execution_count": null,
   "id": "adf13ac3-2e63-47d4-a62f-a5e535a76389",
   "metadata": {},
   "outputs": [],
   "source": [
    "arr = np.array("
   ]
  },
  {
   "cell_type": "code",
   "execution_count": null,
   "id": "0d63313b-8aa6-45fc-b2b7-20ac5322e954",
   "metadata": {},
   "outputs": [],
   "source": []
  },
  {
   "cell_type": "code",
   "execution_count": null,
   "id": "d1f2c846-6c7f-403c-8316-94ada007a731",
   "metadata": {},
   "outputs": [],
   "source": []
  },
  {
   "cell_type": "code",
   "execution_count": null,
   "id": "0be550b3-a72a-45e3-be87-e3cbc4d60140",
   "metadata": {},
   "outputs": [],
   "source": []
  },
  {
   "cell_type": "code",
   "execution_count": null,
   "id": "108eb0a1-6386-496a-9f81-5c0882e83824",
   "metadata": {},
   "outputs": [],
   "source": []
  },
  {
   "cell_type": "code",
   "execution_count": null,
   "id": "8f536cbf-d232-45b3-84a2-4b739c0633af",
   "metadata": {},
   "outputs": [],
   "source": []
  },
  {
   "cell_type": "code",
   "execution_count": null,
   "id": "e597b981-c5d2-4dcc-a8a8-02ee6d3e4187",
   "metadata": {},
   "outputs": [],
   "source": [
    "\n"
   ]
  },
  {
   "cell_type": "code",
   "execution_count": null,
   "id": "cc2a1780-c15e-47bb-898e-b52aa6a13c07",
   "metadata": {},
   "outputs": [],
   "source": []
  },
  {
   "cell_type": "code",
   "execution_count": null,
   "id": "22c17679-da44-4e97-a228-fb3a25fc4694",
   "metadata": {},
   "outputs": [],
   "source": []
  },
  {
   "cell_type": "code",
   "execution_count": null,
   "id": "eb0bf722-8496-42a0-9919-5f715fb2047a",
   "metadata": {},
   "outputs": [],
   "source": []
  },
  {
   "cell_type": "code",
   "execution_count": null,
   "id": "f9d7e1e8-dddf-4947-a562-9540dd230f13",
   "metadata": {},
   "outputs": [],
   "source": []
  },
  {
   "cell_type": "code",
   "execution_count": null,
   "id": "8ef4ef21-cf25-4b2e-80fe-1958fb288c2c",
   "metadata": {},
   "outputs": [],
   "source": []
  },
  {
   "cell_type": "code",
   "execution_count": null,
   "id": "7a75df77-ec53-4c4b-8d38-0eb7d0e761de",
   "metadata": {},
   "outputs": [],
   "source": []
  },
  {
   "cell_type": "code",
   "execution_count": null,
   "id": "c110012e-2642-42bb-a34f-c7d5bc60c839",
   "metadata": {},
   "outputs": [],
   "source": []
  },
  {
   "cell_type": "code",
   "execution_count": null,
   "id": "08d4eaa7-5a7c-489c-a6be-ad9615d427d0",
   "metadata": {},
   "outputs": [],
   "source": []
  },
  {
   "cell_type": "code",
   "execution_count": null,
   "id": "da2422d5-aff4-4a71-a54f-d1d6b3fc6110",
   "metadata": {},
   "outputs": [],
   "source": []
  },
  {
   "cell_type": "code",
   "execution_count": null,
   "id": "8c80a2f7-dbd0-42f9-96f2-421e0a9b2910",
   "metadata": {},
   "outputs": [],
   "source": []
  },
  {
   "cell_type": "code",
   "execution_count": null,
   "id": "911215be-c36e-4b26-aa1e-b4195b9f1116",
   "metadata": {},
   "outputs": [],
   "source": []
  },
  {
   "cell_type": "code",
   "execution_count": null,
   "id": "a90cea5b-9de8-4333-b5b6-aeb1d7337f17",
   "metadata": {},
   "outputs": [],
   "source": []
  },
  {
   "cell_type": "code",
   "execution_count": null,
   "id": "a128a5be-d562-4faa-9e6f-391b07d119a2",
   "metadata": {},
   "outputs": [],
   "source": []
  }
 ],
 "metadata": {
  "kernelspec": {
   "display_name": "Python 3 (ipykernel)",
   "language": "python",
   "name": "python3"
  },
  "language_info": {
   "codemirror_mode": {
    "name": "ipython",
    "version": 3
   },
   "file_extension": ".py",
   "mimetype": "text/x-python",
   "name": "python",
   "nbconvert_exporter": "python",
   "pygments_lexer": "ipython3",
   "version": "3.11.8"
  }
 },
 "nbformat": 4,
 "nbformat_minor": 5
}

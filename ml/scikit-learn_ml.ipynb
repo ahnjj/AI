{
 "cells": [
  {
   "cell_type": "markdown",
   "id": "45423ed6-53e5-444c-9692-8673f44c8eb8",
   "metadata": {},
   "source": [
    "## scikit-learn machine learning"
   ]
  },
  {
   "cell_type": "markdown",
   "id": "55f64ec7-6199-48cc-976c-6220bf3a354a",
   "metadata": {},
   "source": [
    "1. X, Y(label) 나눠야함 - 세로로\n",
    "2. train_test_split() - test/ train 나눠야함- 가로"
   ]
  },
  {
   "cell_type": "code",
   "execution_count": 3,
   "id": "44bfa3bd-b160-4420-8833-9d12db9e8525",
   "metadata": {},
   "outputs": [],
   "source": [
    "import warnings\n",
    "warnings.filterwarnings(action='ignore')"
   ]
  },
  {
   "cell_type": "markdown",
   "id": "af24b3b5-fe57-473a-b5d2-e68e5000eff5",
   "metadata": {},
   "source": [
    "### **1. Data Load**"
   ]
  },
  {
   "cell_type": "code",
   "execution_count": 4,
   "id": "b57c9942-3090-4adc-b84a-6c52cd3b1f8b",
   "metadata": {},
   "outputs": [
    {
     "data": {
      "text/html": [
       "<div>\n",
       "<style scoped>\n",
       "    .dataframe tbody tr th:only-of-type {\n",
       "        vertical-align: middle;\n",
       "    }\n",
       "\n",
       "    .dataframe tbody tr th {\n",
       "        vertical-align: top;\n",
       "    }\n",
       "\n",
       "    .dataframe thead th {\n",
       "        text-align: right;\n",
       "    }\n",
       "</style>\n",
       "<table border=\"1\" class=\"dataframe\">\n",
       "  <thead>\n",
       "    <tr style=\"text-align: right;\">\n",
       "      <th></th>\n",
       "      <th>Country</th>\n",
       "      <th>Age</th>\n",
       "      <th>Salary</th>\n",
       "      <th>Purchased</th>\n",
       "    </tr>\n",
       "  </thead>\n",
       "  <tbody>\n",
       "    <tr>\n",
       "      <th>0</th>\n",
       "      <td>France</td>\n",
       "      <td>44.0</td>\n",
       "      <td>72000.0</td>\n",
       "      <td>No</td>\n",
       "    </tr>\n",
       "    <tr>\n",
       "      <th>1</th>\n",
       "      <td>Spain</td>\n",
       "      <td>27.0</td>\n",
       "      <td>48000.0</td>\n",
       "      <td>Yes</td>\n",
       "    </tr>\n",
       "    <tr>\n",
       "      <th>2</th>\n",
       "      <td>Germany</td>\n",
       "      <td>30.0</td>\n",
       "      <td>54000.0</td>\n",
       "      <td>No</td>\n",
       "    </tr>\n",
       "    <tr>\n",
       "      <th>3</th>\n",
       "      <td>Spain</td>\n",
       "      <td>38.0</td>\n",
       "      <td>61000.0</td>\n",
       "      <td>No</td>\n",
       "    </tr>\n",
       "    <tr>\n",
       "      <th>4</th>\n",
       "      <td>Germany</td>\n",
       "      <td>40.0</td>\n",
       "      <td>NaN</td>\n",
       "      <td>Yes</td>\n",
       "    </tr>\n",
       "  </tbody>\n",
       "</table>\n",
       "</div>"
      ],
      "text/plain": [
       "   Country   Age   Salary Purchased\n",
       "0   France  44.0  72000.0        No\n",
       "1    Spain  27.0  48000.0       Yes\n",
       "2  Germany  30.0  54000.0        No\n",
       "3    Spain  38.0  61000.0        No\n",
       "4  Germany  40.0      NaN       Yes"
      ]
     },
     "execution_count": 4,
     "metadata": {},
     "output_type": "execute_result"
    }
   ],
   "source": [
    "import pandas as pd\n",
    "import numpy as np\n",
    "\n",
    "# data load\n",
    "path = './data/DataPreprocess.csv'\n",
    "df1 = pd.read_csv(path)\n",
    "df1.head()"
   ]
  },
  {
   "cell_type": "code",
   "execution_count": 6,
   "id": "19d5d4ba-4f8f-404e-9264-c4f121216931",
   "metadata": {},
   "outputs": [
    {
     "data": {
      "text/plain": [
       "(10, 4)"
      ]
     },
     "execution_count": 6,
     "metadata": {},
     "output_type": "execute_result"
    }
   ],
   "source": [
    "df1.shape"
   ]
  },
  {
   "cell_type": "markdown",
   "id": "1253349d-f276-47b1-99f3-57211eb10ec8",
   "metadata": {},
   "source": [
    "### **2. Data / Label 나누기**\n",
    "- 내가 알고 싶은 값 : 구매했는지 여부 -> 이것이 Y(Label)이 되어야한다."
   ]
  },
  {
   "cell_type": "code",
   "execution_count": 5,
   "id": "fc6b77c3-1970-4671-9afe-13dfd300d2e9",
   "metadata": {},
   "outputs": [
    {
     "data": {
      "text/plain": [
       "(array([['France', 44.0, 72000.0],\n",
       "        ['Spain', 27.0, 48000.0],\n",
       "        ['Germany', 30.0, 54000.0],\n",
       "        ['Spain', 38.0, 61000.0],\n",
       "        ['Germany', 40.0, nan],\n",
       "        ['France', 35.0, 58000.0],\n",
       "        ['Spain', nan, 52000.0],\n",
       "        ['France', 48.0, 79000.0],\n",
       "        ['Germany', 50.0, 83000.0],\n",
       "        ['France', 37.0, 67000.0]], dtype=object),\n",
       " array(['No', 'Yes', 'No', 'No', 'Yes', 'Yes', 'No', 'Yes', 'No', 'Yes'],\n",
       "       dtype=object))"
      ]
     },
     "execution_count": 5,
     "metadata": {},
     "output_type": "execute_result"
    }
   ],
   "source": [
    "# data / label 나누기 : 종속변수 / 독립변수 나누기\n",
    "x = df1.values[:, :-1] # data\n",
    "y = df1.values[:, -1] # label\n",
    "x, y"
   ]
  },
  {
   "cell_type": "markdown",
   "id": "64fa2b69-d989-4735-a9d9-0ad25ee48e45",
   "metadata": {},
   "source": [
    "### **3.train/test data 나누기**\n",
    "- train_test_split(data, label, test_size, random_state)"
   ]
  },
  {
   "cell_type": "code",
   "execution_count": 8,
   "id": "0b52f16d-30ae-4c2b-bedb-2cd25aadf6f4",
   "metadata": {},
   "outputs": [
    {
     "data": {
      "text/plain": [
       "((8, 3), (2, 3))"
      ]
     },
     "execution_count": 8,
     "metadata": {},
     "output_type": "execute_result"
    }
   ],
   "source": [
    "from sklearn.model_selection import train_test_split\n",
    "\n",
    "x_train, x_test, y_train, y_test = train_test_split(x, y, test_size=0.2, random_state=0)\n",
    "x_train.shape, x_test.shape"
   ]
  },
  {
   "cell_type": "code",
   "execution_count": 9,
   "id": "07ae1458-ef5b-439d-ab6e-d97b18d39932",
   "metadata": {},
   "outputs": [
    {
     "data": {
      "text/plain": [
       "(array([['Germany', 40.0, nan],\n",
       "        ['France', 37.0, 67000.0],\n",
       "        ['Spain', 27.0, 48000.0],\n",
       "        ['Spain', nan, 52000.0],\n",
       "        ['France', 48.0, 79000.0],\n",
       "        ['Spain', 38.0, 61000.0],\n",
       "        ['France', 44.0, 72000.0],\n",
       "        ['France', 35.0, 58000.0]], dtype=object),\n",
       " array([['Germany', 30.0, 54000.0],\n",
       "        ['Germany', 50.0, 83000.0]], dtype=object))"
      ]
     },
     "execution_count": 9,
     "metadata": {},
     "output_type": "execute_result"
    }
   ],
   "source": [
    "x_train, x_test"
   ]
  },
  {
   "cell_type": "code",
   "execution_count": 10,
   "id": "967ec026-d92d-41a1-83a5-91dc8ef19c64",
   "metadata": {},
   "outputs": [
    {
     "data": {
      "text/plain": [
       "(array(['Yes', 'Yes', 'Yes', 'No', 'Yes', 'No', 'No', 'Yes'], dtype=object),\n",
       " array(['No', 'No'], dtype=object))"
      ]
     },
     "execution_count": 10,
     "metadata": {},
     "output_type": "execute_result"
    }
   ],
   "source": [
    "y_train, y_test"
   ]
  },
  {
   "cell_type": "markdown",
   "id": "6c6567ff-2d6a-48a6-a7ea-10bf180d8157",
   "metadata": {},
   "source": [
    "### **[실습문제]iris 데이터 학습/테스트 데이터 세트 분리**\n",
    "#### **1) scikit-learn의 train_test_split 이용**"
   ]
  },
  {
   "cell_type": "code",
   "execution_count": 6,
   "id": "c37ba815-2072-4953-a2a9-184124b20bc4",
   "metadata": {},
   "outputs": [
    {
     "data": {
      "text/plain": [
       "{'data': array([[5.1, 3.5, 1.4, 0.2],\n",
       "        [4.9, 3. , 1.4, 0.2],\n",
       "        [4.7, 3.2, 1.3, 0.2],\n",
       "        [4.6, 3.1, 1.5, 0.2],\n",
       "        [5. , 3.6, 1.4, 0.2],\n",
       "        [5.4, 3.9, 1.7, 0.4],\n",
       "        [4.6, 3.4, 1.4, 0.3],\n",
       "        [5. , 3.4, 1.5, 0.2],\n",
       "        [4.4, 2.9, 1.4, 0.2],\n",
       "        [4.9, 3.1, 1.5, 0.1],\n",
       "        [5.4, 3.7, 1.5, 0.2],\n",
       "        [4.8, 3.4, 1.6, 0.2],\n",
       "        [4.8, 3. , 1.4, 0.1],\n",
       "        [4.3, 3. , 1.1, 0.1],\n",
       "        [5.8, 4. , 1.2, 0.2],\n",
       "        [5.7, 4.4, 1.5, 0.4],\n",
       "        [5.4, 3.9, 1.3, 0.4],\n",
       "        [5.1, 3.5, 1.4, 0.3],\n",
       "        [5.7, 3.8, 1.7, 0.3],\n",
       "        [5.1, 3.8, 1.5, 0.3],\n",
       "        [5.4, 3.4, 1.7, 0.2],\n",
       "        [5.1, 3.7, 1.5, 0.4],\n",
       "        [4.6, 3.6, 1. , 0.2],\n",
       "        [5.1, 3.3, 1.7, 0.5],\n",
       "        [4.8, 3.4, 1.9, 0.2],\n",
       "        [5. , 3. , 1.6, 0.2],\n",
       "        [5. , 3.4, 1.6, 0.4],\n",
       "        [5.2, 3.5, 1.5, 0.2],\n",
       "        [5.2, 3.4, 1.4, 0.2],\n",
       "        [4.7, 3.2, 1.6, 0.2],\n",
       "        [4.8, 3.1, 1.6, 0.2],\n",
       "        [5.4, 3.4, 1.5, 0.4],\n",
       "        [5.2, 4.1, 1.5, 0.1],\n",
       "        [5.5, 4.2, 1.4, 0.2],\n",
       "        [4.9, 3.1, 1.5, 0.2],\n",
       "        [5. , 3.2, 1.2, 0.2],\n",
       "        [5.5, 3.5, 1.3, 0.2],\n",
       "        [4.9, 3.6, 1.4, 0.1],\n",
       "        [4.4, 3. , 1.3, 0.2],\n",
       "        [5.1, 3.4, 1.5, 0.2],\n",
       "        [5. , 3.5, 1.3, 0.3],\n",
       "        [4.5, 2.3, 1.3, 0.3],\n",
       "        [4.4, 3.2, 1.3, 0.2],\n",
       "        [5. , 3.5, 1.6, 0.6],\n",
       "        [5.1, 3.8, 1.9, 0.4],\n",
       "        [4.8, 3. , 1.4, 0.3],\n",
       "        [5.1, 3.8, 1.6, 0.2],\n",
       "        [4.6, 3.2, 1.4, 0.2],\n",
       "        [5.3, 3.7, 1.5, 0.2],\n",
       "        [5. , 3.3, 1.4, 0.2],\n",
       "        [7. , 3.2, 4.7, 1.4],\n",
       "        [6.4, 3.2, 4.5, 1.5],\n",
       "        [6.9, 3.1, 4.9, 1.5],\n",
       "        [5.5, 2.3, 4. , 1.3],\n",
       "        [6.5, 2.8, 4.6, 1.5],\n",
       "        [5.7, 2.8, 4.5, 1.3],\n",
       "        [6.3, 3.3, 4.7, 1.6],\n",
       "        [4.9, 2.4, 3.3, 1. ],\n",
       "        [6.6, 2.9, 4.6, 1.3],\n",
       "        [5.2, 2.7, 3.9, 1.4],\n",
       "        [5. , 2. , 3.5, 1. ],\n",
       "        [5.9, 3. , 4.2, 1.5],\n",
       "        [6. , 2.2, 4. , 1. ],\n",
       "        [6.1, 2.9, 4.7, 1.4],\n",
       "        [5.6, 2.9, 3.6, 1.3],\n",
       "        [6.7, 3.1, 4.4, 1.4],\n",
       "        [5.6, 3. , 4.5, 1.5],\n",
       "        [5.8, 2.7, 4.1, 1. ],\n",
       "        [6.2, 2.2, 4.5, 1.5],\n",
       "        [5.6, 2.5, 3.9, 1.1],\n",
       "        [5.9, 3.2, 4.8, 1.8],\n",
       "        [6.1, 2.8, 4. , 1.3],\n",
       "        [6.3, 2.5, 4.9, 1.5],\n",
       "        [6.1, 2.8, 4.7, 1.2],\n",
       "        [6.4, 2.9, 4.3, 1.3],\n",
       "        [6.6, 3. , 4.4, 1.4],\n",
       "        [6.8, 2.8, 4.8, 1.4],\n",
       "        [6.7, 3. , 5. , 1.7],\n",
       "        [6. , 2.9, 4.5, 1.5],\n",
       "        [5.7, 2.6, 3.5, 1. ],\n",
       "        [5.5, 2.4, 3.8, 1.1],\n",
       "        [5.5, 2.4, 3.7, 1. ],\n",
       "        [5.8, 2.7, 3.9, 1.2],\n",
       "        [6. , 2.7, 5.1, 1.6],\n",
       "        [5.4, 3. , 4.5, 1.5],\n",
       "        [6. , 3.4, 4.5, 1.6],\n",
       "        [6.7, 3.1, 4.7, 1.5],\n",
       "        [6.3, 2.3, 4.4, 1.3],\n",
       "        [5.6, 3. , 4.1, 1.3],\n",
       "        [5.5, 2.5, 4. , 1.3],\n",
       "        [5.5, 2.6, 4.4, 1.2],\n",
       "        [6.1, 3. , 4.6, 1.4],\n",
       "        [5.8, 2.6, 4. , 1.2],\n",
       "        [5. , 2.3, 3.3, 1. ],\n",
       "        [5.6, 2.7, 4.2, 1.3],\n",
       "        [5.7, 3. , 4.2, 1.2],\n",
       "        [5.7, 2.9, 4.2, 1.3],\n",
       "        [6.2, 2.9, 4.3, 1.3],\n",
       "        [5.1, 2.5, 3. , 1.1],\n",
       "        [5.7, 2.8, 4.1, 1.3],\n",
       "        [6.3, 3.3, 6. , 2.5],\n",
       "        [5.8, 2.7, 5.1, 1.9],\n",
       "        [7.1, 3. , 5.9, 2.1],\n",
       "        [6.3, 2.9, 5.6, 1.8],\n",
       "        [6.5, 3. , 5.8, 2.2],\n",
       "        [7.6, 3. , 6.6, 2.1],\n",
       "        [4.9, 2.5, 4.5, 1.7],\n",
       "        [7.3, 2.9, 6.3, 1.8],\n",
       "        [6.7, 2.5, 5.8, 1.8],\n",
       "        [7.2, 3.6, 6.1, 2.5],\n",
       "        [6.5, 3.2, 5.1, 2. ],\n",
       "        [6.4, 2.7, 5.3, 1.9],\n",
       "        [6.8, 3. , 5.5, 2.1],\n",
       "        [5.7, 2.5, 5. , 2. ],\n",
       "        [5.8, 2.8, 5.1, 2.4],\n",
       "        [6.4, 3.2, 5.3, 2.3],\n",
       "        [6.5, 3. , 5.5, 1.8],\n",
       "        [7.7, 3.8, 6.7, 2.2],\n",
       "        [7.7, 2.6, 6.9, 2.3],\n",
       "        [6. , 2.2, 5. , 1.5],\n",
       "        [6.9, 3.2, 5.7, 2.3],\n",
       "        [5.6, 2.8, 4.9, 2. ],\n",
       "        [7.7, 2.8, 6.7, 2. ],\n",
       "        [6.3, 2.7, 4.9, 1.8],\n",
       "        [6.7, 3.3, 5.7, 2.1],\n",
       "        [7.2, 3.2, 6. , 1.8],\n",
       "        [6.2, 2.8, 4.8, 1.8],\n",
       "        [6.1, 3. , 4.9, 1.8],\n",
       "        [6.4, 2.8, 5.6, 2.1],\n",
       "        [7.2, 3. , 5.8, 1.6],\n",
       "        [7.4, 2.8, 6.1, 1.9],\n",
       "        [7.9, 3.8, 6.4, 2. ],\n",
       "        [6.4, 2.8, 5.6, 2.2],\n",
       "        [6.3, 2.8, 5.1, 1.5],\n",
       "        [6.1, 2.6, 5.6, 1.4],\n",
       "        [7.7, 3. , 6.1, 2.3],\n",
       "        [6.3, 3.4, 5.6, 2.4],\n",
       "        [6.4, 3.1, 5.5, 1.8],\n",
       "        [6. , 3. , 4.8, 1.8],\n",
       "        [6.9, 3.1, 5.4, 2.1],\n",
       "        [6.7, 3.1, 5.6, 2.4],\n",
       "        [6.9, 3.1, 5.1, 2.3],\n",
       "        [5.8, 2.7, 5.1, 1.9],\n",
       "        [6.8, 3.2, 5.9, 2.3],\n",
       "        [6.7, 3.3, 5.7, 2.5],\n",
       "        [6.7, 3. , 5.2, 2.3],\n",
       "        [6.3, 2.5, 5. , 1.9],\n",
       "        [6.5, 3. , 5.2, 2. ],\n",
       "        [6.2, 3.4, 5.4, 2.3],\n",
       "        [5.9, 3. , 5.1, 1.8]]),\n",
       " 'target': array([0, 0, 0, 0, 0, 0, 0, 0, 0, 0, 0, 0, 0, 0, 0, 0, 0, 0, 0, 0, 0, 0,\n",
       "        0, 0, 0, 0, 0, 0, 0, 0, 0, 0, 0, 0, 0, 0, 0, 0, 0, 0, 0, 0, 0, 0,\n",
       "        0, 0, 0, 0, 0, 0, 1, 1, 1, 1, 1, 1, 1, 1, 1, 1, 1, 1, 1, 1, 1, 1,\n",
       "        1, 1, 1, 1, 1, 1, 1, 1, 1, 1, 1, 1, 1, 1, 1, 1, 1, 1, 1, 1, 1, 1,\n",
       "        1, 1, 1, 1, 1, 1, 1, 1, 1, 1, 1, 1, 2, 2, 2, 2, 2, 2, 2, 2, 2, 2,\n",
       "        2, 2, 2, 2, 2, 2, 2, 2, 2, 2, 2, 2, 2, 2, 2, 2, 2, 2, 2, 2, 2, 2,\n",
       "        2, 2, 2, 2, 2, 2, 2, 2, 2, 2, 2, 2, 2, 2, 2, 2, 2, 2]),\n",
       " 'frame': None,\n",
       " 'target_names': array(['setosa', 'versicolor', 'virginica'], dtype='<U10'),\n",
       " 'DESCR': '.. _iris_dataset:\\n\\nIris plants dataset\\n--------------------\\n\\n**Data Set Characteristics:**\\n\\n:Number of Instances: 150 (50 in each of three classes)\\n:Number of Attributes: 4 numeric, predictive attributes and the class\\n:Attribute Information:\\n    - sepal length in cm\\n    - sepal width in cm\\n    - petal length in cm\\n    - petal width in cm\\n    - class:\\n            - Iris-Setosa\\n            - Iris-Versicolour\\n            - Iris-Virginica\\n\\n:Summary Statistics:\\n\\n============== ==== ==== ======= ===== ====================\\n                Min  Max   Mean    SD   Class Correlation\\n============== ==== ==== ======= ===== ====================\\nsepal length:   4.3  7.9   5.84   0.83    0.7826\\nsepal width:    2.0  4.4   3.05   0.43   -0.4194\\npetal length:   1.0  6.9   3.76   1.76    0.9490  (high!)\\npetal width:    0.1  2.5   1.20   0.76    0.9565  (high!)\\n============== ==== ==== ======= ===== ====================\\n\\n:Missing Attribute Values: None\\n:Class Distribution: 33.3% for each of 3 classes.\\n:Creator: R.A. Fisher\\n:Donor: Michael Marshall (MARSHALL%PLU@io.arc.nasa.gov)\\n:Date: July, 1988\\n\\nThe famous Iris database, first used by Sir R.A. Fisher. The dataset is taken\\nfrom Fisher\\'s paper. Note that it\\'s the same as in R, but not as in the UCI\\nMachine Learning Repository, which has two wrong data points.\\n\\nThis is perhaps the best known database to be found in the\\npattern recognition literature.  Fisher\\'s paper is a classic in the field and\\nis referenced frequently to this day.  (See Duda & Hart, for example.)  The\\ndata set contains 3 classes of 50 instances each, where each class refers to a\\ntype of iris plant.  One class is linearly separable from the other 2; the\\nlatter are NOT linearly separable from each other.\\n\\n|details-start|\\n**References**\\n|details-split|\\n\\n- Fisher, R.A. \"The use of multiple measurements in taxonomic problems\"\\n  Annual Eugenics, 7, Part II, 179-188 (1936); also in \"Contributions to\\n  Mathematical Statistics\" (John Wiley, NY, 1950).\\n- Duda, R.O., & Hart, P.E. (1973) Pattern Classification and Scene Analysis.\\n  (Q327.D83) John Wiley & Sons.  ISBN 0-471-22361-1.  See page 218.\\n- Dasarathy, B.V. (1980) \"Nosing Around the Neighborhood: A New System\\n  Structure and Classification Rule for Recognition in Partially Exposed\\n  Environments\".  IEEE Transactions on Pattern Analysis and Machine\\n  Intelligence, Vol. PAMI-2, No. 1, 67-71.\\n- Gates, G.W. (1972) \"The Reduced Nearest Neighbor Rule\".  IEEE Transactions\\n  on Information Theory, May 1972, 431-433.\\n- See also: 1988 MLC Proceedings, 54-64.  Cheeseman et al\"s AUTOCLASS II\\n  conceptual clustering system finds 3 classes in the data.\\n- Many, many more ...\\n\\n|details-end|\\n',\n",
       " 'feature_names': ['sepal length (cm)',\n",
       "  'sepal width (cm)',\n",
       "  'petal length (cm)',\n",
       "  'petal width (cm)'],\n",
       " 'filename': 'iris.csv',\n",
       " 'data_module': 'sklearn.datasets.data'}"
      ]
     },
     "execution_count": 6,
     "metadata": {},
     "output_type": "execute_result"
    }
   ],
   "source": [
    "from sklearn.model_selection import train_test_split\n",
    "from sklearn.datasets import load_iris\n",
    "\n",
    "# iris dataset load\n",
    "iris_data = load_iris()\n",
    "iris_data\n",
    "# data, target 값이 구분되어있다."
   ]
  },
  {
   "cell_type": "code",
   "execution_count": 18,
   "id": "68864941-184f-429f-bb39-2449977924d9",
   "metadata": {},
   "outputs": [],
   "source": [
    "# train/test data set \n",
    "x_train, x_test, y_train, y_test = train_test_split(iris_data.data, iris_data.target,\n",
    "                                                    test_size=0.3, random_state=0)"
   ]
  },
  {
   "cell_type": "code",
   "execution_count": 15,
   "id": "6f03216f-3947-4a2e-b604-1c6ac7182a5d",
   "metadata": {},
   "outputs": [
    {
     "data": {
      "text/plain": [
       "((105, 4), (45, 4))"
      ]
     },
     "execution_count": 15,
     "metadata": {},
     "output_type": "execute_result"
    }
   ],
   "source": [
    "x_train.shape, x_test.shape"
   ]
  },
  {
   "cell_type": "code",
   "execution_count": 19,
   "id": "22570043-effe-439e-8f73-5e305f5400cd",
   "metadata": {},
   "outputs": [
    {
     "data": {
      "text/plain": [
       "((105,), (45,))"
      ]
     },
     "execution_count": 19,
     "metadata": {},
     "output_type": "execute_result"
    }
   ],
   "source": [
    "y_train.shape, y_test.shape"
   ]
  },
  {
   "cell_type": "markdown",
   "id": "62ea4ae4-056c-4d80-93f3-d16bcdd51ba1",
   "metadata": {},
   "source": [
    "### **2)판다스 DF로 변형해서 train_test_split() 적용**"
   ]
  },
  {
   "cell_type": "code",
   "execution_count": 7,
   "id": "c0338a5c-dfe8-4617-ab5d-c962ff5bfce0",
   "metadata": {},
   "outputs": [
    {
     "data": {
      "text/html": [
       "<div>\n",
       "<style scoped>\n",
       "    .dataframe tbody tr th:only-of-type {\n",
       "        vertical-align: middle;\n",
       "    }\n",
       "\n",
       "    .dataframe tbody tr th {\n",
       "        vertical-align: top;\n",
       "    }\n",
       "\n",
       "    .dataframe thead th {\n",
       "        text-align: right;\n",
       "    }\n",
       "</style>\n",
       "<table border=\"1\" class=\"dataframe\">\n",
       "  <thead>\n",
       "    <tr style=\"text-align: right;\">\n",
       "      <th></th>\n",
       "      <th>sepal length (cm)</th>\n",
       "      <th>sepal width (cm)</th>\n",
       "      <th>petal length (cm)</th>\n",
       "      <th>petal width (cm)</th>\n",
       "      <th>target</th>\n",
       "    </tr>\n",
       "  </thead>\n",
       "  <tbody>\n",
       "    <tr>\n",
       "      <th>0</th>\n",
       "      <td>5.1</td>\n",
       "      <td>3.5</td>\n",
       "      <td>1.4</td>\n",
       "      <td>0.2</td>\n",
       "      <td>0</td>\n",
       "    </tr>\n",
       "    <tr>\n",
       "      <th>1</th>\n",
       "      <td>4.9</td>\n",
       "      <td>3.0</td>\n",
       "      <td>1.4</td>\n",
       "      <td>0.2</td>\n",
       "      <td>0</td>\n",
       "    </tr>\n",
       "  </tbody>\n",
       "</table>\n",
       "</div>"
      ],
      "text/plain": [
       "   sepal length (cm)  sepal width (cm)  petal length (cm)  petal width (cm)  \\\n",
       "0                5.1               3.5                1.4               0.2   \n",
       "1                4.9               3.0                1.4               0.2   \n",
       "\n",
       "   target  \n",
       "0       0  \n",
       "1       0  "
      ]
     },
     "execution_count": 7,
     "metadata": {},
     "output_type": "execute_result"
    }
   ],
   "source": [
    "import pandas as pd\n",
    "\n",
    "iris_df = pd.DataFrame(iris_data.data, columns=iris_data.feature_names)\n",
    "iris_df['target'] = iris_data.target   # target 따로 추가\n",
    "iris_df.head(2)"
   ]
  },
  {
   "cell_type": "code",
   "execution_count": 8,
   "id": "7d4ccd18-c161-419e-bc25-c6c66898b3b5",
   "metadata": {},
   "outputs": [],
   "source": [
    "train = iris_df.iloc[:, :-1]\n",
    "target = iris_df.iloc[:, -1]\n",
    "x_train, x_test, y_train, y_test = train_test_split(train, target, test_size=0.3, random_state=0)  # test, train 분"
   ]
  },
  {
   "cell_type": "markdown",
   "id": "b953fa38-63a7-4de1-87ec-48a2597e466b",
   "metadata": {},
   "source": [
    "### **3)decision tree 이용한 분류/정확도**\n"
   ]
  },
  {
   "cell_type": "code",
   "execution_count": 10,
   "id": "65456a1e-2825-4cf9-a64d-2eb8b148b756",
   "metadata": {},
   "outputs": [
    {
     "name": "stdout",
     "output_type": "stream",
     "text": [
      "예측 정확도 : 0.9778\n"
     ]
    }
   ],
   "source": [
    "from sklearn.tree import DecisionTreeClassifier\n",
    "from sklearn.metrics import accuracy_score\n",
    "\n",
    "dt_clf = DecisionTreeClassifier()   # 모델 선택\n",
    "dt_clf.fit(x_train, y_train)        # 학습(쪼개놓은 train 데이터 집어넣음)\n",
    "pred = dt_clf.predict(x_test)       # 예측 (쪼개놓은 test 데이터 집어넣음)\n",
    "\n",
    "print('예측 정확도 : {0:.4f}'.format(accuracy_score(y_test,pred)))"
   ]
  },
  {
   "cell_type": "code",
   "execution_count": 11,
   "id": "514caea2-05b4-4663-b99c-4ab64a5d4062",
   "metadata": {},
   "outputs": [
    {
     "data": {
      "text/plain": [
       "array([2, 1, 0, 2, 0, 2, 0, 1, 1, 1, 2, 1, 1, 1, 1, 0, 1, 1, 0, 0, 2, 1,\n",
       "       0, 0, 2, 0, 0, 1, 1, 0, 2, 1, 0, 2, 2, 1, 0, 2, 1, 1, 2, 0, 2, 0,\n",
       "       0])"
      ]
     },
     "execution_count": 11,
     "metadata": {},
     "output_type": "execute_result"
    }
   ],
   "source": [
    "pred\n",
    "# 카테고리(품종)"
   ]
  },
  {
   "cell_type": "code",
   "execution_count": 13,
   "id": "1eabc532-e757-4f68-bace-c183673c9365",
   "metadata": {
    "scrolled": true
   },
   "outputs": [
    {
     "data": {
      "text/plain": [
       "114     True\n",
       "62      True\n",
       "33      True\n",
       "107     True\n",
       "7       True\n",
       "100     True\n",
       "40      True\n",
       "86      True\n",
       "76      True\n",
       "71      True\n",
       "134     True\n",
       "51      True\n",
       "73      True\n",
       "54      True\n",
       "63      True\n",
       "37      True\n",
       "78      True\n",
       "90      True\n",
       "45      True\n",
       "16      True\n",
       "121     True\n",
       "66      True\n",
       "24      True\n",
       "8       True\n",
       "126     True\n",
       "22      True\n",
       "44      True\n",
       "97      True\n",
       "93      True\n",
       "26      True\n",
       "137     True\n",
       "84      True\n",
       "27      True\n",
       "127     True\n",
       "132     True\n",
       "59      True\n",
       "18      True\n",
       "83     False\n",
       "61      True\n",
       "92      True\n",
       "112     True\n",
       "2       True\n",
       "141     True\n",
       "43      True\n",
       "10      True\n",
       "Name: target, dtype: bool"
      ]
     },
     "execution_count": 13,
     "metadata": {},
     "output_type": "execute_result"
    }
   ],
   "source": [
    "# 실제 결과값과 비교\n",
    "pred == y_test"
   ]
  },
  {
   "cell_type": "markdown",
   "id": "cb413409-291a-45a9-a62c-54e2318e9393",
   "metadata": {},
   "source": [
    "## **K-Fold**\n",
    "### **K-Fold Cross Validation 나누기**\n",
    "### K-Fold 클래스 이용한 교차검증 방법 절차\n",
    "- 1) fold 세트 설정\n",
    "  2) (for 루프) 반복적으로 학습/검증 데이터 추출 + 학습 + 예측 수행\n",
    "  3) fold 세트 별로 예측 성늘 평균내기 -> 최종 성능 평가"
   ]
  },
  {
   "cell_type": "code",
   "execution_count": 16,
   "id": "6a3ef3cc-3d1c-4ef2-8541-4bb45cb00403",
   "metadata": {},
   "outputs": [
    {
     "data": {
      "text/plain": [
       "(array([['France', 44.0, 72000.0],\n",
       "        ['Spain', 27.0, 48000.0],\n",
       "        ['Germany', 30.0, 54000.0],\n",
       "        ['Spain', 38.0, 61000.0],\n",
       "        ['Germany', 40.0, nan],\n",
       "        ['France', 35.0, 58000.0],\n",
       "        ['Spain', nan, 52000.0],\n",
       "        ['France', 48.0, 79000.0],\n",
       "        ['Germany', 50.0, 83000.0],\n",
       "        ['France', 37.0, 67000.0]], dtype=object),\n",
       " array(['No', 'Yes', 'No', 'No', 'Yes', 'Yes', 'No', 'Yes', 'No', 'Yes'],\n",
       "       dtype=object))"
      ]
     },
     "execution_count": 16,
     "metadata": {},
     "output_type": "execute_result"
    }
   ],
   "source": [
    "import pandas as pd\n",
    "import numpy as np\n",
    "\n",
    "# data load\n",
    "path = './data/DataPreprocess.csv'\n",
    "df1 = pd.read_csv(path)\n",
    "\n",
    "# data/label 나누기 - 종속 변수/독립변수 나누기\n",
    "x = df1.values[:, :-1]\n",
    "y = df1.values[:, -1]\n",
    "x,y"
   ]
  },
  {
   "cell_type": "code",
   "execution_count": 17,
   "id": "65c6ad33-f956-47e4-ae26-a7829faaae62",
   "metadata": {},
   "outputs": [
    {
     "name": "stdout",
     "output_type": "stream",
     "text": [
      "train_index :  [0 1 3 4 5 6 7 9]\n",
      "................................................................................\n",
      "test_index :  [2 8]\n",
      "================================================================================\n",
      "train_index :  [0 1 2 3 5 6 7 8]\n",
      "................................................................................\n",
      "test_index :  [4 9]\n",
      "================================================================================\n",
      "train_index :  [0 2 3 4 5 7 8 9]\n",
      "................................................................................\n",
      "test_index :  [1 6]\n",
      "================================================================================\n",
      "train_index :  [0 1 2 4 5 6 8 9]\n",
      "................................................................................\n",
      "test_index :  [3 7]\n",
      "================================================================================\n",
      "train_index :  [1 2 3 4 6 7 8 9]\n",
      "................................................................................\n",
      "test_index :  [0 5]\n",
      "================================================================================\n"
     ]
    }
   ],
   "source": [
    "from sklearn.model_selection import KFold\n",
    "\n",
    "cv = KFold(n_splits=5, shuffle=True, random_state=0)\n",
    "\n",
    "for train_index, test_index in cv.split(x):\n",
    "    print('train_index : ', train_index)\n",
    "    print(\".\"*80)\n",
    "    print('test_index : ', test_index)   # 테스트 이거 쓸거\n",
    "    print('='*80)"
   ]
  },
  {
   "cell_type": "code",
   "execution_count": 19,
   "id": "e8566c2f-1fbc-44e2-9557-0ce439d26ea3",
   "metadata": {},
   "outputs": [
    {
     "data": {
      "text/plain": [
       "<generator object _BaseKFold.split at 0x000001E779A4AF80>"
      ]
     },
     "execution_count": 19,
     "metadata": {},
     "output_type": "execute_result"
    }
   ],
   "source": [
    " cv.split(x)\n",
    "\n",
    "# split ??"
   ]
  },
  {
   "cell_type": "markdown",
   "id": "fe42a4e3-5abb-4c22-acc1-4e8026538389",
   "metadata": {},
   "source": [
    "## **[실습과제] iris 데이터 - K Fold**\n",
    "### **1. iris 데이터 세트 교차검증, 예측 정확도 확인**\n",
    "#### 1) Fold 5개로 구분 (3 데이터 세트 구분)"
   ]
  },
  {
   "cell_type": "code",
   "execution_count": 20,
   "id": "5f87b530-843e-4a91-8393-3c1b822100cb",
   "metadata": {},
   "outputs": [
    {
     "name": "stdout",
     "output_type": "stream",
     "text": [
      "iris data set size :  150\n"
     ]
    }
   ],
   "source": [
    "from sklearn.tree import DecisionTreeClassifier\n",
    "from sklearn.metrics import accuracy_score\n",
    "from sklearn.model_selection import KFold\n",
    "import numpy as np\n",
    "from sklearn.datasets import load_iris\n",
    "\n",
    "iris = load_iris()\n",
    "features = iris.data\n",
    "label = iris.target\n",
    "\n",
    "dt_clf = DecisionTreeClassifier(random_state=156)\n",
    "\n",
    "# 5개의 fold세트로 분리\n",
    "kfold = KFold(n_splits=5) # KFold 객체\n",
    "cv_accuracy = [] # fold별 정확도를 담을 리스트 객체\n",
    "print('iris data set size : ', features.shape[0])\n"
   ]
  },
  {
   "cell_type": "markdown",
   "id": "f6f41a59-ef7f-4f73-9698-c8245aed4301",
   "metadata": {},
   "source": [
    "#### 2) 5개 fold 교차검증 - 교차검증 때마다 학습/검증 반복 + 예측 정확도 측정"
   ]
  },
  {
   "cell_type": "code",
   "execution_count": 25,
   "id": "1a2aa953-f37d-4deb-ac1a-5799252484f2",
   "metadata": {
    "scrolled": true
   },
   "outputs": [
    {
     "name": "stdout",
     "output_type": "stream",
     "text": [
      "1 교차 검증 정확도 : 1.0, 학습 데이터 크기: 120, 검증 데이터 크기: 30\n",
      "\n",
      "1 검증 세트 인덱스 : [ 0  1  2  3  4  5  6  7  8  9 10 11 12 13 14 15 16 17 18 19 20 21 22 23\n",
      " 24 25 26 27 28 29]\n",
      "2 교차 검증 정확도 : 0.9666666666666667, 학습 데이터 크기: 120, 검증 데이터 크기: 30\n",
      "\n",
      "2 검증 세트 인덱스 : [30 31 32 33 34 35 36 37 38 39 40 41 42 43 44 45 46 47 48 49 50 51 52 53\n",
      " 54 55 56 57 58 59]\n",
      "3 교차 검증 정확도 : 0.8666666666666667, 학습 데이터 크기: 120, 검증 데이터 크기: 30\n",
      "\n",
      "3 검증 세트 인덱스 : [60 61 62 63 64 65 66 67 68 69 70 71 72 73 74 75 76 77 78 79 80 81 82 83\n",
      " 84 85 86 87 88 89]\n",
      "4 교차 검증 정확도 : 0.9333333333333333, 학습 데이터 크기: 120, 검증 데이터 크기: 30\n",
      "\n",
      "4 검증 세트 인덱스 : [ 90  91  92  93  94  95  96  97  98  99 100 101 102 103 104 105 106 107\n",
      " 108 109 110 111 112 113 114 115 116 117 118 119]\n",
      "5 교차 검증 정확도 : 0.7333333333333333, 학습 데이터 크기: 120, 검증 데이터 크기: 30\n",
      "\n",
      "5 검증 세트 인덱스 : [120 121 122 123 124 125 126 127 128 129 130 131 132 133 134 135 136 137\n",
      " 138 139 140 141 142 143 144 145 146 147 148 149]\n",
      "\n",
      "평균 검증 겅확도:  0.9\n"
     ]
    }
   ],
   "source": [
    "n_iter = 0 \n",
    "\n",
    "# KFold객체 split(): Fold별 학습/검증용 테스트의 row index 리턴 (array형태)\n",
    "for train_index, test_index in kfold.split(features):\n",
    "    # train/validation test data 추출\n",
    "    x_train, x_test = features[train_index], features[test_index] # 이번 회차 Fold에서 train/test데이터 분리\n",
    "    y_train, y_test = label[train_index], label[test_index]\n",
    "\n",
    "    # train/estimate\n",
    "    dt_clf.fit(x_train, y_train) # train\n",
    "    pred = dt_clf.predict(x_test)  # test 데이터 넣고 예측\n",
    "    n_iter += 1 \n",
    "\n",
    "    # 반복 시 마다 정확도 측정\n",
    "   # accuracy = np.round(accuracy_score(y_test, pred), 4)\n",
    "    accuracy = accuracy_score(y_test, pred)\n",
    "\n",
    "    train_size = x_train.shape[0]\n",
    "    test_size = x_test.shape[0]\n",
    "    print('{0} 교차 검증 정확도 : {1}, 학습 데이터 크기: {2}, 검증 데이터 크기: {3}\\n'.format(n_iter, accuracy, train_size, test_size))\n",
    "    print('{0} 검증 세트 인덱스 : {1}'.format(n_iter, test_index))\n",
    "\n",
    "    cv_accuracy.append(accuracy)\n",
    "\n",
    "print('\\n평균 검증 겅확도: ', np.mean(cv_accuracy))\n",
    "    \n",
    "    "
   ]
  },
  {
   "cell_type": "markdown",
   "id": "6974e3c1-9840-498d-bb81-bf43f92acbbc",
   "metadata": {},
   "source": [
    "### **3.cross_val_score()로 교차검증 더 간편하게 진행**\n",
    "- 교차검증 fold 수 : 5\n",
    "- 성능 평가 지표 : accuracy"
   ]
  },
  {
   "cell_type": "code",
   "execution_count": 30,
   "id": "3a0805ce-7e94-4509-b4eb-06251658b65a",
   "metadata": {},
   "outputs": [
    {
     "name": "stdout",
     "output_type": "stream",
     "text": [
      "교차 검증별 정확도 :  [0.96666667 0.96666667 0.9        0.96666667 1.        ]\n",
      "\n",
      "평균 검증 정확도:  0.9600000000000002\n"
     ]
    }
   ],
   "source": [
    "from sklearn.tree import DecisionTreeClassifier\n",
    "from sklearn.model_selection import cross_val_score, cross_validate\n",
    "from sklearn.datasets import load_iris\n",
    "import numpy as np\n",
    "\n",
    "iris_data = load_iris()\n",
    "dt_clf = DecisionTreeClassifier(random_state=156)\n",
    "\n",
    "data = iris_data.data\n",
    "label = iris_data.target\n",
    "\n",
    "# 위에보다 간단하게 \n",
    "# cross_val_score(model, data, 정답, scoring, cv=fold수)\n",
    "scores = cross_val_score(dt_clf, data, label, scoring='accuracy', cv=5)\n",
    "print('교차 검증별 정확도 : ', scores)\n",
    "print('\\n평균 검증 정확도: ', np.mean(scores))"
   ]
  },
  {
   "cell_type": "markdown",
   "id": "4ba2f88c-9d7a-4125-b363-4900d77796f9",
   "metadata": {},
   "source": [
    "- 거의 필수로 진행하는 느낌\n",
    "- 다행히도 scikit learn에서 간단한 함수 제공..."
   ]
  },
  {
   "cell_type": "code",
   "execution_count": null,
   "id": "b208f240-0a56-4046-9566-b7dd432bfe83",
   "metadata": {},
   "outputs": [],
   "source": []
  }
 ],
 "metadata": {
  "kernelspec": {
   "display_name": "Python 3 (ipykernel)",
   "language": "python",
   "name": "python3"
  },
  "language_info": {
   "codemirror_mode": {
    "name": "ipython",
    "version": 3
   },
   "file_extension": ".py",
   "mimetype": "text/x-python",
   "name": "python",
   "nbconvert_exporter": "python",
   "pygments_lexer": "ipython3",
   "version": "3.11.8"
  }
 },
 "nbformat": 4,
 "nbformat_minor": 5
}

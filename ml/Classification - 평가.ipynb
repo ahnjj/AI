{
 "cells": [
  {
   "cell_type": "markdown",
   "id": "a6875a5c-2215-42cf-bacf-d19416b7c053",
   "metadata": {},
   "source": [
    "## 분류 모델 비교"
   ]
  },
  {
   "cell_type": "code",
   "execution_count": 1,
   "id": "1eb90387-1249-4ceb-8151-9cbdc95317f3",
   "metadata": {},
   "outputs": [],
   "source": [
    "# data load\n",
    "from sklearn import datasets\n",
    "from sklearn.model_selection import train_test_split\n",
    "\n",
    "iris = datasets.load_iris()\n",
    "iris_x = iris.data\n",
    "iris_y = iris.target\n",
    "\n",
    "x_train, x_test, y_train, y_test = train_test_split(iris_x, iris_y, test_size = 0.2, random_state = 0)"
   ]
  },
  {
   "cell_type": "markdown",
   "id": "1e9cb46f-de2f-41ed-8aad-9b5b474c8304",
   "metadata": {},
   "source": [
    "### **1) Decision Tree**"
   ]
  },
  {
   "cell_type": "code",
   "execution_count": 3,
   "id": "6c1b76ad-5e04-4882-9633-ce9ecaeaed36",
   "metadata": {},
   "outputs": [
    {
     "data": {
      "text/plain": [
       "1.0"
      ]
     },
     "execution_count": 3,
     "metadata": {},
     "output_type": "execute_result"
    }
   ],
   "source": [
    "result = dict()\n",
    "\n",
    "from sklearn.tree import DecisionTreeClassifier\n",
    "\n",
    "clf = DecisionTreeClassifier(random_state=0)\n",
    "clf.fit(x_train, y_train)\n",
    "result['Decision Tree'] = clf.score(x_test, y_test)\n",
    "result['Decision Tree']"
   ]
  },
  {
   "cell_type": "code",
   "execution_count": 4,
   "id": "78dfd62d-0b4e-4b3b-a227-8abd58da63df",
   "metadata": {},
   "outputs": [
    {
     "data": {
      "text/plain": [
       "{'Decision Tree': 1.0}"
      ]
     },
     "execution_count": 4,
     "metadata": {},
     "output_type": "execute_result"
    }
   ],
   "source": [
    "result"
   ]
  },
  {
   "cell_type": "markdown",
   "id": "e11737c7-39cb-4280-8325-cf39ae865fcc",
   "metadata": {},
   "source": [
    "### **2) NaiveBayes**\n",
    "- 비정형(글자데이터에 유능?)"
   ]
  },
  {
   "cell_type": "code",
   "execution_count": 6,
   "id": "2dc555a7-c882-4100-9a1e-29de2649192d",
   "metadata": {},
   "outputs": [
    {
     "data": {
      "text/plain": [
       "0.9666666666666667"
      ]
     },
     "execution_count": 6,
     "metadata": {},
     "output_type": "execute_result"
    }
   ],
   "source": [
    "from sklearn.naive_bayes import GaussianNB\n",
    "\n",
    "clf = GaussianNB()\n",
    "clf.fit(x_train, y_train)\n",
    "result['GaussianNB'] = clf.score(x_test, y_test)\n",
    "result['GaussianNB']"
   ]
  },
  {
   "cell_type": "markdown",
   "id": "c83a8c8e-de4e-4a9e-bf7a-10f05fdf769d",
   "metadata": {},
   "source": [
    "### **3)K-NN**"
   ]
  },
  {
   "cell_type": "code",
   "execution_count": 7,
   "id": "bb8a4ea7-a0bd-49fd-ab3a-695ebfb50ee0",
   "metadata": {},
   "outputs": [
    {
     "data": {
      "text/plain": [
       "0.9666666666666667"
      ]
     },
     "execution_count": 7,
     "metadata": {},
     "output_type": "execute_result"
    }
   ],
   "source": [
    "from sklearn.neighbors import KNeighborsClassifier\n",
    "\n",
    "clf = KNeighborsClassifier()\n",
    "clf.fit(x_train, y_train)\n",
    "result['KNN'] = clf.score(x_test, y_test)\n",
    "result['KNN']"
   ]
  },
  {
   "cell_type": "markdown",
   "id": "ef754906-b20b-47a2-8c17-616e7c8ff68e",
   "metadata": {},
   "source": [
    "### **4)Logistic Regression**"
   ]
  },
  {
   "cell_type": "code",
   "execution_count": 8,
   "id": "dd964ea0-5006-4bd5-a858-f3f44032d17d",
   "metadata": {},
   "outputs": [
    {
     "data": {
      "text/plain": [
       "1.0"
      ]
     },
     "execution_count": 8,
     "metadata": {},
     "output_type": "execute_result"
    }
   ],
   "source": [
    "from sklearn.linear_model import LogisticRegression\n",
    "\n",
    "clf = LogisticRegression()\n",
    "clf.fit(x_train, y_train)\n",
    "result['LR'] = clf.score(x_test, y_test)\n",
    "result['LR']"
   ]
  },
  {
   "cell_type": "markdown",
   "id": "a13e16fb-65dd-443e-9b64-644f0a8d5eb3",
   "metadata": {},
   "source": [
    "### **5)SVC**"
   ]
  },
  {
   "cell_type": "code",
   "execution_count": 9,
   "id": "5032b858-f31d-404b-9d99-d50edc72d4ce",
   "metadata": {},
   "outputs": [
    {
     "data": {
      "text/plain": [
       "1.0"
      ]
     },
     "execution_count": 9,
     "metadata": {},
     "output_type": "execute_result"
    }
   ],
   "source": [
    "from sklearn.svm import SVC\n",
    "\n",
    "clf = SVC()\n",
    "clf.fit(x_train, y_train)\n",
    "result['SVC'] = clf.score(x_test, y_test)\n",
    "result['SVC']"
   ]
  },
  {
   "cell_type": "markdown",
   "id": "7959a9a9-61f9-4d95-9819-71cb59551143",
   "metadata": {},
   "source": [
    "### **6)RandomForest**"
   ]
  },
  {
   "cell_type": "code",
   "execution_count": 10,
   "id": "fb692718-411d-4f77-9606-9b699a8cc3ac",
   "metadata": {},
   "outputs": [
    {
     "data": {
      "text/plain": [
       "1.0"
      ]
     },
     "execution_count": 10,
     "metadata": {},
     "output_type": "execute_result"
    }
   ],
   "source": [
    "from sklearn.ensemble import RandomForestClassifier\n",
    "\n",
    "clf = RandomForestClassifier()\n",
    "clf.fit(x_train, y_train)\n",
    "result['RandomForestClassifier'] = clf.score(x_test, y_test)\n",
    "result['RandomForestClassifier']"
   ]
  },
  {
   "cell_type": "markdown",
   "id": "4c091211-e4aa-44b6-b6cc-b67ad2c2ad43",
   "metadata": {},
   "source": [
    "### **7)Boosting**"
   ]
  },
  {
   "cell_type": "code",
   "execution_count": 11,
   "id": "e2ed5539-a149-4db9-b72f-eee28c36cfeb",
   "metadata": {},
   "outputs": [
    {
     "data": {
      "text/plain": [
       "1.0"
      ]
     },
     "execution_count": 11,
     "metadata": {},
     "output_type": "execute_result"
    }
   ],
   "source": [
    "from sklearn.ensemble import GradientBoostingClassifier\n",
    "\n",
    "clf = GradientBoostingClassifier()\n",
    "clf.fit(x_train, y_train)\n",
    "result['GradientBoostingClassifier'] = clf.score(x_test, y_test)\n",
    "result['GradientBoostingClassifier']"
   ]
  },
  {
   "cell_type": "markdown",
   "id": "7a298b48-effe-4b94-9141-8e9b24544544",
   "metadata": {},
   "source": [
    "### **8)xgboost**"
   ]
  },
  {
   "cell_type": "code",
   "execution_count": 14,
   "id": "cedbf37f-4329-4f2c-bf2e-e4f7b8df8aa6",
   "metadata": {},
   "outputs": [
    {
     "data": {
      "text/plain": [
       "1.0"
      ]
     },
     "execution_count": 14,
     "metadata": {},
     "output_type": "execute_result"
    }
   ],
   "source": [
    "from xgboost import XGBClassifier\n",
    "\n",
    "clf = XGBClassifier()\n",
    "clf.fit(x_train, y_train)\n",
    "result['XGBClassifier'] = clf.score(x_test, y_test)\n",
    "result['XGBClassifier']"
   ]
  },
  {
   "cell_type": "markdown",
   "id": "efc25cd0-8b25-4d4c-a697-121225bac151",
   "metadata": {},
   "source": [
    "## 분류모델 성능평가 비교"
   ]
  },
  {
   "cell_type": "code",
   "execution_count": 15,
   "id": "f57a338d-5ddd-439b-a900-c818b37f0635",
   "metadata": {},
   "outputs": [
    {
     "data": {
      "text/plain": [
       "{'Decision Tree': 1.0,\n",
       " 'GaussianNB': 0.9666666666666667,\n",
       " 'KNN': 0.9666666666666667,\n",
       " 'LR': 1.0,\n",
       " 'SVC': 1.0,\n",
       " 'RandomForestClassifier': 1.0,\n",
       " 'GradientBoostingClassifier': 1.0,\n",
       " 'XGBClassifier': 1.0}"
      ]
     },
     "execution_count": 15,
     "metadata": {},
     "output_type": "execute_result"
    }
   ],
   "source": [
    "result"
   ]
  },
  {
   "cell_type": "code",
   "execution_count": null,
   "id": "1ac5139d-6afe-43fb-b8ee-333f322fc718",
   "metadata": {},
   "outputs": [],
   "source": []
  },
  {
   "cell_type": "code",
   "execution_count": null,
   "id": "5104f82f-6470-4c13-801a-c0eb3dc40635",
   "metadata": {},
   "outputs": [],
   "source": []
  },
  {
   "cell_type": "code",
   "execution_count": null,
   "id": "601e793a-8593-420a-bb73-7c0a023b471c",
   "metadata": {},
   "outputs": [],
   "source": []
  },
  {
   "cell_type": "code",
   "execution_count": null,
   "id": "3243ac78-2f1c-40fa-8175-7c9e5d8bde7a",
   "metadata": {},
   "outputs": [],
   "source": []
  }
 ],
 "metadata": {
  "kernelspec": {
   "display_name": "Python 3 (ipykernel)",
   "language": "python",
   "name": "python3"
  },
  "language_info": {
   "codemirror_mode": {
    "name": "ipython",
    "version": 3
   },
   "file_extension": ".py",
   "mimetype": "text/x-python",
   "name": "python",
   "nbconvert_exporter": "python",
   "pygments_lexer": "ipython3",
   "version": "3.11.8"
  }
 },
 "nbformat": 4,
 "nbformat_minor": 5
}
